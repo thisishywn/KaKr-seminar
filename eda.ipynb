{
 "cells": [
  {
   "cell_type": "code",
   "execution_count": 1,
   "metadata": {
    "execution": {
     "iopub.execute_input": "2022-06-17T15:23:30.747084Z",
     "iopub.status.busy": "2022-06-17T15:23:30.746268Z",
     "iopub.status.idle": "2022-06-17T15:23:41.297032Z",
     "shell.execute_reply": "2022-06-17T15:23:41.295963Z",
     "shell.execute_reply.started": "2022-06-17T15:21:50.011206Z"
    },
    "papermill": {
     "duration": 10.579406,
     "end_time": "2022-06-17T15:23:41.297226",
     "exception": false,
     "start_time": "2022-06-17T15:23:30.717820",
     "status": "completed"
    },
    "tags": []
   },
   "outputs": [
    {
     "name": "stdout",
     "output_type": "stream",
     "text": [
      "Collecting seaborn==0.11\r\n",
      "  Downloading seaborn-0.11.0-py3-none-any.whl (283 kB)\r\n",
      "\u001b[K     |████████████████████████████████| 283 kB 929 kB/s \r\n",
      "\u001b[?25hRequirement already satisfied: scipy>=1.0 in /opt/conda/lib/python3.7/site-packages (from seaborn==0.11) (1.4.1)\r\n",
      "Requirement already satisfied: numpy>=1.15 in /opt/conda/lib/python3.7/site-packages (from seaborn==0.11) (1.18.5)\r\n",
      "Requirement already satisfied: matplotlib>=2.2 in /opt/conda/lib/python3.7/site-packages (from seaborn==0.11) (3.2.1)\r\n",
      "Requirement already satisfied: pandas>=0.23 in /opt/conda/lib/python3.7/site-packages (from seaborn==0.11) (1.1.3)\r\n",
      "Requirement already satisfied: kiwisolver>=1.0.1 in /opt/conda/lib/python3.7/site-packages (from matplotlib>=2.2->seaborn==0.11) (1.2.0)\r\n",
      "Requirement already satisfied: pyparsing!=2.0.4,!=2.1.2,!=2.1.6,>=2.0.1 in /opt/conda/lib/python3.7/site-packages (from matplotlib>=2.2->seaborn==0.11) (2.4.7)\r\n",
      "Requirement already satisfied: cycler>=0.10 in /opt/conda/lib/python3.7/site-packages (from matplotlib>=2.2->seaborn==0.11) (0.10.0)\r\n",
      "Requirement already satisfied: python-dateutil>=2.1 in /opt/conda/lib/python3.7/site-packages (from matplotlib>=2.2->seaborn==0.11) (2.8.1)\r\n",
      "Requirement already satisfied: pytz>=2017.2 in /opt/conda/lib/python3.7/site-packages (from pandas>=0.23->seaborn==0.11) (2019.3)\r\n",
      "Requirement already satisfied: six in /opt/conda/lib/python3.7/site-packages (from cycler>=0.10->matplotlib>=2.2->seaborn==0.11) (1.14.0)\r\n",
      "Installing collected packages: seaborn\r\n",
      "  Attempting uninstall: seaborn\r\n",
      "    Found existing installation: seaborn 0.10.0\r\n",
      "    Uninstalling seaborn-0.10.0:\r\n",
      "      Successfully uninstalled seaborn-0.10.0\r\n",
      "Successfully installed seaborn-0.11.0\r\n",
      "\u001b[33mWARNING: You are using pip version 20.2.4; however, version 22.1.2 is available.\r\n",
      "You should consider upgrading via the '/opt/conda/bin/python3.7 -m pip install --upgrade pip' command.\u001b[0m\r\n"
     ]
    }
   ],
   "source": [
    "!pip install seaborn==0.11"
   ]
  },
  {
   "cell_type": "code",
   "execution_count": 2,
   "metadata": {
    "_cell_guid": "b1076dfc-b9ad-4769-8c92-a6c4dae69d19",
    "_uuid": "8f2839f25d086af736a60e9eeb907d3b93b6e0e5",
    "execution": {
     "iopub.execute_input": "2022-06-17T15:23:41.357796Z",
     "iopub.status.busy": "2022-06-17T15:23:41.356998Z",
     "iopub.status.idle": "2022-06-17T15:23:42.374836Z",
     "shell.execute_reply": "2022-06-17T15:23:42.373975Z",
     "shell.execute_reply.started": "2022-06-17T15:21:58.142624Z"
    },
    "papermill": {
     "duration": 1.050649,
     "end_time": "2022-06-17T15:23:42.374999",
     "exception": false,
     "start_time": "2022-06-17T15:23:41.324350",
     "status": "completed"
    },
    "tags": []
   },
   "outputs": [
    {
     "name": "stdout",
     "output_type": "stream",
     "text": [
      "/kaggle/input/kakr-4th-competition/sample_submission.csv\n",
      "/kaggle/input/kakr-4th-competition/train.csv\n",
      "/kaggle/input/kakr-4th-competition/test.csv\n"
     ]
    }
   ],
   "source": [
    "import numpy as np\n",
    "import pandas as pd\n",
    "import matplotlib as mpl\n",
    "import matplotlib.pyplot as plt\n",
    "import seaborn as sns\n",
    "\n",
    "import os\n",
    "for dirname, _, filenames in os.walk('/kaggle/input'):\n",
    "    for filename in filenames:\n",
    "        print(os.path.join(dirname, filename))"
   ]
  },
  {
   "cell_type": "code",
   "execution_count": 3,
   "metadata": {
    "_cell_guid": "79c7e3d0-c299-4dcb-8224-4455121ee9b0",
    "_uuid": "d629ff2d2480ee46fbb7e2d37f6b5fab8052498a",
    "execution": {
     "iopub.execute_input": "2022-06-17T15:23:42.435283Z",
     "iopub.status.busy": "2022-06-17T15:23:42.434475Z",
     "iopub.status.idle": "2022-06-17T15:23:42.563236Z",
     "shell.execute_reply": "2022-06-17T15:23:42.563864Z",
     "shell.execute_reply.started": "2022-06-17T15:21:58.882198Z"
    },
    "papermill": {
     "duration": 0.163308,
     "end_time": "2022-06-17T15:23:42.564089",
     "exception": false,
     "start_time": "2022-06-17T15:23:42.400781",
     "status": "completed"
    },
    "tags": []
   },
   "outputs": [],
   "source": [
    "train = pd.read_csv('/kaggle/input/kakr-4th-competition/train.csv')"
   ]
  },
  {
   "cell_type": "code",
   "execution_count": 4,
   "metadata": {
    "execution": {
     "iopub.execute_input": "2022-06-17T15:23:42.619138Z",
     "iopub.status.busy": "2022-06-17T15:23:42.618439Z",
     "iopub.status.idle": "2022-06-17T15:23:42.654348Z",
     "shell.execute_reply": "2022-06-17T15:23:42.654879Z",
     "shell.execute_reply.started": "2022-06-17T15:21:59.998168Z"
    },
    "papermill": {
     "duration": 0.065238,
     "end_time": "2022-06-17T15:23:42.655084",
     "exception": false,
     "start_time": "2022-06-17T15:23:42.589846",
     "status": "completed"
    },
    "tags": []
   },
   "outputs": [
    {
     "data": {
      "text/html": [
       "<div>\n",
       "<style scoped>\n",
       "    .dataframe tbody tr th:only-of-type {\n",
       "        vertical-align: middle;\n",
       "    }\n",
       "\n",
       "    .dataframe tbody tr th {\n",
       "        vertical-align: top;\n",
       "    }\n",
       "\n",
       "    .dataframe thead th {\n",
       "        text-align: right;\n",
       "    }\n",
       "</style>\n",
       "<table border=\"1\" class=\"dataframe\">\n",
       "  <thead>\n",
       "    <tr style=\"text-align: right;\">\n",
       "      <th></th>\n",
       "      <th>id</th>\n",
       "      <th>age</th>\n",
       "      <th>workclass</th>\n",
       "      <th>fnlwgt</th>\n",
       "      <th>education</th>\n",
       "      <th>education_num</th>\n",
       "      <th>marital_status</th>\n",
       "      <th>occupation</th>\n",
       "      <th>relationship</th>\n",
       "      <th>race</th>\n",
       "      <th>sex</th>\n",
       "      <th>capital_gain</th>\n",
       "      <th>capital_loss</th>\n",
       "      <th>hours_per_week</th>\n",
       "      <th>native_country</th>\n",
       "      <th>income</th>\n",
       "    </tr>\n",
       "  </thead>\n",
       "  <tbody>\n",
       "    <tr>\n",
       "      <th>0</th>\n",
       "      <td>0</td>\n",
       "      <td>40</td>\n",
       "      <td>Private</td>\n",
       "      <td>168538</td>\n",
       "      <td>HS-grad</td>\n",
       "      <td>9</td>\n",
       "      <td>Married-civ-spouse</td>\n",
       "      <td>Sales</td>\n",
       "      <td>Husband</td>\n",
       "      <td>White</td>\n",
       "      <td>Male</td>\n",
       "      <td>0</td>\n",
       "      <td>0</td>\n",
       "      <td>60</td>\n",
       "      <td>United-States</td>\n",
       "      <td>&gt;50K</td>\n",
       "    </tr>\n",
       "    <tr>\n",
       "      <th>1</th>\n",
       "      <td>1</td>\n",
       "      <td>17</td>\n",
       "      <td>Private</td>\n",
       "      <td>101626</td>\n",
       "      <td>9th</td>\n",
       "      <td>5</td>\n",
       "      <td>Never-married</td>\n",
       "      <td>Machine-op-inspct</td>\n",
       "      <td>Own-child</td>\n",
       "      <td>White</td>\n",
       "      <td>Male</td>\n",
       "      <td>0</td>\n",
       "      <td>0</td>\n",
       "      <td>20</td>\n",
       "      <td>United-States</td>\n",
       "      <td>&lt;=50K</td>\n",
       "    </tr>\n",
       "    <tr>\n",
       "      <th>2</th>\n",
       "      <td>2</td>\n",
       "      <td>18</td>\n",
       "      <td>Private</td>\n",
       "      <td>353358</td>\n",
       "      <td>Some-college</td>\n",
       "      <td>10</td>\n",
       "      <td>Never-married</td>\n",
       "      <td>Other-service</td>\n",
       "      <td>Own-child</td>\n",
       "      <td>White</td>\n",
       "      <td>Male</td>\n",
       "      <td>0</td>\n",
       "      <td>0</td>\n",
       "      <td>16</td>\n",
       "      <td>United-States</td>\n",
       "      <td>&lt;=50K</td>\n",
       "    </tr>\n",
       "    <tr>\n",
       "      <th>3</th>\n",
       "      <td>3</td>\n",
       "      <td>21</td>\n",
       "      <td>Private</td>\n",
       "      <td>151158</td>\n",
       "      <td>Some-college</td>\n",
       "      <td>10</td>\n",
       "      <td>Never-married</td>\n",
       "      <td>Prof-specialty</td>\n",
       "      <td>Own-child</td>\n",
       "      <td>White</td>\n",
       "      <td>Female</td>\n",
       "      <td>0</td>\n",
       "      <td>0</td>\n",
       "      <td>25</td>\n",
       "      <td>United-States</td>\n",
       "      <td>&lt;=50K</td>\n",
       "    </tr>\n",
       "    <tr>\n",
       "      <th>4</th>\n",
       "      <td>4</td>\n",
       "      <td>24</td>\n",
       "      <td>Private</td>\n",
       "      <td>122234</td>\n",
       "      <td>Some-college</td>\n",
       "      <td>10</td>\n",
       "      <td>Never-married</td>\n",
       "      <td>Adm-clerical</td>\n",
       "      <td>Not-in-family</td>\n",
       "      <td>Black</td>\n",
       "      <td>Female</td>\n",
       "      <td>0</td>\n",
       "      <td>0</td>\n",
       "      <td>20</td>\n",
       "      <td>?</td>\n",
       "      <td>&lt;=50K</td>\n",
       "    </tr>\n",
       "  </tbody>\n",
       "</table>\n",
       "</div>"
      ],
      "text/plain": [
       "   id  age workclass  fnlwgt     education  education_num      marital_status  \\\n",
       "0   0   40   Private  168538       HS-grad              9  Married-civ-spouse   \n",
       "1   1   17   Private  101626           9th              5       Never-married   \n",
       "2   2   18   Private  353358  Some-college             10       Never-married   \n",
       "3   3   21   Private  151158  Some-college             10       Never-married   \n",
       "4   4   24   Private  122234  Some-college             10       Never-married   \n",
       "\n",
       "          occupation   relationship   race     sex  capital_gain  \\\n",
       "0              Sales        Husband  White    Male             0   \n",
       "1  Machine-op-inspct      Own-child  White    Male             0   \n",
       "2      Other-service      Own-child  White    Male             0   \n",
       "3     Prof-specialty      Own-child  White  Female             0   \n",
       "4       Adm-clerical  Not-in-family  Black  Female             0   \n",
       "\n",
       "   capital_loss  hours_per_week native_country income  \n",
       "0             0              60  United-States   >50K  \n",
       "1             0              20  United-States  <=50K  \n",
       "2             0              16  United-States  <=50K  \n",
       "3             0              25  United-States  <=50K  \n",
       "4             0              20              ?  <=50K  "
      ]
     },
     "execution_count": 4,
     "metadata": {},
     "output_type": "execute_result"
    }
   ],
   "source": [
    "train.head()"
   ]
  },
  {
   "cell_type": "code",
   "execution_count": 5,
   "metadata": {
    "execution": {
     "iopub.execute_input": "2022-06-17T15:23:42.711997Z",
     "iopub.status.busy": "2022-06-17T15:23:42.711115Z",
     "iopub.status.idle": "2022-06-17T15:23:42.718165Z",
     "shell.execute_reply": "2022-06-17T15:23:42.717481Z",
     "shell.execute_reply.started": "2022-06-17T15:22:03.554866Z"
    },
    "papermill": {
     "duration": 0.036956,
     "end_time": "2022-06-17T15:23:42.718334",
     "exception": false,
     "start_time": "2022-06-17T15:23:42.681378",
     "status": "completed"
    },
    "tags": []
   },
   "outputs": [
    {
     "name": "stdout",
     "output_type": "stream",
     "text": [
      "0.11.0\n"
     ]
    }
   ],
   "source": [
    "print(sns.__version__)"
   ]
  },
  {
   "cell_type": "code",
   "execution_count": 6,
   "metadata": {
    "execution": {
     "iopub.execute_input": "2022-06-17T15:23:42.776591Z",
     "iopub.status.busy": "2022-06-17T15:23:42.775903Z",
     "iopub.status.idle": "2022-06-17T15:23:42.782340Z",
     "shell.execute_reply": "2022-06-17T15:23:42.783023Z",
     "shell.execute_reply.started": "2022-06-17T15:22:04.099401Z"
    },
    "papermill": {
     "duration": 0.037919,
     "end_time": "2022-06-17T15:23:42.783203",
     "exception": false,
     "start_time": "2022-06-17T15:23:42.745284",
     "status": "completed"
    },
    "tags": []
   },
   "outputs": [
    {
     "name": "stdout",
     "output_type": "stream",
     "text": [
      "Index(['id', 'age', 'workclass', 'fnlwgt', 'education', 'education_num',\n",
      "       'marital_status', 'occupation', 'relationship', 'race', 'sex',\n",
      "       'capital_gain', 'capital_loss', 'hours_per_week', 'native_country',\n",
      "       'income'],\n",
      "      dtype='object')\n"
     ]
    }
   ],
   "source": [
    "print(train.columns)"
   ]
  },
  {
   "cell_type": "code",
   "execution_count": 7,
   "metadata": {
    "execution": {
     "iopub.execute_input": "2022-06-17T15:23:42.840159Z",
     "iopub.status.busy": "2022-06-17T15:23:42.839472Z",
     "iopub.status.idle": "2022-06-17T15:23:42.886763Z",
     "shell.execute_reply": "2022-06-17T15:23:42.886144Z",
     "shell.execute_reply.started": "2022-06-17T15:22:05.309715Z"
    },
    "papermill": {
     "duration": 0.077061,
     "end_time": "2022-06-17T15:23:42.886926",
     "exception": false,
     "start_time": "2022-06-17T15:23:42.809865",
     "status": "completed"
    },
    "tags": []
   },
   "outputs": [
    {
     "name": "stdout",
     "output_type": "stream",
     "text": [
      "<class 'pandas.core.frame.DataFrame'>\n",
      "RangeIndex: 26049 entries, 0 to 26048\n",
      "Data columns (total 16 columns):\n",
      " #   Column          Non-Null Count  Dtype \n",
      "---  ------          --------------  ----- \n",
      " 0   id              26049 non-null  int64 \n",
      " 1   age             26049 non-null  int64 \n",
      " 2   workclass       26049 non-null  object\n",
      " 3   fnlwgt          26049 non-null  int64 \n",
      " 4   education       26049 non-null  object\n",
      " 5   education_num   26049 non-null  int64 \n",
      " 6   marital_status  26049 non-null  object\n",
      " 7   occupation      26049 non-null  object\n",
      " 8   relationship    26049 non-null  object\n",
      " 9   race            26049 non-null  object\n",
      " 10  sex             26049 non-null  object\n",
      " 11  capital_gain    26049 non-null  int64 \n",
      " 12  capital_loss    26049 non-null  int64 \n",
      " 13  hours_per_week  26049 non-null  int64 \n",
      " 14  native_country  26049 non-null  object\n",
      " 15  income          26049 non-null  object\n",
      "dtypes: int64(7), object(9)\n",
      "memory usage: 3.2+ MB\n"
     ]
    }
   ],
   "source": [
    "train.info()"
   ]
  },
  {
   "cell_type": "code",
   "execution_count": 8,
   "metadata": {
    "execution": {
     "iopub.execute_input": "2022-06-17T15:23:42.949100Z",
     "iopub.status.busy": "2022-06-17T15:23:42.948300Z",
     "iopub.status.idle": "2022-06-17T15:23:43.626196Z",
     "shell.execute_reply": "2022-06-17T15:23:43.626785Z",
     "shell.execute_reply.started": "2022-06-17T15:22:05.994891Z"
    },
    "papermill": {
     "duration": 0.711638,
     "end_time": "2022-06-17T15:23:43.626969",
     "exception": false,
     "start_time": "2022-06-17T15:23:42.915331",
     "status": "completed"
    },
    "tags": []
   },
   "outputs": [
    {
     "data": {
      "text/plain": [
       "<matplotlib.axes._subplots.AxesSubplot at 0x7f31b96c5090>"
      ]
     },
     "execution_count": 8,
     "metadata": {},
     "output_type": "execute_result"
    },
    {
     "data": {
      "image/png": "[encoded data removed]",
      "text/plain": [
       "<Figure size 1800x720 with 2 Axes>"
      ]
     },
     "metadata": {
      "needs_background": "light"
     },
     "output_type": "display_data"
    }
   ],
   "source": [
    "import missingno as msno\n",
    "\n",
    "msno.matrix(train)"
   ]
  },
  {
   "cell_type": "markdown",
   "metadata": {
    "papermill": {
     "duration": 0.028255,
     "end_time": "2022-06-17T15:23:43.686913",
     "exception": false,
     "start_time": "2022-06-17T15:23:43.658658",
     "status": "completed"
    },
    "tags": []
   },
   "source": [
    "['id', 'age', 'workclass', 'fnlwgt', 'education', 'education_num',\n",
    "       'marital_status', 'occupation', 'relationship', 'race', 'sex',\n",
    "       'capital_gain', 'capital_loss', 'hours_per_week', 'native_country',\n",
    "       'income']"
   ]
  },
  {
   "cell_type": "code",
   "execution_count": 9,
   "metadata": {
    "execution": {
     "iopub.execute_input": "2022-06-17T15:23:43.749992Z",
     "iopub.status.busy": "2022-06-17T15:23:43.748974Z",
     "iopub.status.idle": "2022-06-17T15:23:43.763998Z",
     "shell.execute_reply": "2022-06-17T15:23:43.764621Z",
     "shell.execute_reply.started": "2022-06-17T15:22:14.539311Z"
    },
    "papermill": {
     "duration": 0.049003,
     "end_time": "2022-06-17T15:23:43.764790",
     "exception": false,
     "start_time": "2022-06-17T15:23:43.715787",
     "status": "completed"
    },
    "tags": []
   },
   "outputs": [
    {
     "data": {
      "text/plain": [
       "Private             18123\n",
       "Self-emp-not-inc     2030\n",
       "Local-gov            1692\n",
       "?                    1502\n",
       "State-gov            1043\n",
       "Self-emp-inc          877\n",
       "Federal-gov           765\n",
       "Without-pay            11\n",
       "Never-worked            6\n",
       "Name: workclass, dtype: int64"
      ]
     },
     "execution_count": 9,
     "metadata": {},
     "output_type": "execute_result"
    }
   ],
   "source": [
    "train['workclass'].value_counts()"
   ]
  },
  {
   "cell_type": "code",
   "execution_count": 10,
   "metadata": {
    "execution": {
     "iopub.execute_input": "2022-06-17T15:23:43.826665Z",
     "iopub.status.busy": "2022-06-17T15:23:43.825622Z",
     "iopub.status.idle": "2022-06-17T15:23:44.031076Z",
     "shell.execute_reply": "2022-06-17T15:23:44.031637Z",
     "shell.execute_reply.started": "2022-06-17T15:22:15.670936Z"
    },
    "papermill": {
     "duration": 0.238288,
     "end_time": "2022-06-17T15:23:44.031806",
     "exception": false,
     "start_time": "2022-06-17T15:23:43.793518",
     "status": "completed"
    },
    "tags": []
   },
   "outputs": [
    {
     "data": {
      "image/png": "[encoded data removed]",
      "text/plain": [
       "<Figure size 864x360 with 1 Axes>"
      ]
     },
     "metadata": {
      "needs_background": "light"
     },
     "output_type": "display_data"
    }
   ],
   "source": [
    "fig, ax = plt.subplots(1, 1, figsize=(12, 5))\n",
    "sns.countplot(data=train, x='workclass', ax=ax)\n",
    "plt.show()"
   ]
  },
  {
   "cell_type": "code",
   "execution_count": 11,
   "metadata": {
    "execution": {
     "iopub.execute_input": "2022-06-17T15:23:44.096960Z",
     "iopub.status.busy": "2022-06-17T15:23:44.095964Z",
     "iopub.status.idle": "2022-06-17T15:23:44.362309Z",
     "shell.execute_reply": "2022-06-17T15:23:44.362890Z",
     "shell.execute_reply.started": "2022-06-17T15:22:20.891895Z"
    },
    "papermill": {
     "duration": 0.301304,
     "end_time": "2022-06-17T15:23:44.363104",
     "exception": false,
     "start_time": "2022-06-17T15:23:44.061800",
     "status": "completed"
    },
    "tags": []
   },
   "outputs": [
    {
     "data": {
      "image/png": "[encoded data removed]",
      "text/plain": [
       "<Figure size 864x360 with 1 Axes>"
      ]
     },
     "metadata": {
      "needs_background": "light"
     },
     "output_type": "display_data"
    }
   ],
   "source": [
    "fig, ax = plt.subplots(1, 1, figsize=(12, 5))\n",
    "sns.countplot(data=train, x='race', ax=ax, hue='sex')\n",
    "plt.show()"
   ]
  },
  {
   "cell_type": "code",
   "execution_count": 12,
   "metadata": {
    "execution": {
     "iopub.execute_input": "2022-06-17T15:23:44.433436Z",
     "iopub.status.busy": "2022-06-17T15:23:44.432425Z",
     "iopub.status.idle": "2022-06-17T15:23:44.648383Z",
     "shell.execute_reply": "2022-06-17T15:23:44.647403Z",
     "shell.execute_reply.started": "2022-06-17T15:22:23.895048Z"
    },
    "papermill": {
     "duration": 0.254119,
     "end_time": "2022-06-17T15:23:44.648566",
     "exception": false,
     "start_time": "2022-06-17T15:23:44.394447",
     "status": "completed"
    },
    "tags": []
   },
   "outputs": [
    {
     "data": {
      "image/png": "[encoded data removed]",
      "text/plain": [
       "<Figure size 864x360 with 1 Axes>"
      ]
     },
     "metadata": {
      "needs_background": "light"
     },
     "output_type": "display_data"
    }
   ],
   "source": [
    "fig, ax = plt.subplots(1, 1, figsize=(12, 5))\n",
    "ax.hist(train['age'], width=3, edgecolor='black')\n",
    "ax.set_title('Age Distribution', fontweight='bold')\n",
    "plt.show()"
   ]
  },
  {
   "cell_type": "code",
   "execution_count": 13,
   "metadata": {
    "execution": {
     "iopub.execute_input": "2022-06-17T15:23:44.724943Z",
     "iopub.status.busy": "2022-06-17T15:23:44.724108Z",
     "iopub.status.idle": "2022-06-17T15:23:44.733568Z",
     "shell.execute_reply": "2022-06-17T15:23:44.732812Z",
     "shell.execute_reply.started": "2022-06-17T15:22:27.844070Z"
    },
    "papermill": {
     "duration": 0.047417,
     "end_time": "2022-06-17T15:23:44.733744",
     "exception": false,
     "start_time": "2022-06-17T15:23:44.686327",
     "status": "completed"
    },
    "tags": []
   },
   "outputs": [
    {
     "data": {
      "text/plain": [
       "31    712\n",
       "35    710\n",
       "23    706\n",
       "36    700\n",
       "34    697\n",
       "     ... \n",
       "83      5\n",
       "88      3\n",
       "85      2\n",
       "87      1\n",
       "86      1\n",
       "Name: age, Length: 73, dtype: int64"
      ]
     },
     "execution_count": 13,
     "metadata": {},
     "output_type": "execute_result"
    }
   ],
   "source": [
    "train['age'].value_counts()"
   ]
  },
  {
   "cell_type": "code",
   "execution_count": 14,
   "metadata": {
    "execution": {
     "iopub.execute_input": "2022-06-17T15:23:44.806983Z",
     "iopub.status.busy": "2022-06-17T15:23:44.806131Z",
     "iopub.status.idle": "2022-06-17T15:23:45.162796Z",
     "shell.execute_reply": "2022-06-17T15:23:45.162120Z",
     "shell.execute_reply.started": "2022-06-17T15:22:29.032958Z"
    },
    "papermill": {
     "duration": 0.396002,
     "end_time": "2022-06-17T15:23:45.162977",
     "exception": false,
     "start_time": "2022-06-17T15:23:44.766975",
     "status": "completed"
    },
    "tags": []
   },
   "outputs": [
    {
     "data": {
      "text/plain": [
       "<matplotlib.axes._subplots.AxesSubplot at 0x7f31b9fb6f90>"
      ]
     },
     "execution_count": 14,
     "metadata": {},
     "output_type": "execute_result"
    },
    {
     "data": {
      "image/png": "[encoded data removed]",
      "text/plain": [
       "<Figure size 432x288 with 1 Axes>"
      ]
     },
     "metadata": {
      "needs_background": "light"
     },
     "output_type": "display_data"
    }
   ],
   "source": [
    "sns.kdeplot(data=train, x='age')"
   ]
  },
  {
   "cell_type": "code",
   "execution_count": 15,
   "metadata": {
    "execution": {
     "iopub.execute_input": "2022-06-17T15:23:45.241374Z",
     "iopub.status.busy": "2022-06-17T15:23:45.240398Z",
     "iopub.status.idle": "2022-06-17T15:23:45.250568Z",
     "shell.execute_reply": "2022-06-17T15:23:45.251341Z",
     "shell.execute_reply.started": "2022-06-17T15:22:29.990823Z"
    },
    "papermill": {
     "duration": 0.054688,
     "end_time": "2022-06-17T15:23:45.251549",
     "exception": false,
     "start_time": "2022-06-17T15:23:45.196861",
     "status": "completed"
    },
    "tags": []
   },
   "outputs": [
    {
     "data": {
      "text/plain": [
       "0        1\n",
       "1        0\n",
       "2        0\n",
       "3        0\n",
       "4        0\n",
       "        ..\n",
       "26044    0\n",
       "26045    0\n",
       "26046    0\n",
       "26047    0\n",
       "26048    0\n",
       "Name: income, Length: 26049, dtype: int64"
      ]
     },
     "execution_count": 15,
     "metadata": {},
     "output_type": "execute_result"
    }
   ],
   "source": [
    "train['income'] = (train['income'] == '>50K').astype(int)\n",
    "train['income']"
   ]
  },
  {
   "cell_type": "code",
   "execution_count": 16,
   "metadata": {
    "execution": {
     "iopub.execute_input": "2022-06-17T15:23:45.324484Z",
     "iopub.status.busy": "2022-06-17T15:23:45.323622Z",
     "iopub.status.idle": "2022-06-17T15:23:45.364714Z",
     "shell.execute_reply": "2022-06-17T15:23:45.365470Z",
     "shell.execute_reply.started": "2022-06-17T15:22:30.997725Z"
    },
    "papermill": {
     "duration": 0.079461,
     "end_time": "2022-06-17T15:23:45.365672",
     "exception": false,
     "start_time": "2022-06-17T15:23:45.286211",
     "status": "completed"
    },
    "tags": []
   },
   "outputs": [
    {
     "data": {
      "text/html": [
       "<div>\n",
       "<style scoped>\n",
       "    .dataframe tbody tr th:only-of-type {\n",
       "        vertical-align: middle;\n",
       "    }\n",
       "\n",
       "    .dataframe tbody tr th {\n",
       "        vertical-align: top;\n",
       "    }\n",
       "\n",
       "    .dataframe thead th {\n",
       "        text-align: right;\n",
       "    }\n",
       "</style>\n",
       "<table border=\"1\" class=\"dataframe\">\n",
       "  <thead>\n",
       "    <tr style=\"text-align: right;\">\n",
       "      <th></th>\n",
       "      <th></th>\n",
       "      <th>id</th>\n",
       "      <th>age</th>\n",
       "      <th>fnlwgt</th>\n",
       "      <th>education_num</th>\n",
       "      <th>capital_gain</th>\n",
       "      <th>capital_loss</th>\n",
       "      <th>hours_per_week</th>\n",
       "      <th>income</th>\n",
       "    </tr>\n",
       "    <tr>\n",
       "      <th>race</th>\n",
       "      <th>sex</th>\n",
       "      <th></th>\n",
       "      <th></th>\n",
       "      <th></th>\n",
       "      <th></th>\n",
       "      <th></th>\n",
       "      <th></th>\n",
       "      <th></th>\n",
       "      <th></th>\n",
       "    </tr>\n",
       "  </thead>\n",
       "  <tbody>\n",
       "    <tr>\n",
       "      <th rowspan=\"2\" valign=\"top\">Amer-Indian-Eskimo</th>\n",
       "      <th>Female</th>\n",
       "      <td>12309.681818</td>\n",
       "      <td>37.454545</td>\n",
       "      <td>117238.954545</td>\n",
       "      <td>9.761364</td>\n",
       "      <td>646.636364</td>\n",
       "      <td>19.556818</td>\n",
       "      <td>36.204545</td>\n",
       "      <td>0.102273</td>\n",
       "    </tr>\n",
       "    <tr>\n",
       "      <th>Male</th>\n",
       "      <td>12441.331325</td>\n",
       "      <td>36.915663</td>\n",
       "      <td>125551.475904</td>\n",
       "      <td>9.090361</td>\n",
       "      <td>649.596386</td>\n",
       "      <td>53.662651</td>\n",
       "      <td>41.837349</td>\n",
       "      <td>0.120482</td>\n",
       "    </tr>\n",
       "    <tr>\n",
       "      <th rowspan=\"2\" valign=\"top\">Asian-Pac-Islander</th>\n",
       "      <th>Female</th>\n",
       "      <td>14562.177778</td>\n",
       "      <td>35.181481</td>\n",
       "      <td>146863.433333</td>\n",
       "      <td>10.325926</td>\n",
       "      <td>584.325926</td>\n",
       "      <td>61.122222</td>\n",
       "      <td>37.407407</td>\n",
       "      <td>0.125926</td>\n",
       "    </tr>\n",
       "    <tr>\n",
       "      <th>Male</th>\n",
       "      <td>12538.909434</td>\n",
       "      <td>38.884906</td>\n",
       "      <td>166262.398113</td>\n",
       "      <td>11.233962</td>\n",
       "      <td>2026.226415</td>\n",
       "      <td>135.403774</td>\n",
       "      <td>42.037736</td>\n",
       "      <td>0.341509</td>\n",
       "    </tr>\n",
       "    <tr>\n",
       "      <th rowspan=\"2\" valign=\"top\">Black</th>\n",
       "      <th>Female</th>\n",
       "      <td>12575.603774</td>\n",
       "      <td>37.939295</td>\n",
       "      <td>216797.705496</td>\n",
       "      <td>9.525021</td>\n",
       "      <td>487.988515</td>\n",
       "      <td>40.462674</td>\n",
       "      <td>36.796555</td>\n",
       "      <td>0.051682</td>\n",
       "    </tr>\n",
       "    <tr>\n",
       "      <th>Male</th>\n",
       "      <td>13192.518695</td>\n",
       "      <td>37.884646</td>\n",
       "      <td>243795.577566</td>\n",
       "      <td>9.482896</td>\n",
       "      <td>579.319809</td>\n",
       "      <td>76.113763</td>\n",
       "      <td>39.976134</td>\n",
       "      <td>0.190135</td>\n",
       "    </tr>\n",
       "    <tr>\n",
       "      <th rowspan=\"2\" valign=\"top\">Other</th>\n",
       "      <th>Female</th>\n",
       "      <td>13165.047059</td>\n",
       "      <td>31.435294</td>\n",
       "      <td>173440.082353</td>\n",
       "      <td>8.941176</td>\n",
       "      <td>236.129412</td>\n",
       "      <td>39.176471</td>\n",
       "      <td>36.670588</td>\n",
       "      <td>0.047059</td>\n",
       "    </tr>\n",
       "    <tr>\n",
       "      <th>Male</th>\n",
       "      <td>11760.907563</td>\n",
       "      <td>34.789916</td>\n",
       "      <td>220238.193277</td>\n",
       "      <td>8.907563</td>\n",
       "      <td>1799.764706</td>\n",
       "      <td>87.529412</td>\n",
       "      <td>41.403361</td>\n",
       "      <td>0.117647</td>\n",
       "    </tr>\n",
       "    <tr>\n",
       "      <th rowspan=\"2\" valign=\"top\">White</th>\n",
       "      <th>Female</th>\n",
       "      <td>13036.291238</td>\n",
       "      <td>36.844026</td>\n",
       "      <td>184007.053584</td>\n",
       "      <td>10.127589</td>\n",
       "      <td>580.929761</td>\n",
       "      <td>63.601738</td>\n",
       "      <td>36.209269</td>\n",
       "      <td>0.122085</td>\n",
       "    </tr>\n",
       "    <tr>\n",
       "      <th>Male</th>\n",
       "      <td>13049.281506</td>\n",
       "      <td>39.589163</td>\n",
       "      <td>189231.912524</td>\n",
       "      <td>10.149254</td>\n",
       "      <td>1386.644906</td>\n",
       "      <td>103.084945</td>\n",
       "      <td>42.687735</td>\n",
       "      <td>0.317846</td>\n",
       "    </tr>\n",
       "  </tbody>\n",
       "</table>\n",
       "</div>"
      ],
      "text/plain": [
       "                                     id        age         fnlwgt  \\\n",
       "race               sex                                              \n",
       "Amer-Indian-Eskimo Female  12309.681818  37.454545  117238.954545   \n",
       "                   Male    12441.331325  36.915663  125551.475904   \n",
       "Asian-Pac-Islander Female  14562.177778  35.181481  146863.433333   \n",
       "                   Male    12538.909434  38.884906  166262.398113   \n",
       "Black              Female  12575.603774  37.939295  216797.705496   \n",
       "                   Male    13192.518695  37.884646  243795.577566   \n",
       "Other              Female  13165.047059  31.435294  173440.082353   \n",
       "                   Male    11760.907563  34.789916  220238.193277   \n",
       "White              Female  13036.291238  36.844026  184007.053584   \n",
       "                   Male    13049.281506  39.589163  189231.912524   \n",
       "\n",
       "                           education_num  capital_gain  capital_loss  \\\n",
       "race               sex                                                 \n",
       "Amer-Indian-Eskimo Female       9.761364    646.636364     19.556818   \n",
       "                   Male         9.090361    649.596386     53.662651   \n",
       "Asian-Pac-Islander Female      10.325926    584.325926     61.122222   \n",
       "                   Male        11.233962   2026.226415    135.403774   \n",
       "Black              Female       9.525021    487.988515     40.462674   \n",
       "                   Male         9.482896    579.319809     76.113763   \n",
       "Other              Female       8.941176    236.129412     39.176471   \n",
       "                   Male         8.907563   1799.764706     87.529412   \n",
       "White              Female      10.127589    580.929761     63.601738   \n",
       "                   Male        10.149254   1386.644906    103.084945   \n",
       "\n",
       "                           hours_per_week    income  \n",
       "race               sex                               \n",
       "Amer-Indian-Eskimo Female       36.204545  0.102273  \n",
       "                   Male         41.837349  0.120482  \n",
       "Asian-Pac-Islander Female       37.407407  0.125926  \n",
       "                   Male         42.037736  0.341509  \n",
       "Black              Female       36.796555  0.051682  \n",
       "                   Male         39.976134  0.190135  \n",
       "Other              Female       36.670588  0.047059  \n",
       "                   Male         41.403361  0.117647  \n",
       "White              Female       36.209269  0.122085  \n",
       "                   Male         42.687735  0.317846  "
      ]
     },
     "execution_count": 16,
     "metadata": {},
     "output_type": "execute_result"
    }
   ],
   "source": [
    "train.groupby(['race', 'sex']).mean()"
   ]
  },
  {
   "cell_type": "code",
   "execution_count": 17,
   "metadata": {
    "execution": {
     "iopub.execute_input": "2022-06-17T15:23:45.445097Z",
     "iopub.status.busy": "2022-06-17T15:23:45.444270Z",
     "iopub.status.idle": "2022-06-17T15:23:45.761957Z",
     "shell.execute_reply": "2022-06-17T15:23:45.761228Z",
     "shell.execute_reply.started": "2022-06-17T15:22:34.563536Z"
    },
    "papermill": {
     "duration": 0.356336,
     "end_time": "2022-06-17T15:23:45.762111",
     "exception": false,
     "start_time": "2022-06-17T15:23:45.405775",
     "status": "completed"
    },
    "tags": []
   },
   "outputs": [
    {
     "data": {
      "text/html": [
       "<style  type=\"text/css\" >\n",
       "#T_7a8d084e_ee51_11ec_974e_0242ac130202row0_col0{\n",
       "            background-color:  #e4e3f0;\n",
       "            color:  #000000;\n",
       "        }#T_7a8d084e_ee51_11ec_974e_0242ac130202row1_col0{\n",
       "            background-color:  #dadaeb;\n",
       "            color:  #000000;\n",
       "        }#T_7a8d084e_ee51_11ec_974e_0242ac130202row2_col0{\n",
       "            background-color:  #d6d6e9;\n",
       "            color:  #000000;\n",
       "        }#T_7a8d084e_ee51_11ec_974e_0242ac130202row3_col0{\n",
       "            background-color:  #3f007d;\n",
       "            color:  #f1f1f1;\n",
       "        }#T_7a8d084e_ee51_11ec_974e_0242ac130202row4_col0{\n",
       "            background-color:  #faf9fc;\n",
       "            color:  #000000;\n",
       "        }#T_7a8d084e_ee51_11ec_974e_0242ac130202row5_col0{\n",
       "            background-color:  #a19eca;\n",
       "            color:  #000000;\n",
       "        }#T_7a8d084e_ee51_11ec_974e_0242ac130202row6_col0{\n",
       "            background-color:  #fcfbfd;\n",
       "            color:  #000000;\n",
       "        }#T_7a8d084e_ee51_11ec_974e_0242ac130202row7_col0{\n",
       "            background-color:  #dcdcec;\n",
       "            color:  #000000;\n",
       "        }#T_7a8d084e_ee51_11ec_974e_0242ac130202row8_col0{\n",
       "            background-color:  #d9d9ea;\n",
       "            color:  #000000;\n",
       "        }#T_7a8d084e_ee51_11ec_974e_0242ac130202row9_col0{\n",
       "            background-color:  #4c1888;\n",
       "            color:  #f1f1f1;\n",
       "        }</style><table id=\"T_7a8d084e_ee51_11ec_974e_0242ac130202\" ><thead>    <tr>        <th class=\"blank\" ></th>        <th class=\"blank level0\" ></th>        <th class=\"col_heading level0 col0\" >income</th>    </tr>    <tr>        <th class=\"index_name level0\" >race</th>        <th class=\"index_name level1\" >sex</th>        <th class=\"blank\" ></th>    </tr></thead><tbody>\n",
       "                <tr>\n",
       "                        <th id=\"T_7a8d084e_ee51_11ec_974e_0242ac130202level0_row0\" class=\"row_heading level0 row0\" rowspan=2>Amer-Indian-Eskimo</th>\n",
       "                        <th id=\"T_7a8d084e_ee51_11ec_974e_0242ac130202level1_row0\" class=\"row_heading level1 row0\" >Female</th>\n",
       "                        <td id=\"T_7a8d084e_ee51_11ec_974e_0242ac130202row0_col0\" class=\"data row0 col0\" >0.102273</td>\n",
       "            </tr>\n",
       "            <tr>\n",
       "                                <th id=\"T_7a8d084e_ee51_11ec_974e_0242ac130202level1_row1\" class=\"row_heading level1 row1\" >Male</th>\n",
       "                        <td id=\"T_7a8d084e_ee51_11ec_974e_0242ac130202row1_col0\" class=\"data row1 col0\" >0.120482</td>\n",
       "            </tr>\n",
       "            <tr>\n",
       "                        <th id=\"T_7a8d084e_ee51_11ec_974e_0242ac130202level0_row2\" class=\"row_heading level0 row2\" rowspan=2>Asian-Pac-Islander</th>\n",
       "                        <th id=\"T_7a8d084e_ee51_11ec_974e_0242ac130202level1_row2\" class=\"row_heading level1 row2\" >Female</th>\n",
       "                        <td id=\"T_7a8d084e_ee51_11ec_974e_0242ac130202row2_col0\" class=\"data row2 col0\" >0.125926</td>\n",
       "            </tr>\n",
       "            <tr>\n",
       "                                <th id=\"T_7a8d084e_ee51_11ec_974e_0242ac130202level1_row3\" class=\"row_heading level1 row3\" >Male</th>\n",
       "                        <td id=\"T_7a8d084e_ee51_11ec_974e_0242ac130202row3_col0\" class=\"data row3 col0\" >0.341509</td>\n",
       "            </tr>\n",
       "            <tr>\n",
       "                        <th id=\"T_7a8d084e_ee51_11ec_974e_0242ac130202level0_row4\" class=\"row_heading level0 row4\" rowspan=2>Black</th>\n",
       "                        <th id=\"T_7a8d084e_ee51_11ec_974e_0242ac130202level1_row4\" class=\"row_heading level1 row4\" >Female</th>\n",
       "                        <td id=\"T_7a8d084e_ee51_11ec_974e_0242ac130202row4_col0\" class=\"data row4 col0\" >0.051682</td>\n",
       "            </tr>\n",
       "            <tr>\n",
       "                                <th id=\"T_7a8d084e_ee51_11ec_974e_0242ac130202level1_row5\" class=\"row_heading level1 row5\" >Male</th>\n",
       "                        <td id=\"T_7a8d084e_ee51_11ec_974e_0242ac130202row5_col0\" class=\"data row5 col0\" >0.190135</td>\n",
       "            </tr>\n",
       "            <tr>\n",
       "                        <th id=\"T_7a8d084e_ee51_11ec_974e_0242ac130202level0_row6\" class=\"row_heading level0 row6\" rowspan=2>Other</th>\n",
       "                        <th id=\"T_7a8d084e_ee51_11ec_974e_0242ac130202level1_row6\" class=\"row_heading level1 row6\" >Female</th>\n",
       "                        <td id=\"T_7a8d084e_ee51_11ec_974e_0242ac130202row6_col0\" class=\"data row6 col0\" >0.047059</td>\n",
       "            </tr>\n",
       "            <tr>\n",
       "                                <th id=\"T_7a8d084e_ee51_11ec_974e_0242ac130202level1_row7\" class=\"row_heading level1 row7\" >Male</th>\n",
       "                        <td id=\"T_7a8d084e_ee51_11ec_974e_0242ac130202row7_col0\" class=\"data row7 col0\" >0.117647</td>\n",
       "            </tr>\n",
       "            <tr>\n",
       "                        <th id=\"T_7a8d084e_ee51_11ec_974e_0242ac130202level0_row8\" class=\"row_heading level0 row8\" rowspan=2>White</th>\n",
       "                        <th id=\"T_7a8d084e_ee51_11ec_974e_0242ac130202level1_row8\" class=\"row_heading level1 row8\" >Female</th>\n",
       "                        <td id=\"T_7a8d084e_ee51_11ec_974e_0242ac130202row8_col0\" class=\"data row8 col0\" >0.122085</td>\n",
       "            </tr>\n",
       "            <tr>\n",
       "                                <th id=\"T_7a8d084e_ee51_11ec_974e_0242ac130202level1_row9\" class=\"row_heading level1 row9\" >Male</th>\n",
       "                        <td id=\"T_7a8d084e_ee51_11ec_974e_0242ac130202row9_col0\" class=\"data row9 col0\" >0.317846</td>\n",
       "            </tr>\n",
       "    </tbody></table>"
      ],
      "text/plain": [
       "<pandas.io.formats.style.Styler at 0x7f31b9f0ebd0>"
      ]
     },
     "execution_count": 17,
     "metadata": {},
     "output_type": "execute_result"
    }
   ],
   "source": [
    "train.groupby(['race', 'sex'])[['income']].mean().style.background_gradient(cmap='Purples')"
   ]
  },
  {
   "cell_type": "code",
   "execution_count": 18,
   "metadata": {
    "execution": {
     "iopub.execute_input": "2022-06-17T15:23:45.846524Z",
     "iopub.status.busy": "2022-06-17T15:23:45.845595Z",
     "iopub.status.idle": "2022-06-17T15:23:45.883591Z",
     "shell.execute_reply": "2022-06-17T15:23:45.884177Z",
     "shell.execute_reply.started": "2022-06-17T15:22:37.032234Z"
    },
    "papermill": {
     "duration": 0.086463,
     "end_time": "2022-06-17T15:23:45.884401",
     "exception": false,
     "start_time": "2022-06-17T15:23:45.797938",
     "status": "completed"
    },
    "tags": []
   },
   "outputs": [
    {
     "data": {
      "text/html": [
       "<div>\n",
       "<style scoped>\n",
       "    .dataframe tbody tr th:only-of-type {\n",
       "        vertical-align: middle;\n",
       "    }\n",
       "\n",
       "    .dataframe tbody tr th {\n",
       "        vertical-align: top;\n",
       "    }\n",
       "\n",
       "    .dataframe thead th {\n",
       "        text-align: right;\n",
       "    }\n",
       "</style>\n",
       "<table border=\"1\" class=\"dataframe\">\n",
       "  <thead>\n",
       "    <tr style=\"text-align: right;\">\n",
       "      <th>sex</th>\n",
       "      <th>Female</th>\n",
       "      <th>Male</th>\n",
       "    </tr>\n",
       "    <tr>\n",
       "      <th>race</th>\n",
       "      <th></th>\n",
       "      <th></th>\n",
       "    </tr>\n",
       "  </thead>\n",
       "  <tbody>\n",
       "    <tr>\n",
       "      <th>Amer-Indian-Eskimo</th>\n",
       "      <td>0.102273</td>\n",
       "      <td>0.120482</td>\n",
       "    </tr>\n",
       "    <tr>\n",
       "      <th>Asian-Pac-Islander</th>\n",
       "      <td>0.125926</td>\n",
       "      <td>0.341509</td>\n",
       "    </tr>\n",
       "    <tr>\n",
       "      <th>Black</th>\n",
       "      <td>0.051682</td>\n",
       "      <td>0.190135</td>\n",
       "    </tr>\n",
       "    <tr>\n",
       "      <th>Other</th>\n",
       "      <td>0.047059</td>\n",
       "      <td>0.117647</td>\n",
       "    </tr>\n",
       "    <tr>\n",
       "      <th>White</th>\n",
       "      <td>0.122085</td>\n",
       "      <td>0.317846</td>\n",
       "    </tr>\n",
       "  </tbody>\n",
       "</table>\n",
       "</div>"
      ],
      "text/plain": [
       "sex                   Female      Male\n",
       "race                                  \n",
       "Amer-Indian-Eskimo  0.102273  0.120482\n",
       "Asian-Pac-Islander  0.125926  0.341509\n",
       "Black               0.051682  0.190135\n",
       "Other               0.047059  0.117647\n",
       "White               0.122085  0.317846"
      ]
     },
     "execution_count": 18,
     "metadata": {},
     "output_type": "execute_result"
    }
   ],
   "source": [
    "pd.pivot_table(train, columns='sex', index='race', values='income', aggfunc='mean')"
   ]
  },
  {
   "cell_type": "code",
   "execution_count": 19,
   "metadata": {
    "execution": {
     "iopub.execute_input": "2022-06-17T15:23:45.966478Z",
     "iopub.status.busy": "2022-06-17T15:23:45.965518Z",
     "iopub.status.idle": "2022-06-17T15:23:45.997291Z",
     "shell.execute_reply": "2022-06-17T15:23:45.998046Z",
     "shell.execute_reply.started": "2022-06-17T15:22:39.309951Z"
    },
    "papermill": {
     "duration": 0.078377,
     "end_time": "2022-06-17T15:23:45.998275",
     "exception": false,
     "start_time": "2022-06-17T15:23:45.919898",
     "status": "completed"
    },
    "tags": []
   },
   "outputs": [
    {
     "data": {
      "text/html": [
       "<div>\n",
       "<style scoped>\n",
       "    .dataframe tbody tr th:only-of-type {\n",
       "        vertical-align: middle;\n",
       "    }\n",
       "\n",
       "    .dataframe tbody tr th {\n",
       "        vertical-align: top;\n",
       "    }\n",
       "\n",
       "    .dataframe thead th {\n",
       "        text-align: right;\n",
       "    }\n",
       "</style>\n",
       "<table border=\"1\" class=\"dataframe\">\n",
       "  <thead>\n",
       "    <tr style=\"text-align: right;\">\n",
       "      <th>sex</th>\n",
       "      <th>Female</th>\n",
       "      <th>Male</th>\n",
       "    </tr>\n",
       "    <tr>\n",
       "      <th>race</th>\n",
       "      <th></th>\n",
       "      <th></th>\n",
       "    </tr>\n",
       "  </thead>\n",
       "  <tbody>\n",
       "    <tr>\n",
       "      <th>Amer-Indian-Eskimo</th>\n",
       "      <td>9</td>\n",
       "      <td>20</td>\n",
       "    </tr>\n",
       "    <tr>\n",
       "      <th>Asian-Pac-Islander</th>\n",
       "      <td>34</td>\n",
       "      <td>181</td>\n",
       "    </tr>\n",
       "    <tr>\n",
       "      <th>Black</th>\n",
       "      <td>63</td>\n",
       "      <td>239</td>\n",
       "    </tr>\n",
       "    <tr>\n",
       "      <th>Other</th>\n",
       "      <td>4</td>\n",
       "      <td>14</td>\n",
       "    </tr>\n",
       "    <tr>\n",
       "      <th>White</th>\n",
       "      <td>843</td>\n",
       "      <td>4898</td>\n",
       "    </tr>\n",
       "  </tbody>\n",
       "</table>\n",
       "</div>"
      ],
      "text/plain": [
       "sex                 Female  Male\n",
       "race                            \n",
       "Amer-Indian-Eskimo       9    20\n",
       "Asian-Pac-Islander      34   181\n",
       "Black                   63   239\n",
       "Other                    4    14\n",
       "White                  843  4898"
      ]
     },
     "execution_count": 19,
     "metadata": {},
     "output_type": "execute_result"
    }
   ],
   "source": [
    "pd.pivot_table(train, columns='sex', index='race', values='income', aggfunc='sum')"
   ]
  },
  {
   "cell_type": "code",
   "execution_count": 20,
   "metadata": {
    "execution": {
     "iopub.execute_input": "2022-06-17T15:23:46.080094Z",
     "iopub.status.busy": "2022-06-17T15:23:46.079177Z",
     "iopub.status.idle": "2022-06-17T15:23:46.481791Z",
     "shell.execute_reply": "2022-06-17T15:23:46.481046Z",
     "shell.execute_reply.started": "2022-06-17T15:22:39.903505Z"
    },
    "papermill": {
     "duration": 0.447529,
     "end_time": "2022-06-17T15:23:46.481938",
     "exception": false,
     "start_time": "2022-06-17T15:23:46.034409",
     "status": "completed"
    },
    "tags": []
   },
   "outputs": [
    {
     "data": {
      "text/plain": [
       "<matplotlib.axes._subplots.AxesSubplot at 0x7f31ba0f6f50>"
      ]
     },
     "execution_count": 20,
     "metadata": {},
     "output_type": "execute_result"
    },
    {
     "data": {
      "image/png": "[encoded data removed]",
      "text/plain": [
       "<Figure size 720x432 with 1 Axes>"
      ]
     },
     "metadata": {
      "needs_background": "light"
     },
     "output_type": "display_data"
    }
   ],
   "source": [
    "fig, ax = plt.subplots(1, 1, figsize=(10, 6))\n",
    "sns.boxplot(data=train, x='race', y='age', hue='sex')\n",
    "# sns.violinplot()\n",
    "# sns.swarmplot()"
   ]
  },
  {
   "cell_type": "code",
   "execution_count": 21,
   "metadata": {
    "execution": {
     "iopub.execute_input": "2022-06-17T15:23:46.565245Z",
     "iopub.status.busy": "2022-06-17T15:23:46.564409Z",
     "iopub.status.idle": "2022-06-17T15:23:46.859380Z",
     "shell.execute_reply": "2022-06-17T15:23:46.858680Z",
     "shell.execute_reply.started": "2022-06-17T15:22:40.647859Z"
    },
    "papermill": {
     "duration": 0.339236,
     "end_time": "2022-06-17T15:23:46.859530",
     "exception": false,
     "start_time": "2022-06-17T15:23:46.520294",
     "status": "completed"
    },
    "tags": []
   },
   "outputs": [
    {
     "data": {
      "text/plain": [
       "<matplotlib.axes._subplots.AxesSubplot at 0x7f31b9da4fd0>"
      ]
     },
     "execution_count": 21,
     "metadata": {},
     "output_type": "execute_result"
    },
    {
     "data": {
      "image/png": "[encoded data removed]",
      "text/plain": [
       "<Figure size 720x432 with 1 Axes>"
      ]
     },
     "metadata": {
      "needs_background": "light"
     },
     "output_type": "display_data"
    }
   ],
   "source": [
    "fig, ax = plt.subplots(1, 1, figsize=(10, 6))\n",
    "sns.violinplot(data=train, x='race', y='age')"
   ]
  },
  {
   "cell_type": "code",
   "execution_count": 22,
   "metadata": {
    "execution": {
     "iopub.execute_input": "2022-06-17T15:23:46.943091Z",
     "iopub.status.busy": "2022-06-17T15:23:46.942287Z",
     "iopub.status.idle": "2022-06-17T15:23:46.985445Z",
     "shell.execute_reply": "2022-06-17T15:23:46.986129Z",
     "shell.execute_reply.started": "2022-06-17T15:22:41.519029Z"
    },
    "papermill": {
     "duration": 0.087544,
     "end_time": "2022-06-17T15:23:46.986330",
     "exception": false,
     "start_time": "2022-06-17T15:23:46.898786",
     "status": "completed"
    },
    "tags": []
   },
   "outputs": [
    {
     "data": {
      "text/html": [
       "<style  type=\"text/css\" >\n",
       "#T_7b4818d2_ee51_11ec_974e_0242ac130202row0_col0,#T_7b4818d2_ee51_11ec_974e_0242ac130202row1_col1,#T_7b4818d2_ee51_11ec_974e_0242ac130202row2_col2,#T_7b4818d2_ee51_11ec_974e_0242ac130202row3_col3,#T_7b4818d2_ee51_11ec_974e_0242ac130202row4_col4,#T_7b4818d2_ee51_11ec_974e_0242ac130202row5_col5,#T_7b4818d2_ee51_11ec_974e_0242ac130202row6_col6,#T_7b4818d2_ee51_11ec_974e_0242ac130202row7_col7{\n",
       "            background-color:  #b40426;\n",
       "            color:  #f1f1f1;\n",
       "        }#T_7b4818d2_ee51_11ec_974e_0242ac130202row0_col1{\n",
       "            background-color:  #536edd;\n",
       "            color:  #000000;\n",
       "        }#T_7b4818d2_ee51_11ec_974e_0242ac130202row0_col2{\n",
       "            background-color:  #4f69d9;\n",
       "            color:  #000000;\n",
       "        }#T_7b4818d2_ee51_11ec_974e_0242ac130202row0_col3{\n",
       "            background-color:  #485fd1;\n",
       "            color:  #f1f1f1;\n",
       "        }#T_7b4818d2_ee51_11ec_974e_0242ac130202row0_col4{\n",
       "            background-color:  #455cce;\n",
       "            color:  #f1f1f1;\n",
       "        }#T_7b4818d2_ee51_11ec_974e_0242ac130202row0_col5,#T_7b4818d2_ee51_11ec_974e_0242ac130202row3_col2{\n",
       "            background-color:  #4358cb;\n",
       "            color:  #f1f1f1;\n",
       "        }#T_7b4818d2_ee51_11ec_974e_0242ac130202row0_col6{\n",
       "            background-color:  #4257c9;\n",
       "            color:  #f1f1f1;\n",
       "        }#T_7b4818d2_ee51_11ec_974e_0242ac130202row0_col7{\n",
       "            background-color:  #3e51c5;\n",
       "            color:  #f1f1f1;\n",
       "        }#T_7b4818d2_ee51_11ec_974e_0242ac130202row1_col0,#T_7b4818d2_ee51_11ec_974e_0242ac130202row4_col0,#T_7b4818d2_ee51_11ec_974e_0242ac130202row6_col0{\n",
       "            background-color:  #3d50c3;\n",
       "            color:  #f1f1f1;\n",
       "        }#T_7b4818d2_ee51_11ec_974e_0242ac130202row1_col2,#T_7b4818d2_ee51_11ec_974e_0242ac130202row2_col0,#T_7b4818d2_ee51_11ec_974e_0242ac130202row2_col1,#T_7b4818d2_ee51_11ec_974e_0242ac130202row2_col3,#T_7b4818d2_ee51_11ec_974e_0242ac130202row2_col6,#T_7b4818d2_ee51_11ec_974e_0242ac130202row2_col7,#T_7b4818d2_ee51_11ec_974e_0242ac130202row4_col5,#T_7b4818d2_ee51_11ec_974e_0242ac130202row5_col0,#T_7b4818d2_ee51_11ec_974e_0242ac130202row5_col4{\n",
       "            background-color:  #3b4cc0;\n",
       "            color:  #f1f1f1;\n",
       "        }#T_7b4818d2_ee51_11ec_974e_0242ac130202row1_col3,#T_7b4818d2_ee51_11ec_974e_0242ac130202row1_col6,#T_7b4818d2_ee51_11ec_974e_0242ac130202row6_col5{\n",
       "            background-color:  #5470de;\n",
       "            color:  #000000;\n",
       "        }#T_7b4818d2_ee51_11ec_974e_0242ac130202row1_col4,#T_7b4818d2_ee51_11ec_974e_0242ac130202row3_col1,#T_7b4818d2_ee51_11ec_974e_0242ac130202row6_col4{\n",
       "            background-color:  #5b7ae5;\n",
       "            color:  #000000;\n",
       "        }#T_7b4818d2_ee51_11ec_974e_0242ac130202row1_col5{\n",
       "            background-color:  #5572df;\n",
       "            color:  #000000;\n",
       "        }#T_7b4818d2_ee51_11ec_974e_0242ac130202row1_col7{\n",
       "            background-color:  #88abfd;\n",
       "            color:  #000000;\n",
       "        }#T_7b4818d2_ee51_11ec_974e_0242ac130202row2_col4{\n",
       "            background-color:  #445acc;\n",
       "            color:  #f1f1f1;\n",
       "        }#T_7b4818d2_ee51_11ec_974e_0242ac130202row2_col5{\n",
       "            background-color:  #4055c8;\n",
       "            color:  #f1f1f1;\n",
       "        }#T_7b4818d2_ee51_11ec_974e_0242ac130202row3_col0,#T_7b4818d2_ee51_11ec_974e_0242ac130202row7_col0{\n",
       "            background-color:  #3c4ec2;\n",
       "            color:  #f1f1f1;\n",
       "        }#T_7b4818d2_ee51_11ec_974e_0242ac130202row3_col4{\n",
       "            background-color:  #688aef;\n",
       "            color:  #000000;\n",
       "        }#T_7b4818d2_ee51_11ec_974e_0242ac130202row3_col5{\n",
       "            background-color:  #5a78e4;\n",
       "            color:  #000000;\n",
       "        }#T_7b4818d2_ee51_11ec_974e_0242ac130202row3_col6{\n",
       "            background-color:  #6e90f2;\n",
       "            color:  #000000;\n",
       "        }#T_7b4818d2_ee51_11ec_974e_0242ac130202row3_col7{\n",
       "            background-color:  #abc8fd;\n",
       "            color:  #000000;\n",
       "        }#T_7b4818d2_ee51_11ec_974e_0242ac130202row4_col1{\n",
       "            background-color:  #6788ee;\n",
       "            color:  #000000;\n",
       "        }#T_7b4818d2_ee51_11ec_974e_0242ac130202row4_col2,#T_7b4818d2_ee51_11ec_974e_0242ac130202row5_col6{\n",
       "            background-color:  #506bda;\n",
       "            color:  #000000;\n",
       "        }#T_7b4818d2_ee51_11ec_974e_0242ac130202row4_col3,#T_7b4818d2_ee51_11ec_974e_0242ac130202row5_col7{\n",
       "            background-color:  #6c8ff1;\n",
       "            color:  #000000;\n",
       "        }#T_7b4818d2_ee51_11ec_974e_0242ac130202row4_col6{\n",
       "            background-color:  #5977e3;\n",
       "            color:  #000000;\n",
       "        }#T_7b4818d2_ee51_11ec_974e_0242ac130202row4_col7{\n",
       "            background-color:  #86a9fc;\n",
       "            color:  #000000;\n",
       "        }#T_7b4818d2_ee51_11ec_974e_0242ac130202row5_col1{\n",
       "            background-color:  #6180e9;\n",
       "            color:  #000000;\n",
       "        }#T_7b4818d2_ee51_11ec_974e_0242ac130202row5_col2,#T_7b4818d2_ee51_11ec_974e_0242ac130202row7_col2{\n",
       "            background-color:  #4e68d8;\n",
       "            color:  #000000;\n",
       "        }#T_7b4818d2_ee51_11ec_974e_0242ac130202row5_col3{\n",
       "            background-color:  #5e7de7;\n",
       "            color:  #000000;\n",
       "        }#T_7b4818d2_ee51_11ec_974e_0242ac130202row6_col1{\n",
       "            background-color:  #6384eb;\n",
       "            color:  #000000;\n",
       "        }#T_7b4818d2_ee51_11ec_974e_0242ac130202row6_col2{\n",
       "            background-color:  #4a63d3;\n",
       "            color:  #f1f1f1;\n",
       "        }#T_7b4818d2_ee51_11ec_974e_0242ac130202row6_col3{\n",
       "            background-color:  #7699f6;\n",
       "            color:  #000000;\n",
       "        }#T_7b4818d2_ee51_11ec_974e_0242ac130202row6_col7{\n",
       "            background-color:  #89acfd;\n",
       "            color:  #000000;\n",
       "        }#T_7b4818d2_ee51_11ec_974e_0242ac130202row7_col1{\n",
       "            background-color:  #98b9ff;\n",
       "            color:  #000000;\n",
       "        }#T_7b4818d2_ee51_11ec_974e_0242ac130202row7_col3{\n",
       "            background-color:  #b5cdfa;\n",
       "            color:  #000000;\n",
       "        }#T_7b4818d2_ee51_11ec_974e_0242ac130202row7_col4,#T_7b4818d2_ee51_11ec_974e_0242ac130202row7_col6{\n",
       "            background-color:  #8caffe;\n",
       "            color:  #000000;\n",
       "        }#T_7b4818d2_ee51_11ec_974e_0242ac130202row7_col5{\n",
       "            background-color:  #7396f5;\n",
       "            color:  #000000;\n",
       "        }</style><table id=\"T_7b4818d2_ee51_11ec_974e_0242ac130202\" ><thead>    <tr>        <th class=\"blank level0\" ></th>        <th class=\"col_heading level0 col0\" >id</th>        <th class=\"col_heading level0 col1\" >age</th>        <th class=\"col_heading level0 col2\" >fnlwgt</th>        <th class=\"col_heading level0 col3\" >education_num</th>        <th class=\"col_heading level0 col4\" >capital_gain</th>        <th class=\"col_heading level0 col5\" >capital_loss</th>        <th class=\"col_heading level0 col6\" >hours_per_week</th>        <th class=\"col_heading level0 col7\" >income</th>    </tr></thead><tbody>\n",
       "                <tr>\n",
       "                        <th id=\"T_7b4818d2_ee51_11ec_974e_0242ac130202level0_row0\" class=\"row_heading level0 row0\" >id</th>\n",
       "                        <td id=\"T_7b4818d2_ee51_11ec_974e_0242ac130202row0_col0\" class=\"data row0 col0\" >1.000000</td>\n",
       "                        <td id=\"T_7b4818d2_ee51_11ec_974e_0242ac130202row0_col1\" class=\"data row0 col1\" >0.007866</td>\n",
       "                        <td id=\"T_7b4818d2_ee51_11ec_974e_0242ac130202row0_col2\" class=\"data row0 col2\" >-0.001191</td>\n",
       "                        <td id=\"T_7b4818d2_ee51_11ec_974e_0242ac130202row0_col3\" class=\"data row0 col3\" >0.002309</td>\n",
       "                        <td id=\"T_7b4818d2_ee51_11ec_974e_0242ac130202row0_col4\" class=\"data row0 col4\" >0.007228</td>\n",
       "                        <td id=\"T_7b4818d2_ee51_11ec_974e_0242ac130202row0_col5\" class=\"data row0 col5\" >-0.002553</td>\n",
       "                        <td id=\"T_7b4818d2_ee51_11ec_974e_0242ac130202row0_col6\" class=\"data row0 col6\" >0.005749</td>\n",
       "                        <td id=\"T_7b4818d2_ee51_11ec_974e_0242ac130202row0_col7\" class=\"data row0 col7\" >0.004350</td>\n",
       "            </tr>\n",
       "            <tr>\n",
       "                        <th id=\"T_7b4818d2_ee51_11ec_974e_0242ac130202level0_row1\" class=\"row_heading level0 row1\" >age</th>\n",
       "                        <td id=\"T_7b4818d2_ee51_11ec_974e_0242ac130202row1_col0\" class=\"data row1 col0\" >0.007866</td>\n",
       "                        <td id=\"T_7b4818d2_ee51_11ec_974e_0242ac130202row1_col1\" class=\"data row1 col1\" >1.000000</td>\n",
       "                        <td id=\"T_7b4818d2_ee51_11ec_974e_0242ac130202row1_col2\" class=\"data row1 col2\" >-0.076618</td>\n",
       "                        <td id=\"T_7b4818d2_ee51_11ec_974e_0242ac130202row1_col3\" class=\"data row1 col3\" >0.040107</td>\n",
       "                        <td id=\"T_7b4818d2_ee51_11ec_974e_0242ac130202row1_col4\" class=\"data row1 col4\" >0.077768</td>\n",
       "                        <td id=\"T_7b4818d2_ee51_11ec_974e_0242ac130202row1_col5\" class=\"data row1 col5\" >0.057875</td>\n",
       "                        <td id=\"T_7b4818d2_ee51_11ec_974e_0242ac130202row1_col6\" class=\"data row1 col6\" >0.066038</td>\n",
       "                        <td id=\"T_7b4818d2_ee51_11ec_974e_0242ac130202row1_col7\" class=\"data row1 col7\" >0.229292</td>\n",
       "            </tr>\n",
       "            <tr>\n",
       "                        <th id=\"T_7b4818d2_ee51_11ec_974e_0242ac130202level0_row2\" class=\"row_heading level0 row2\" >fnlwgt</th>\n",
       "                        <td id=\"T_7b4818d2_ee51_11ec_974e_0242ac130202row2_col0\" class=\"data row2 col0\" >-0.001191</td>\n",
       "                        <td id=\"T_7b4818d2_ee51_11ec_974e_0242ac130202row2_col1\" class=\"data row2 col1\" >-0.076618</td>\n",
       "                        <td id=\"T_7b4818d2_ee51_11ec_974e_0242ac130202row2_col2\" class=\"data row2 col2\" >1.000000</td>\n",
       "                        <td id=\"T_7b4818d2_ee51_11ec_974e_0242ac130202row2_col3\" class=\"data row2 col3\" >-0.046377</td>\n",
       "                        <td id=\"T_7b4818d2_ee51_11ec_974e_0242ac130202row2_col4\" class=\"data row2 col4\" >0.000953</td>\n",
       "                        <td id=\"T_7b4818d2_ee51_11ec_974e_0242ac130202row2_col5\" class=\"data row2 col5\" >-0.008689</td>\n",
       "                        <td id=\"T_7b4818d2_ee51_11ec_974e_0242ac130202row2_col6\" class=\"data row2 col6\" >-0.020064</td>\n",
       "                        <td id=\"T_7b4818d2_ee51_11ec_974e_0242ac130202row2_col7\" class=\"data row2 col7\" >-0.007500</td>\n",
       "            </tr>\n",
       "            <tr>\n",
       "                        <th id=\"T_7b4818d2_ee51_11ec_974e_0242ac130202level0_row3\" class=\"row_heading level0 row3\" >education_num</th>\n",
       "                        <td id=\"T_7b4818d2_ee51_11ec_974e_0242ac130202row3_col0\" class=\"data row3 col0\" >0.002309</td>\n",
       "                        <td id=\"T_7b4818d2_ee51_11ec_974e_0242ac130202row3_col1\" class=\"data row3 col1\" >0.040107</td>\n",
       "                        <td id=\"T_7b4818d2_ee51_11ec_974e_0242ac130202row3_col2\" class=\"data row3 col2\" >-0.046377</td>\n",
       "                        <td id=\"T_7b4818d2_ee51_11ec_974e_0242ac130202row3_col3\" class=\"data row3 col3\" >1.000000</td>\n",
       "                        <td id=\"T_7b4818d2_ee51_11ec_974e_0242ac130202row3_col4\" class=\"data row3 col4\" >0.119382</td>\n",
       "                        <td id=\"T_7b4818d2_ee51_11ec_974e_0242ac130202row3_col5\" class=\"data row3 col5\" >0.074813</td>\n",
       "                        <td id=\"T_7b4818d2_ee51_11ec_974e_0242ac130202row3_col6\" class=\"data row3 col6\" >0.146063</td>\n",
       "                        <td id=\"T_7b4818d2_ee51_11ec_974e_0242ac130202row3_col7\" class=\"data row3 col7\" >0.334582</td>\n",
       "            </tr>\n",
       "            <tr>\n",
       "                        <th id=\"T_7b4818d2_ee51_11ec_974e_0242ac130202level0_row4\" class=\"row_heading level0 row4\" >capital_gain</th>\n",
       "                        <td id=\"T_7b4818d2_ee51_11ec_974e_0242ac130202row4_col0\" class=\"data row4 col0\" >0.007228</td>\n",
       "                        <td id=\"T_7b4818d2_ee51_11ec_974e_0242ac130202row4_col1\" class=\"data row4 col1\" >0.077768</td>\n",
       "                        <td id=\"T_7b4818d2_ee51_11ec_974e_0242ac130202row4_col2\" class=\"data row4 col2\" >0.000953</td>\n",
       "                        <td id=\"T_7b4818d2_ee51_11ec_974e_0242ac130202row4_col3\" class=\"data row4 col3\" >0.119382</td>\n",
       "                        <td id=\"T_7b4818d2_ee51_11ec_974e_0242ac130202row4_col4\" class=\"data row4 col4\" >1.000000</td>\n",
       "                        <td id=\"T_7b4818d2_ee51_11ec_974e_0242ac130202row4_col5\" class=\"data row4 col5\" >-0.032030</td>\n",
       "                        <td id=\"T_7b4818d2_ee51_11ec_974e_0242ac130202row4_col6\" class=\"data row4 col6\" >0.080543</td>\n",
       "                        <td id=\"T_7b4818d2_ee51_11ec_974e_0242ac130202row4_col7\" class=\"data row4 col7\" >0.225296</td>\n",
       "            </tr>\n",
       "            <tr>\n",
       "                        <th id=\"T_7b4818d2_ee51_11ec_974e_0242ac130202level0_row5\" class=\"row_heading level0 row5\" >capital_loss</th>\n",
       "                        <td id=\"T_7b4818d2_ee51_11ec_974e_0242ac130202row5_col0\" class=\"data row5 col0\" >-0.002553</td>\n",
       "                        <td id=\"T_7b4818d2_ee51_11ec_974e_0242ac130202row5_col1\" class=\"data row5 col1\" >0.057875</td>\n",
       "                        <td id=\"T_7b4818d2_ee51_11ec_974e_0242ac130202row5_col2\" class=\"data row5 col2\" >-0.008689</td>\n",
       "                        <td id=\"T_7b4818d2_ee51_11ec_974e_0242ac130202row5_col3\" class=\"data row5 col3\" >0.074813</td>\n",
       "                        <td id=\"T_7b4818d2_ee51_11ec_974e_0242ac130202row5_col4\" class=\"data row5 col4\" >-0.032030</td>\n",
       "                        <td id=\"T_7b4818d2_ee51_11ec_974e_0242ac130202row5_col5\" class=\"data row5 col5\" >1.000000</td>\n",
       "                        <td id=\"T_7b4818d2_ee51_11ec_974e_0242ac130202row5_col6\" class=\"data row5 col6\" >0.054957</td>\n",
       "                        <td id=\"T_7b4818d2_ee51_11ec_974e_0242ac130202row5_col7\" class=\"data row5 col7\" >0.152537</td>\n",
       "            </tr>\n",
       "            <tr>\n",
       "                        <th id=\"T_7b4818d2_ee51_11ec_974e_0242ac130202level0_row6\" class=\"row_heading level0 row6\" >hours_per_week</th>\n",
       "                        <td id=\"T_7b4818d2_ee51_11ec_974e_0242ac130202row6_col0\" class=\"data row6 col0\" >0.005749</td>\n",
       "                        <td id=\"T_7b4818d2_ee51_11ec_974e_0242ac130202row6_col1\" class=\"data row6 col1\" >0.066038</td>\n",
       "                        <td id=\"T_7b4818d2_ee51_11ec_974e_0242ac130202row6_col2\" class=\"data row6 col2\" >-0.020064</td>\n",
       "                        <td id=\"T_7b4818d2_ee51_11ec_974e_0242ac130202row6_col3\" class=\"data row6 col3\" >0.146063</td>\n",
       "                        <td id=\"T_7b4818d2_ee51_11ec_974e_0242ac130202row6_col4\" class=\"data row6 col4\" >0.080543</td>\n",
       "                        <td id=\"T_7b4818d2_ee51_11ec_974e_0242ac130202row6_col5\" class=\"data row6 col5\" >0.054957</td>\n",
       "                        <td id=\"T_7b4818d2_ee51_11ec_974e_0242ac130202row6_col6\" class=\"data row6 col6\" >1.000000</td>\n",
       "                        <td id=\"T_7b4818d2_ee51_11ec_974e_0242ac130202row6_col7\" class=\"data row6 col7\" >0.233726</td>\n",
       "            </tr>\n",
       "            <tr>\n",
       "                        <th id=\"T_7b4818d2_ee51_11ec_974e_0242ac130202level0_row7\" class=\"row_heading level0 row7\" >income</th>\n",
       "                        <td id=\"T_7b4818d2_ee51_11ec_974e_0242ac130202row7_col0\" class=\"data row7 col0\" >0.004350</td>\n",
       "                        <td id=\"T_7b4818d2_ee51_11ec_974e_0242ac130202row7_col1\" class=\"data row7 col1\" >0.229292</td>\n",
       "                        <td id=\"T_7b4818d2_ee51_11ec_974e_0242ac130202row7_col2\" class=\"data row7 col2\" >-0.007500</td>\n",
       "                        <td id=\"T_7b4818d2_ee51_11ec_974e_0242ac130202row7_col3\" class=\"data row7 col3\" >0.334582</td>\n",
       "                        <td id=\"T_7b4818d2_ee51_11ec_974e_0242ac130202row7_col4\" class=\"data row7 col4\" >0.225296</td>\n",
       "                        <td id=\"T_7b4818d2_ee51_11ec_974e_0242ac130202row7_col5\" class=\"data row7 col5\" >0.152537</td>\n",
       "                        <td id=\"T_7b4818d2_ee51_11ec_974e_0242ac130202row7_col6\" class=\"data row7 col6\" >0.233726</td>\n",
       "                        <td id=\"T_7b4818d2_ee51_11ec_974e_0242ac130202row7_col7\" class=\"data row7 col7\" >1.000000</td>\n",
       "            </tr>\n",
       "    </tbody></table>"
      ],
      "text/plain": [
       "<pandas.io.formats.style.Styler at 0x7f31b9cbe550>"
      ]
     },
     "execution_count": 22,
     "metadata": {},
     "output_type": "execute_result"
    }
   ],
   "source": [
    "train.corr().style.background_gradient(cmap='coolwarm')"
   ]
  },
  {
   "cell_type": "code",
   "execution_count": 23,
   "metadata": {
    "execution": {
     "iopub.execute_input": "2022-06-17T15:23:47.075417Z",
     "iopub.status.busy": "2022-06-17T15:23:47.074572Z",
     "iopub.status.idle": "2022-06-17T15:23:47.083305Z",
     "shell.execute_reply": "2022-06-17T15:23:47.082435Z",
     "shell.execute_reply.started": "2022-06-17T15:22:42.570427Z"
    },
    "papermill": {
     "duration": 0.054237,
     "end_time": "2022-06-17T15:23:47.083458",
     "exception": false,
     "start_time": "2022-06-17T15:23:47.029221",
     "status": "completed"
    },
    "tags": []
   },
   "outputs": [],
   "source": [
    "corr = train.corr()"
   ]
  },
  {
   "cell_type": "code",
   "execution_count": 24,
   "metadata": {
    "execution": {
     "iopub.execute_input": "2022-06-17T15:23:47.180330Z",
     "iopub.status.busy": "2022-06-17T15:23:47.173833Z",
     "iopub.status.idle": "2022-06-17T15:23:47.432932Z",
     "shell.execute_reply": "2022-06-17T15:23:47.431886Z",
     "shell.execute_reply.started": "2022-06-17T15:22:44.438921Z"
    },
    "papermill": {
     "duration": 0.30805,
     "end_time": "2022-06-17T15:23:47.433119",
     "exception": false,
     "start_time": "2022-06-17T15:23:47.125069",
     "status": "completed"
    },
    "tags": []
   },
   "outputs": [
    {
     "data": {
      "text/plain": [
       "<matplotlib.axes._subplots.AxesSubplot at 0x7f31b9cd1510>"
      ]
     },
     "execution_count": 24,
     "metadata": {},
     "output_type": "execute_result"
    },
    {
     "data": {
      "image/png": "[encoded data removed]",
      "text/plain": [
       "<Figure size 432x288 with 2 Axes>"
      ]
     },
     "metadata": {
      "needs_background": "light"
     },
     "output_type": "display_data"
    }
   ],
   "source": [
    "sns.heatmap(corr, square=True, linecolor='white', linewidth=0.1, cmap='coolwarm', vmax=1.0, vmin=-1.0)"
   ]
  },
  {
   "cell_type": "code",
   "execution_count": null,
   "metadata": {
    "papermill": {
     "duration": 0.044613,
     "end_time": "2022-06-17T15:23:47.522924",
     "exception": false,
     "start_time": "2022-06-17T15:23:47.478311",
     "status": "completed"
    },
    "tags": []
   },
   "outputs": [],
   "source": []
  }
 ],
 "metadata": {
  "kernelspec": {
   "display_name": "Python 3",
   "language": "python",
   "name": "python3"
  },
  "language_info": {
   "codemirror_mode": {
    "name": "ipython",
    "version": 3
   },
   "file_extension": ".py",
   "mimetype": "text/x-python",
   "name": "python",
   "nbconvert_exporter": "python",
   "pygments_lexer": "ipython3",
   "version": "3.7.6"
  },
  "papermill": {
   "duration": 23.046716,
   "end_time": "2022-06-17T15:23:48.664382",
   "environment_variables": {},
   "exception": null,
   "input_path": "__notebook__.ipynb",
   "output_path": "__notebook__.ipynb",
   "parameters": {},
   "start_time": "2022-06-17T15:23:25.617666",
   "version": "2.1.0"
  }
 },
 "nbformat": 4,
 "nbformat_minor": 4
}
