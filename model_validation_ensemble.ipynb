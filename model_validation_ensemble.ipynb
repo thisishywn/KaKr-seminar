{
 "cells": [
  {
   "cell_type": "code",
   "execution_count": 1,
   "id": "e168f97d",
   "metadata": {
    "_cell_guid": "b1076dfc-b9ad-4769-8c92-a6c4dae69d19",
    "_uuid": "8f2839f25d086af736a60e9eeb907d3b93b6e0e5",
    "execution": {
     "iopub.execute_input": "2022-06-17T17:52:54.853060Z",
     "iopub.status.busy": "2022-06-17T17:52:54.852575Z",
     "iopub.status.idle": "2022-06-17T17:52:54.862998Z",
     "shell.execute_reply": "2022-06-17T17:52:54.862321Z"
    },
    "papermill": {
     "duration": 0.030496,
     "end_time": "2022-06-17T17:52:54.864742",
     "exception": false,
     "start_time": "2022-06-17T17:52:54.834246",
     "status": "completed"
    },
    "tags": []
   },
   "outputs": [],
   "source": [
    "import numpy as np\n",
    "import pandas as pd\n",
    "\n",
    "import warnings\n",
    "warnings.filterwarnings(action='ignore')"
   ]
  },
  {
   "cell_type": "code",
   "execution_count": 2,
   "id": "6f256a25",
   "metadata": {
    "_cell_guid": "79c7e3d0-c299-4dcb-8224-4455121ee9b0",
    "_uuid": "d629ff2d2480ee46fbb7e2d37f6b5fab8052498a",
    "execution": {
     "iopub.execute_input": "2022-06-17T17:52:54.895722Z",
     "iopub.status.busy": "2022-06-17T17:52:54.895076Z",
     "iopub.status.idle": "2022-06-17T17:52:55.017052Z",
     "shell.execute_reply": "2022-06-17T17:52:55.016257Z"
    },
    "papermill": {
     "duration": 0.139361,
     "end_time": "2022-06-17T17:52:55.019165",
     "exception": false,
     "start_time": "2022-06-17T17:52:54.879804",
     "status": "completed"
    },
    "tags": []
   },
   "outputs": [],
   "source": [
    "train = pd.read_csv(\"../input/kakr-4th-competition/train.csv\")\n",
    "label = train['income']\n",
    "\n",
    "del train['income']\n",
    "\n",
    "test = pd.read_csv(\"../input/kakr-4th-competition/test.csv\")"
   ]
  },
  {
   "cell_type": "code",
   "execution_count": 3,
   "id": "e437f775",
   "metadata": {
    "execution": {
     "iopub.execute_input": "2022-06-17T17:52:55.052731Z",
     "iopub.status.busy": "2022-06-17T17:52:55.052052Z",
     "iopub.status.idle": "2022-06-17T17:52:55.070090Z",
     "shell.execute_reply": "2022-06-17T17:52:55.069321Z"
    },
    "papermill": {
     "duration": 0.035602,
     "end_time": "2022-06-17T17:52:55.071673",
     "exception": false,
     "start_time": "2022-06-17T17:52:55.036071",
     "status": "completed"
    },
    "tags": []
   },
   "outputs": [],
   "source": [
    "label = label.map(lambda x: 1 if x == '>50K' else 0)"
   ]
  },
  {
   "cell_type": "code",
   "execution_count": 4,
   "id": "3f87950d",
   "metadata": {
    "execution": {
     "iopub.execute_input": "2022-06-17T17:52:55.102231Z",
     "iopub.status.busy": "2022-06-17T17:52:55.101988Z",
     "iopub.status.idle": "2022-06-17T17:52:55.106645Z",
     "shell.execute_reply": "2022-06-17T17:52:55.105961Z"
    },
    "papermill": {
     "duration": 0.021646,
     "end_time": "2022-06-17T17:52:55.108234",
     "exception": false,
     "start_time": "2022-06-17T17:52:55.086588",
     "status": "completed"
    },
    "tags": []
   },
   "outputs": [],
   "source": [
    "del train['id']\n",
    "del test['id']"
   ]
  },
  {
   "cell_type": "code",
   "execution_count": 5,
   "id": "71518b02",
   "metadata": {
    "execution": {
     "iopub.execute_input": "2022-06-17T17:52:55.138487Z",
     "iopub.status.busy": "2022-06-17T17:52:55.138125Z",
     "iopub.status.idle": "2022-06-17T17:52:55.151202Z",
     "shell.execute_reply": "2022-06-17T17:52:55.150545Z"
    },
    "papermill": {
     "duration": 0.030297,
     "end_time": "2022-06-17T17:52:55.152896",
     "exception": false,
     "start_time": "2022-06-17T17:52:55.122599",
     "status": "completed"
    },
    "tags": []
   },
   "outputs": [],
   "source": [
    "tmp_train = train.copy()\n",
    "tmp_test  = test.copy()"
   ]
  },
  {
   "cell_type": "code",
   "execution_count": 6,
   "id": "a42a00aa",
   "metadata": {
    "execution": {
     "iopub.execute_input": "2022-06-17T17:52:55.183724Z",
     "iopub.status.busy": "2022-06-17T17:52:55.183383Z",
     "iopub.status.idle": "2022-06-17T17:52:55.203575Z",
     "shell.execute_reply": "2022-06-17T17:52:55.202883Z"
    },
    "papermill": {
     "duration": 0.037721,
     "end_time": "2022-06-17T17:52:55.205706",
     "exception": false,
     "start_time": "2022-06-17T17:52:55.167985",
     "status": "completed"
    },
    "tags": []
   },
   "outputs": [
    {
     "data": {
      "text/html": [
       "<div>\n",
       "<style scoped>\n",
       "    .dataframe tbody tr th:only-of-type {\n",
       "        vertical-align: middle;\n",
       "    }\n",
       "\n",
       "    .dataframe tbody tr th {\n",
       "        vertical-align: top;\n",
       "    }\n",
       "\n",
       "    .dataframe thead th {\n",
       "        text-align: right;\n",
       "    }\n",
       "</style>\n",
       "<table border=\"1\" class=\"dataframe\">\n",
       "  <thead>\n",
       "    <tr style=\"text-align: right;\">\n",
       "      <th></th>\n",
       "      <th>age</th>\n",
       "      <th>workclass</th>\n",
       "      <th>fnlwgt</th>\n",
       "      <th>education</th>\n",
       "      <th>education_num</th>\n",
       "      <th>marital_status</th>\n",
       "      <th>occupation</th>\n",
       "      <th>relationship</th>\n",
       "      <th>race</th>\n",
       "      <th>sex</th>\n",
       "      <th>capital_gain</th>\n",
       "      <th>capital_loss</th>\n",
       "      <th>hours_per_week</th>\n",
       "      <th>native_country</th>\n",
       "    </tr>\n",
       "  </thead>\n",
       "  <tbody>\n",
       "    <tr>\n",
       "      <th>0</th>\n",
       "      <td>40</td>\n",
       "      <td>Private</td>\n",
       "      <td>168538</td>\n",
       "      <td>HS-grad</td>\n",
       "      <td>9</td>\n",
       "      <td>Married-civ-spouse</td>\n",
       "      <td>Sales</td>\n",
       "      <td>Husband</td>\n",
       "      <td>White</td>\n",
       "      <td>Male</td>\n",
       "      <td>0</td>\n",
       "      <td>0</td>\n",
       "      <td>60</td>\n",
       "      <td>United-States</td>\n",
       "    </tr>\n",
       "    <tr>\n",
       "      <th>1</th>\n",
       "      <td>17</td>\n",
       "      <td>Private</td>\n",
       "      <td>101626</td>\n",
       "      <td>9th</td>\n",
       "      <td>5</td>\n",
       "      <td>Never-married</td>\n",
       "      <td>Machine-op-inspct</td>\n",
       "      <td>Own-child</td>\n",
       "      <td>White</td>\n",
       "      <td>Male</td>\n",
       "      <td>0</td>\n",
       "      <td>0</td>\n",
       "      <td>20</td>\n",
       "      <td>United-States</td>\n",
       "    </tr>\n",
       "    <tr>\n",
       "      <th>2</th>\n",
       "      <td>18</td>\n",
       "      <td>Private</td>\n",
       "      <td>353358</td>\n",
       "      <td>Some-college</td>\n",
       "      <td>10</td>\n",
       "      <td>Never-married</td>\n",
       "      <td>Other-service</td>\n",
       "      <td>Own-child</td>\n",
       "      <td>White</td>\n",
       "      <td>Male</td>\n",
       "      <td>0</td>\n",
       "      <td>0</td>\n",
       "      <td>16</td>\n",
       "      <td>United-States</td>\n",
       "    </tr>\n",
       "    <tr>\n",
       "      <th>3</th>\n",
       "      <td>21</td>\n",
       "      <td>Private</td>\n",
       "      <td>151158</td>\n",
       "      <td>Some-college</td>\n",
       "      <td>10</td>\n",
       "      <td>Never-married</td>\n",
       "      <td>Prof-specialty</td>\n",
       "      <td>Own-child</td>\n",
       "      <td>White</td>\n",
       "      <td>Female</td>\n",
       "      <td>0</td>\n",
       "      <td>0</td>\n",
       "      <td>25</td>\n",
       "      <td>United-States</td>\n",
       "    </tr>\n",
       "    <tr>\n",
       "      <th>4</th>\n",
       "      <td>24</td>\n",
       "      <td>Private</td>\n",
       "      <td>122234</td>\n",
       "      <td>Some-college</td>\n",
       "      <td>10</td>\n",
       "      <td>Never-married</td>\n",
       "      <td>Adm-clerical</td>\n",
       "      <td>Not-in-family</td>\n",
       "      <td>Black</td>\n",
       "      <td>Female</td>\n",
       "      <td>0</td>\n",
       "      <td>0</td>\n",
       "      <td>20</td>\n",
       "      <td>?</td>\n",
       "    </tr>\n",
       "  </tbody>\n",
       "</table>\n",
       "</div>"
      ],
      "text/plain": [
       "   age workclass  fnlwgt     education  education_num      marital_status  \\\n",
       "0   40   Private  168538       HS-grad              9  Married-civ-spouse   \n",
       "1   17   Private  101626           9th              5       Never-married   \n",
       "2   18   Private  353358  Some-college             10       Never-married   \n",
       "3   21   Private  151158  Some-college             10       Never-married   \n",
       "4   24   Private  122234  Some-college             10       Never-married   \n",
       "\n",
       "          occupation   relationship   race     sex  capital_gain  \\\n",
       "0              Sales        Husband  White    Male             0   \n",
       "1  Machine-op-inspct      Own-child  White    Male             0   \n",
       "2      Other-service      Own-child  White    Male             0   \n",
       "3     Prof-specialty      Own-child  White  Female             0   \n",
       "4       Adm-clerical  Not-in-family  Black  Female             0   \n",
       "\n",
       "   capital_loss  hours_per_week native_country  \n",
       "0             0              60  United-States  \n",
       "1             0              20  United-States  \n",
       "2             0              16  United-States  \n",
       "3             0              25  United-States  \n",
       "4             0              20              ?  "
      ]
     },
     "execution_count": 6,
     "metadata": {},
     "output_type": "execute_result"
    }
   ],
   "source": [
    "tmp_train.head()"
   ]
  },
  {
   "cell_type": "code",
   "execution_count": 7,
   "id": "f2948e65",
   "metadata": {
    "execution": {
     "iopub.execute_input": "2022-06-17T17:52:55.238551Z",
     "iopub.status.busy": "2022-06-17T17:52:55.237875Z",
     "iopub.status.idle": "2022-06-17T17:52:55.273346Z",
     "shell.execute_reply": "2022-06-17T17:52:55.272568Z"
    },
    "papermill": {
     "duration": 0.055038,
     "end_time": "2022-06-17T17:52:55.275679",
     "exception": false,
     "start_time": "2022-06-17T17:52:55.220641",
     "status": "completed"
    },
    "tags": []
   },
   "outputs": [
    {
     "name": "stdout",
     "output_type": "stream",
     "text": [
      "<class 'pandas.core.frame.DataFrame'>\n",
      "RangeIndex: 26049 entries, 0 to 26048\n",
      "Data columns (total 14 columns):\n",
      " #   Column          Non-Null Count  Dtype \n",
      "---  ------          --------------  ----- \n",
      " 0   age             26049 non-null  int64 \n",
      " 1   workclass       26049 non-null  object\n",
      " 2   fnlwgt          26049 non-null  int64 \n",
      " 3   education       26049 non-null  object\n",
      " 4   education_num   26049 non-null  int64 \n",
      " 5   marital_status  26049 non-null  object\n",
      " 6   occupation      26049 non-null  object\n",
      " 7   relationship    26049 non-null  object\n",
      " 8   race            26049 non-null  object\n",
      " 9   sex             26049 non-null  object\n",
      " 10  capital_gain    26049 non-null  int64 \n",
      " 11  capital_loss    26049 non-null  int64 \n",
      " 12  hours_per_week  26049 non-null  int64 \n",
      " 13  native_country  26049 non-null  object\n",
      "dtypes: int64(6), object(8)\n",
      "memory usage: 2.8+ MB\n"
     ]
    }
   ],
   "source": [
    "tmp_train.info()"
   ]
  },
  {
   "cell_type": "code",
   "execution_count": 8,
   "id": "881b89c6",
   "metadata": {
    "execution": {
     "iopub.execute_input": "2022-06-17T17:52:55.307968Z",
     "iopub.status.busy": "2022-06-17T17:52:55.307598Z",
     "iopub.status.idle": "2022-06-17T17:52:55.339494Z",
     "shell.execute_reply": "2022-06-17T17:52:55.338555Z"
    },
    "papermill": {
     "duration": 0.050016,
     "end_time": "2022-06-17T17:52:55.341833",
     "exception": false,
     "start_time": "2022-06-17T17:52:55.291817",
     "status": "completed"
    },
    "tags": []
   },
   "outputs": [
    {
     "data": {
      "text/html": [
       "<div>\n",
       "<style scoped>\n",
       "    .dataframe tbody tr th:only-of-type {\n",
       "        vertical-align: middle;\n",
       "    }\n",
       "\n",
       "    .dataframe tbody tr th {\n",
       "        vertical-align: top;\n",
       "    }\n",
       "\n",
       "    .dataframe thead th {\n",
       "        text-align: right;\n",
       "    }\n",
       "</style>\n",
       "<table border=\"1\" class=\"dataframe\">\n",
       "  <thead>\n",
       "    <tr style=\"text-align: right;\">\n",
       "      <th></th>\n",
       "      <th>age</th>\n",
       "      <th>fnlwgt</th>\n",
       "      <th>education_num</th>\n",
       "      <th>capital_gain</th>\n",
       "      <th>capital_loss</th>\n",
       "      <th>hours_per_week</th>\n",
       "    </tr>\n",
       "  </thead>\n",
       "  <tbody>\n",
       "    <tr>\n",
       "      <th>count</th>\n",
       "      <td>26049.000000</td>\n",
       "      <td>2.604900e+04</td>\n",
       "      <td>26049.000000</td>\n",
       "      <td>26049.00000</td>\n",
       "      <td>26049.000000</td>\n",
       "      <td>26049.000000</td>\n",
       "    </tr>\n",
       "    <tr>\n",
       "      <th>mean</th>\n",
       "      <td>38.569235</td>\n",
       "      <td>1.903045e+05</td>\n",
       "      <td>10.088372</td>\n",
       "      <td>1087.68970</td>\n",
       "      <td>87.732734</td>\n",
       "      <td>40.443126</td>\n",
       "    </tr>\n",
       "    <tr>\n",
       "      <th>std</th>\n",
       "      <td>13.671489</td>\n",
       "      <td>1.059663e+05</td>\n",
       "      <td>2.567610</td>\n",
       "      <td>7388.85469</td>\n",
       "      <td>403.230205</td>\n",
       "      <td>12.361850</td>\n",
       "    </tr>\n",
       "    <tr>\n",
       "      <th>min</th>\n",
       "      <td>17.000000</td>\n",
       "      <td>1.376900e+04</td>\n",
       "      <td>1.000000</td>\n",
       "      <td>0.00000</td>\n",
       "      <td>0.000000</td>\n",
       "      <td>1.000000</td>\n",
       "    </tr>\n",
       "    <tr>\n",
       "      <th>25%</th>\n",
       "      <td>28.000000</td>\n",
       "      <td>1.181080e+05</td>\n",
       "      <td>9.000000</td>\n",
       "      <td>0.00000</td>\n",
       "      <td>0.000000</td>\n",
       "      <td>40.000000</td>\n",
       "    </tr>\n",
       "    <tr>\n",
       "      <th>50%</th>\n",
       "      <td>37.000000</td>\n",
       "      <td>1.788660e+05</td>\n",
       "      <td>10.000000</td>\n",
       "      <td>0.00000</td>\n",
       "      <td>0.000000</td>\n",
       "      <td>40.000000</td>\n",
       "    </tr>\n",
       "    <tr>\n",
       "      <th>75%</th>\n",
       "      <td>48.000000</td>\n",
       "      <td>2.377350e+05</td>\n",
       "      <td>12.000000</td>\n",
       "      <td>0.00000</td>\n",
       "      <td>0.000000</td>\n",
       "      <td>45.000000</td>\n",
       "    </tr>\n",
       "    <tr>\n",
       "      <th>max</th>\n",
       "      <td>90.000000</td>\n",
       "      <td>1.484705e+06</td>\n",
       "      <td>16.000000</td>\n",
       "      <td>99999.00000</td>\n",
       "      <td>4356.000000</td>\n",
       "      <td>99.000000</td>\n",
       "    </tr>\n",
       "  </tbody>\n",
       "</table>\n",
       "</div>"
      ],
      "text/plain": [
       "                age        fnlwgt  education_num  capital_gain  capital_loss  \\\n",
       "count  26049.000000  2.604900e+04   26049.000000   26049.00000  26049.000000   \n",
       "mean      38.569235  1.903045e+05      10.088372    1087.68970     87.732734   \n",
       "std       13.671489  1.059663e+05       2.567610    7388.85469    403.230205   \n",
       "min       17.000000  1.376900e+04       1.000000       0.00000      0.000000   \n",
       "25%       28.000000  1.181080e+05       9.000000       0.00000      0.000000   \n",
       "50%       37.000000  1.788660e+05      10.000000       0.00000      0.000000   \n",
       "75%       48.000000  2.377350e+05      12.000000       0.00000      0.000000   \n",
       "max       90.000000  1.484705e+06      16.000000   99999.00000   4356.000000   \n",
       "\n",
       "       hours_per_week  \n",
       "count    26049.000000  \n",
       "mean        40.443126  \n",
       "std         12.361850  \n",
       "min          1.000000  \n",
       "25%         40.000000  \n",
       "50%         40.000000  \n",
       "75%         45.000000  \n",
       "max         99.000000  "
      ]
     },
     "execution_count": 8,
     "metadata": {},
     "output_type": "execute_result"
    }
   ],
   "source": [
    "tmp_train.describe()"
   ]
  },
  {
   "cell_type": "code",
   "execution_count": 9,
   "id": "6ccd5ffa",
   "metadata": {
    "execution": {
     "iopub.execute_input": "2022-06-17T17:52:55.374622Z",
     "iopub.status.busy": "2022-06-17T17:52:55.374345Z",
     "iopub.status.idle": "2022-06-17T17:52:55.387778Z",
     "shell.execute_reply": "2022-06-17T17:52:55.387068Z"
    },
    "papermill": {
     "duration": 0.030876,
     "end_time": "2022-06-17T17:52:55.389334",
     "exception": false,
     "start_time": "2022-06-17T17:52:55.358458",
     "status": "completed"
    },
    "tags": []
   },
   "outputs": [
    {
     "data": {
      "text/html": [
       "<div>\n",
       "<style scoped>\n",
       "    .dataframe tbody tr th:only-of-type {\n",
       "        vertical-align: middle;\n",
       "    }\n",
       "\n",
       "    .dataframe tbody tr th {\n",
       "        vertical-align: top;\n",
       "    }\n",
       "\n",
       "    .dataframe thead th {\n",
       "        text-align: right;\n",
       "    }\n",
       "</style>\n",
       "<table border=\"1\" class=\"dataframe\">\n",
       "  <thead>\n",
       "    <tr style=\"text-align: right;\">\n",
       "      <th></th>\n",
       "      <th>age</th>\n",
       "      <th>workclass</th>\n",
       "      <th>fnlwgt</th>\n",
       "      <th>education</th>\n",
       "      <th>education_num</th>\n",
       "      <th>marital_status</th>\n",
       "      <th>occupation</th>\n",
       "      <th>relationship</th>\n",
       "      <th>race</th>\n",
       "      <th>sex</th>\n",
       "      <th>capital_gain</th>\n",
       "      <th>capital_loss</th>\n",
       "      <th>hours_per_week</th>\n",
       "      <th>native_country</th>\n",
       "    </tr>\n",
       "  </thead>\n",
       "  <tbody>\n",
       "    <tr>\n",
       "      <th>0</th>\n",
       "      <td>28</td>\n",
       "      <td>Private</td>\n",
       "      <td>67661</td>\n",
       "      <td>Some-college</td>\n",
       "      <td>10</td>\n",
       "      <td>Never-married</td>\n",
       "      <td>Adm-clerical</td>\n",
       "      <td>Other-relative</td>\n",
       "      <td>White</td>\n",
       "      <td>Female</td>\n",
       "      <td>0</td>\n",
       "      <td>0</td>\n",
       "      <td>40</td>\n",
       "      <td>United-States</td>\n",
       "    </tr>\n",
       "    <tr>\n",
       "      <th>1</th>\n",
       "      <td>40</td>\n",
       "      <td>Self-emp-inc</td>\n",
       "      <td>37869</td>\n",
       "      <td>HS-grad</td>\n",
       "      <td>9</td>\n",
       "      <td>Married-civ-spouse</td>\n",
       "      <td>Exec-managerial</td>\n",
       "      <td>Husband</td>\n",
       "      <td>White</td>\n",
       "      <td>Male</td>\n",
       "      <td>0</td>\n",
       "      <td>0</td>\n",
       "      <td>50</td>\n",
       "      <td>United-States</td>\n",
       "    </tr>\n",
       "    <tr>\n",
       "      <th>2</th>\n",
       "      <td>20</td>\n",
       "      <td>Private</td>\n",
       "      <td>109952</td>\n",
       "      <td>Some-college</td>\n",
       "      <td>10</td>\n",
       "      <td>Never-married</td>\n",
       "      <td>Handlers-cleaners</td>\n",
       "      <td>Own-child</td>\n",
       "      <td>White</td>\n",
       "      <td>Male</td>\n",
       "      <td>0</td>\n",
       "      <td>0</td>\n",
       "      <td>25</td>\n",
       "      <td>United-States</td>\n",
       "    </tr>\n",
       "    <tr>\n",
       "      <th>3</th>\n",
       "      <td>40</td>\n",
       "      <td>Private</td>\n",
       "      <td>114537</td>\n",
       "      <td>Assoc-voc</td>\n",
       "      <td>11</td>\n",
       "      <td>Married-civ-spouse</td>\n",
       "      <td>Exec-managerial</td>\n",
       "      <td>Husband</td>\n",
       "      <td>White</td>\n",
       "      <td>Male</td>\n",
       "      <td>0</td>\n",
       "      <td>0</td>\n",
       "      <td>50</td>\n",
       "      <td>United-States</td>\n",
       "    </tr>\n",
       "    <tr>\n",
       "      <th>4</th>\n",
       "      <td>37</td>\n",
       "      <td>Private</td>\n",
       "      <td>51264</td>\n",
       "      <td>Doctorate</td>\n",
       "      <td>16</td>\n",
       "      <td>Married-civ-spouse</td>\n",
       "      <td>Prof-specialty</td>\n",
       "      <td>Husband</td>\n",
       "      <td>White</td>\n",
       "      <td>Male</td>\n",
       "      <td>0</td>\n",
       "      <td>0</td>\n",
       "      <td>99</td>\n",
       "      <td>France</td>\n",
       "    </tr>\n",
       "  </tbody>\n",
       "</table>\n",
       "</div>"
      ],
      "text/plain": [
       "   age     workclass  fnlwgt     education  education_num      marital_status  \\\n",
       "0   28       Private   67661  Some-college             10       Never-married   \n",
       "1   40  Self-emp-inc   37869       HS-grad              9  Married-civ-spouse   \n",
       "2   20       Private  109952  Some-college             10       Never-married   \n",
       "3   40       Private  114537     Assoc-voc             11  Married-civ-spouse   \n",
       "4   37       Private   51264     Doctorate             16  Married-civ-spouse   \n",
       "\n",
       "          occupation    relationship   race     sex  capital_gain  \\\n",
       "0       Adm-clerical  Other-relative  White  Female             0   \n",
       "1    Exec-managerial         Husband  White    Male             0   \n",
       "2  Handlers-cleaners       Own-child  White    Male             0   \n",
       "3    Exec-managerial         Husband  White    Male             0   \n",
       "4     Prof-specialty         Husband  White    Male             0   \n",
       "\n",
       "   capital_loss  hours_per_week native_country  \n",
       "0             0              40  United-States  \n",
       "1             0              50  United-States  \n",
       "2             0              25  United-States  \n",
       "3             0              50  United-States  \n",
       "4             0              99         France  "
      ]
     },
     "execution_count": 9,
     "metadata": {},
     "output_type": "execute_result"
    }
   ],
   "source": [
    "tmp_test.head()"
   ]
  },
  {
   "cell_type": "code",
   "execution_count": 10,
   "id": "2c8c93d5",
   "metadata": {
    "execution": {
     "iopub.execute_input": "2022-06-17T17:52:55.421634Z",
     "iopub.status.busy": "2022-06-17T17:52:55.421039Z",
     "iopub.status.idle": "2022-06-17T17:52:55.424540Z",
     "shell.execute_reply": "2022-06-17T17:52:55.423858Z"
    },
    "papermill": {
     "duration": 0.021279,
     "end_time": "2022-06-17T17:52:55.426162",
     "exception": false,
     "start_time": "2022-06-17T17:52:55.404883",
     "status": "completed"
    },
    "tags": []
   },
   "outputs": [],
   "source": [
    "has_na_columns = ['workclass', 'occupation', 'native_country']"
   ]
  },
  {
   "cell_type": "code",
   "execution_count": 11,
   "id": "c8f64fd7",
   "metadata": {
    "execution": {
     "iopub.execute_input": "2022-06-17T17:52:55.458921Z",
     "iopub.status.busy": "2022-06-17T17:52:55.458451Z",
     "iopub.status.idle": "2022-06-17T17:52:55.475856Z",
     "shell.execute_reply": "2022-06-17T17:52:55.475156Z"
    },
    "papermill": {
     "duration": 0.035858,
     "end_time": "2022-06-17T17:52:55.477454",
     "exception": false,
     "start_time": "2022-06-17T17:52:55.441596",
     "status": "completed"
    },
    "tags": []
   },
   "outputs": [
    {
     "data": {
      "text/plain": [
       "workclass         1502\n",
       "occupation        1508\n",
       "native_country     456\n",
       "dtype: int64"
      ]
     },
     "execution_count": 11,
     "metadata": {},
     "output_type": "execute_result"
    }
   ],
   "source": [
    "(tmp_train[has_na_columns] == '?').sum()"
   ]
  },
  {
   "cell_type": "code",
   "execution_count": 12,
   "id": "dddf798b",
   "metadata": {
    "execution": {
     "iopub.execute_input": "2022-06-17T17:52:55.510705Z",
     "iopub.status.busy": "2022-06-17T17:52:55.509925Z",
     "iopub.status.idle": "2022-06-17T17:52:55.547234Z",
     "shell.execute_reply": "2022-06-17T17:52:55.546514Z"
    },
    "papermill": {
     "duration": 0.056371,
     "end_time": "2022-06-17T17:52:55.549547",
     "exception": false,
     "start_time": "2022-06-17T17:52:55.493176",
     "status": "completed"
    },
    "tags": []
   },
   "outputs": [],
   "source": [
    "for c in has_na_columns:\n",
    "    tmp_train.loc[train[c] == '?', c] = train[c].mode()[0]\n",
    "    tmp_test.loc[test[c]   == '?', c] = test[c].mode()[0]"
   ]
  },
  {
   "cell_type": "code",
   "execution_count": 13,
   "id": "11d33489",
   "metadata": {
    "execution": {
     "iopub.execute_input": "2022-06-17T17:52:55.586249Z",
     "iopub.status.busy": "2022-06-17T17:52:55.585967Z",
     "iopub.status.idle": "2022-06-17T17:52:55.604195Z",
     "shell.execute_reply": "2022-06-17T17:52:55.603534Z"
    },
    "papermill": {
     "duration": 0.036015,
     "end_time": "2022-06-17T17:52:55.605791",
     "exception": false,
     "start_time": "2022-06-17T17:52:55.569776",
     "status": "completed"
    },
    "tags": []
   },
   "outputs": [
    {
     "data": {
      "text/plain": [
       "workclass         0\n",
       "occupation        0\n",
       "native_country    0\n",
       "dtype: int64"
      ]
     },
     "execution_count": 13,
     "metadata": {},
     "output_type": "execute_result"
    }
   ],
   "source": [
    "(tmp_train[has_na_columns] == '?').sum()"
   ]
  },
  {
   "cell_type": "markdown",
   "id": "39baf6dd",
   "metadata": {
    "papermill": {
     "duration": 0.015463,
     "end_time": "2022-06-17T17:52:55.636766",
     "exception": false,
     "start_time": "2022-06-17T17:52:55.621303",
     "status": "completed"
    },
    "tags": []
   },
   "source": [
    "#### Log 변환\n",
    "capital_gain 변수와 capital_loss 변수의 분포가 한쪽으로 치우친 형태이므로 로그 변환을 통해 분포의 형태를 조정"
   ]
  },
  {
   "cell_type": "code",
   "execution_count": 14,
   "id": "50062a02",
   "metadata": {
    "execution": {
     "iopub.execute_input": "2022-06-17T17:52:55.670054Z",
     "iopub.status.busy": "2022-06-17T17:52:55.669434Z",
     "iopub.status.idle": "2022-06-17T17:52:55.885172Z",
     "shell.execute_reply": "2022-06-17T17:52:55.884343Z"
    },
    "papermill": {
     "duration": 0.234567,
     "end_time": "2022-06-17T17:52:55.887256",
     "exception": false,
     "start_time": "2022-06-17T17:52:55.652689",
     "status": "completed"
    },
    "tags": []
   },
   "outputs": [
    {
     "data": {
      "text/plain": [
       "<AxesSubplot:ylabel='Frequency'>"
      ]
     },
     "execution_count": 14,
     "metadata": {},
     "output_type": "execute_result"
    },
    {
     "data": {
      "image/png": "[encoded data removed]",
      "text/plain": [
       "<Figure size 432x288 with 1 Axes>"
      ]
     },
     "metadata": {
      "needs_background": "light"
     },
     "output_type": "display_data"
    }
   ],
   "source": [
    "tmp_train['capital_gain'].plot.hist()"
   ]
  },
  {
   "cell_type": "code",
   "execution_count": 15,
   "id": "553c309b",
   "metadata": {
    "execution": {
     "iopub.execute_input": "2022-06-17T17:52:55.920760Z",
     "iopub.status.busy": "2022-06-17T17:52:55.920454Z",
     "iopub.status.idle": "2022-06-17T17:52:56.124516Z",
     "shell.execute_reply": "2022-06-17T17:52:56.123768Z"
    },
    "papermill": {
     "duration": 0.222925,
     "end_time": "2022-06-17T17:52:56.126269",
     "exception": false,
     "start_time": "2022-06-17T17:52:55.903344",
     "status": "completed"
    },
    "tags": []
   },
   "outputs": [
    {
     "data": {
      "text/plain": [
       "<AxesSubplot:ylabel='Frequency'>"
      ]
     },
     "execution_count": 15,
     "metadata": {},
     "output_type": "execute_result"
    },
    {
     "data": {
      "image/png": "[encoded data removed]",
      "text/plain": [
       "<Figure size 432x288 with 1 Axes>"
      ]
     },
     "metadata": {
      "needs_background": "light"
     },
     "output_type": "display_data"
    }
   ],
   "source": [
    "tmp_train['log_capital_gain'] = train['capital_gain'].map(lambda x : np.log(x) if x != 0 else 0)\n",
    "tmp_test['log_capital_gain']  = test['capital_gain'].map(lambda x : np.log(x) if x != 0 else 0)\n",
    "\n",
    "tmp_train['log_capital_gain'].plot.hist()"
   ]
  },
  {
   "cell_type": "code",
   "execution_count": 16,
   "id": "69d0ef5c",
   "metadata": {
    "execution": {
     "iopub.execute_input": "2022-06-17T17:52:56.160139Z",
     "iopub.status.busy": "2022-06-17T17:52:56.159863Z",
     "iopub.status.idle": "2022-06-17T17:52:56.398495Z",
     "shell.execute_reply": "2022-06-17T17:52:56.397660Z"
    },
    "papermill": {
     "duration": 0.258857,
     "end_time": "2022-06-17T17:52:56.401558",
     "exception": false,
     "start_time": "2022-06-17T17:52:56.142701",
     "status": "completed"
    },
    "tags": []
   },
   "outputs": [
    {
     "data": {
      "text/plain": [
       "<AxesSubplot:ylabel='Frequency'>"
      ]
     },
     "execution_count": 16,
     "metadata": {},
     "output_type": "execute_result"
    },
    {
     "data": {
      "image/png": "[encoded data removed]",
      "text/plain": [
       "<Figure size 432x288 with 1 Axes>"
      ]
     },
     "metadata": {
      "needs_background": "light"
     },
     "output_type": "display_data"
    }
   ],
   "source": [
    "train['capital_loss'].plot.hist()"
   ]
  },
  {
   "cell_type": "code",
   "execution_count": 17,
   "id": "bfb62eaa",
   "metadata": {
    "execution": {
     "iopub.execute_input": "2022-06-17T17:52:56.460148Z",
     "iopub.status.busy": "2022-06-17T17:52:56.459763Z",
     "iopub.status.idle": "2022-06-17T17:52:56.729764Z",
     "shell.execute_reply": "2022-06-17T17:52:56.728901Z"
    },
    "papermill": {
     "duration": 0.301862,
     "end_time": "2022-06-17T17:52:56.731942",
     "exception": false,
     "start_time": "2022-06-17T17:52:56.430080",
     "status": "completed"
    },
    "tags": []
   },
   "outputs": [
    {
     "data": {
      "text/plain": [
       "<AxesSubplot:ylabel='Frequency'>"
      ]
     },
     "execution_count": 17,
     "metadata": {},
     "output_type": "execute_result"
    },
    {
     "data": {
      "image/png": "[encoded data removed]",
      "text/plain": [
       "<Figure size 432x288 with 1 Axes>"
      ]
     },
     "metadata": {
      "needs_background": "light"
     },
     "output_type": "display_data"
    }
   ],
   "source": [
    "tmp_train['log_capital_loss'] = train['capital_loss'].map(lambda x : np.log(x) if x != 0 else 0)\n",
    "tmp_test['log_capital_loss'] = test['capital_loss'].map(lambda x : np.log(x) if x != 0 else 0)\n",
    "\n",
    "tmp_train['log_capital_loss'].plot.hist()"
   ]
  },
  {
   "cell_type": "code",
   "execution_count": 18,
   "id": "fa778e1b",
   "metadata": {
    "execution": {
     "iopub.execute_input": "2022-06-17T17:52:56.789881Z",
     "iopub.status.busy": "2022-06-17T17:52:56.789514Z",
     "iopub.status.idle": "2022-06-17T17:52:56.800298Z",
     "shell.execute_reply": "2022-06-17T17:52:56.799631Z"
    },
    "papermill": {
     "duration": 0.041516,
     "end_time": "2022-06-17T17:52:56.802360",
     "exception": false,
     "start_time": "2022-06-17T17:52:56.760844",
     "status": "completed"
    },
    "tags": []
   },
   "outputs": [],
   "source": [
    "tmp_train = tmp_train.drop(columns=['capital_loss', 'capital_gain'])\n",
    "tmp_test  = tmp_test.drop(columns=['capital_loss', 'capital_gain'])"
   ]
  },
  {
   "cell_type": "code",
   "execution_count": 19,
   "id": "9d1cc175",
   "metadata": {
    "execution": {
     "iopub.execute_input": "2022-06-17T17:52:56.859506Z",
     "iopub.status.busy": "2022-06-17T17:52:56.859098Z",
     "iopub.status.idle": "2022-06-17T17:52:56.880390Z",
     "shell.execute_reply": "2022-06-17T17:52:56.879550Z"
    },
    "papermill": {
     "duration": 0.052962,
     "end_time": "2022-06-17T17:52:56.883071",
     "exception": false,
     "start_time": "2022-06-17T17:52:56.830109",
     "status": "completed"
    },
    "tags": []
   },
   "outputs": [
    {
     "data": {
      "text/html": [
       "<div>\n",
       "<style scoped>\n",
       "    .dataframe tbody tr th:only-of-type {\n",
       "        vertical-align: middle;\n",
       "    }\n",
       "\n",
       "    .dataframe tbody tr th {\n",
       "        vertical-align: top;\n",
       "    }\n",
       "\n",
       "    .dataframe thead th {\n",
       "        text-align: right;\n",
       "    }\n",
       "</style>\n",
       "<table border=\"1\" class=\"dataframe\">\n",
       "  <thead>\n",
       "    <tr style=\"text-align: right;\">\n",
       "      <th></th>\n",
       "      <th>age</th>\n",
       "      <th>workclass</th>\n",
       "      <th>fnlwgt</th>\n",
       "      <th>education</th>\n",
       "      <th>education_num</th>\n",
       "      <th>marital_status</th>\n",
       "      <th>occupation</th>\n",
       "      <th>relationship</th>\n",
       "      <th>race</th>\n",
       "      <th>sex</th>\n",
       "      <th>hours_per_week</th>\n",
       "      <th>native_country</th>\n",
       "      <th>log_capital_gain</th>\n",
       "      <th>log_capital_loss</th>\n",
       "    </tr>\n",
       "  </thead>\n",
       "  <tbody>\n",
       "    <tr>\n",
       "      <th>0</th>\n",
       "      <td>40</td>\n",
       "      <td>Private</td>\n",
       "      <td>168538</td>\n",
       "      <td>HS-grad</td>\n",
       "      <td>9</td>\n",
       "      <td>Married-civ-spouse</td>\n",
       "      <td>Sales</td>\n",
       "      <td>Husband</td>\n",
       "      <td>White</td>\n",
       "      <td>Male</td>\n",
       "      <td>60</td>\n",
       "      <td>United-States</td>\n",
       "      <td>0.0</td>\n",
       "      <td>0.0</td>\n",
       "    </tr>\n",
       "    <tr>\n",
       "      <th>1</th>\n",
       "      <td>17</td>\n",
       "      <td>Private</td>\n",
       "      <td>101626</td>\n",
       "      <td>9th</td>\n",
       "      <td>5</td>\n",
       "      <td>Never-married</td>\n",
       "      <td>Machine-op-inspct</td>\n",
       "      <td>Own-child</td>\n",
       "      <td>White</td>\n",
       "      <td>Male</td>\n",
       "      <td>20</td>\n",
       "      <td>United-States</td>\n",
       "      <td>0.0</td>\n",
       "      <td>0.0</td>\n",
       "    </tr>\n",
       "    <tr>\n",
       "      <th>2</th>\n",
       "      <td>18</td>\n",
       "      <td>Private</td>\n",
       "      <td>353358</td>\n",
       "      <td>Some-college</td>\n",
       "      <td>10</td>\n",
       "      <td>Never-married</td>\n",
       "      <td>Other-service</td>\n",
       "      <td>Own-child</td>\n",
       "      <td>White</td>\n",
       "      <td>Male</td>\n",
       "      <td>16</td>\n",
       "      <td>United-States</td>\n",
       "      <td>0.0</td>\n",
       "      <td>0.0</td>\n",
       "    </tr>\n",
       "    <tr>\n",
       "      <th>3</th>\n",
       "      <td>21</td>\n",
       "      <td>Private</td>\n",
       "      <td>151158</td>\n",
       "      <td>Some-college</td>\n",
       "      <td>10</td>\n",
       "      <td>Never-married</td>\n",
       "      <td>Prof-specialty</td>\n",
       "      <td>Own-child</td>\n",
       "      <td>White</td>\n",
       "      <td>Female</td>\n",
       "      <td>25</td>\n",
       "      <td>United-States</td>\n",
       "      <td>0.0</td>\n",
       "      <td>0.0</td>\n",
       "    </tr>\n",
       "    <tr>\n",
       "      <th>4</th>\n",
       "      <td>24</td>\n",
       "      <td>Private</td>\n",
       "      <td>122234</td>\n",
       "      <td>Some-college</td>\n",
       "      <td>10</td>\n",
       "      <td>Never-married</td>\n",
       "      <td>Adm-clerical</td>\n",
       "      <td>Not-in-family</td>\n",
       "      <td>Black</td>\n",
       "      <td>Female</td>\n",
       "      <td>20</td>\n",
       "      <td>United-States</td>\n",
       "      <td>0.0</td>\n",
       "      <td>0.0</td>\n",
       "    </tr>\n",
       "  </tbody>\n",
       "</table>\n",
       "</div>"
      ],
      "text/plain": [
       "   age workclass  fnlwgt     education  education_num      marital_status  \\\n",
       "0   40   Private  168538       HS-grad              9  Married-civ-spouse   \n",
       "1   17   Private  101626           9th              5       Never-married   \n",
       "2   18   Private  353358  Some-college             10       Never-married   \n",
       "3   21   Private  151158  Some-college             10       Never-married   \n",
       "4   24   Private  122234  Some-college             10       Never-married   \n",
       "\n",
       "          occupation   relationship   race     sex  hours_per_week  \\\n",
       "0              Sales        Husband  White    Male              60   \n",
       "1  Machine-op-inspct      Own-child  White    Male              20   \n",
       "2      Other-service      Own-child  White    Male              16   \n",
       "3     Prof-specialty      Own-child  White  Female              25   \n",
       "4       Adm-clerical  Not-in-family  Black  Female              20   \n",
       "\n",
       "  native_country  log_capital_gain  log_capital_loss  \n",
       "0  United-States               0.0               0.0  \n",
       "1  United-States               0.0               0.0  \n",
       "2  United-States               0.0               0.0  \n",
       "3  United-States               0.0               0.0  \n",
       "4  United-States               0.0               0.0  "
      ]
     },
     "execution_count": 19,
     "metadata": {},
     "output_type": "execute_result"
    }
   ],
   "source": [
    "tmp_train.head()"
   ]
  },
  {
   "cell_type": "markdown",
   "id": "d6273d3d",
   "metadata": {
    "papermill": {
     "duration": 0.017456,
     "end_time": "2022-06-17T17:52:56.917735",
     "exception": false,
     "start_time": "2022-06-17T17:52:56.900279",
     "status": "completed"
    },
    "tags": []
   },
   "source": [
    "#### 데이터 split"
   ]
  },
  {
   "cell_type": "markdown",
   "id": "9b645cc2",
   "metadata": {
    "papermill": {
     "duration": 0.017193,
     "end_time": "2022-06-17T17:52:56.951841",
     "exception": false,
     "start_time": "2022-06-17T17:52:56.934648",
     "status": "completed"
    },
    "tags": []
   },
   "source": [
    "- stratify(array): split 이전의 클래스 비율을 split 이후에도 유지하기 위해 설정해야하는 값(클래스 라벨)\n",
    "    - ex) 원본 Train 데이터의 클래스 비율이 (7:3) 이었다면 Train, Valid(test) 데이터의 클래스 비율도 (7:3)이 됨"
   ]
  },
  {
   "cell_type": "code",
   "execution_count": 20,
   "id": "75264dec",
   "metadata": {
    "execution": {
     "iopub.execute_input": "2022-06-17T17:52:56.986947Z",
     "iopub.status.busy": "2022-06-17T17:52:56.986659Z",
     "iopub.status.idle": "2022-06-17T17:52:57.939072Z",
     "shell.execute_reply": "2022-06-17T17:52:57.938308Z"
    },
    "papermill": {
     "duration": 0.972127,
     "end_time": "2022-06-17T17:52:57.941020",
     "exception": false,
     "start_time": "2022-06-17T17:52:56.968893",
     "status": "completed"
    },
    "tags": []
   },
   "outputs": [],
   "source": [
    "from sklearn.model_selection import train_test_split\n",
    "\n",
    "tmp_train, tmp_valid, y_train, y_valid = train_test_split(tmp_train, label, \n",
    "                                                          test_size=0.3,\n",
    "                                                          random_state=2020,\n",
    "                                                          shuffle=True,\n",
    "                                                          stratify=label)"
   ]
  },
  {
   "cell_type": "code",
   "execution_count": 21,
   "id": "0e33ed64",
   "metadata": {
    "execution": {
     "iopub.execute_input": "2022-06-17T17:52:57.977045Z",
     "iopub.status.busy": "2022-06-17T17:52:57.976743Z",
     "iopub.status.idle": "2022-06-17T17:52:57.993971Z",
     "shell.execute_reply": "2022-06-17T17:52:57.993138Z"
    },
    "papermill": {
     "duration": 0.038037,
     "end_time": "2022-06-17T17:52:57.996721",
     "exception": false,
     "start_time": "2022-06-17T17:52:57.958684",
     "status": "completed"
    },
    "tags": []
   },
   "outputs": [
    {
     "data": {
      "text/html": [
       "<div>\n",
       "<style scoped>\n",
       "    .dataframe tbody tr th:only-of-type {\n",
       "        vertical-align: middle;\n",
       "    }\n",
       "\n",
       "    .dataframe tbody tr th {\n",
       "        vertical-align: top;\n",
       "    }\n",
       "\n",
       "    .dataframe thead th {\n",
       "        text-align: right;\n",
       "    }\n",
       "</style>\n",
       "<table border=\"1\" class=\"dataframe\">\n",
       "  <thead>\n",
       "    <tr style=\"text-align: right;\">\n",
       "      <th></th>\n",
       "      <th>age</th>\n",
       "      <th>workclass</th>\n",
       "      <th>fnlwgt</th>\n",
       "      <th>education</th>\n",
       "      <th>education_num</th>\n",
       "      <th>marital_status</th>\n",
       "      <th>occupation</th>\n",
       "      <th>relationship</th>\n",
       "      <th>race</th>\n",
       "      <th>sex</th>\n",
       "      <th>hours_per_week</th>\n",
       "      <th>native_country</th>\n",
       "      <th>log_capital_gain</th>\n",
       "      <th>log_capital_loss</th>\n",
       "    </tr>\n",
       "  </thead>\n",
       "  <tbody>\n",
       "    <tr>\n",
       "      <th>1083</th>\n",
       "      <td>43</td>\n",
       "      <td>Private</td>\n",
       "      <td>484861</td>\n",
       "      <td>Some-college</td>\n",
       "      <td>10</td>\n",
       "      <td>Married-civ-spouse</td>\n",
       "      <td>Craft-repair</td>\n",
       "      <td>Husband</td>\n",
       "      <td>White</td>\n",
       "      <td>Male</td>\n",
       "      <td>38</td>\n",
       "      <td>United-States</td>\n",
       "      <td>8.309923</td>\n",
       "      <td>0.0</td>\n",
       "    </tr>\n",
       "    <tr>\n",
       "      <th>18663</th>\n",
       "      <td>42</td>\n",
       "      <td>Private</td>\n",
       "      <td>134509</td>\n",
       "      <td>Some-college</td>\n",
       "      <td>10</td>\n",
       "      <td>Never-married</td>\n",
       "      <td>Transport-moving</td>\n",
       "      <td>Unmarried</td>\n",
       "      <td>Black</td>\n",
       "      <td>Female</td>\n",
       "      <td>40</td>\n",
       "      <td>United-States</td>\n",
       "      <td>0.000000</td>\n",
       "      <td>0.0</td>\n",
       "    </tr>\n",
       "    <tr>\n",
       "      <th>13501</th>\n",
       "      <td>40</td>\n",
       "      <td>Private</td>\n",
       "      <td>176716</td>\n",
       "      <td>Some-college</td>\n",
       "      <td>10</td>\n",
       "      <td>Married-civ-spouse</td>\n",
       "      <td>Sales</td>\n",
       "      <td>Husband</td>\n",
       "      <td>White</td>\n",
       "      <td>Male</td>\n",
       "      <td>40</td>\n",
       "      <td>United-States</td>\n",
       "      <td>0.000000</td>\n",
       "      <td>0.0</td>\n",
       "    </tr>\n",
       "    <tr>\n",
       "      <th>11930</th>\n",
       "      <td>29</td>\n",
       "      <td>Private</td>\n",
       "      <td>224858</td>\n",
       "      <td>Some-college</td>\n",
       "      <td>10</td>\n",
       "      <td>Married-civ-spouse</td>\n",
       "      <td>Prof-specialty</td>\n",
       "      <td>Husband</td>\n",
       "      <td>White</td>\n",
       "      <td>Male</td>\n",
       "      <td>45</td>\n",
       "      <td>United-States</td>\n",
       "      <td>0.000000</td>\n",
       "      <td>0.0</td>\n",
       "    </tr>\n",
       "    <tr>\n",
       "      <th>17495</th>\n",
       "      <td>21</td>\n",
       "      <td>Private</td>\n",
       "      <td>143062</td>\n",
       "      <td>HS-grad</td>\n",
       "      <td>9</td>\n",
       "      <td>Never-married</td>\n",
       "      <td>Machine-op-inspct</td>\n",
       "      <td>Own-child</td>\n",
       "      <td>White</td>\n",
       "      <td>Male</td>\n",
       "      <td>40</td>\n",
       "      <td>United-States</td>\n",
       "      <td>0.000000</td>\n",
       "      <td>0.0</td>\n",
       "    </tr>\n",
       "  </tbody>\n",
       "</table>\n",
       "</div>"
      ],
      "text/plain": [
       "       age workclass  fnlwgt     education  education_num      marital_status  \\\n",
       "1083    43   Private  484861  Some-college             10  Married-civ-spouse   \n",
       "18663   42   Private  134509  Some-college             10       Never-married   \n",
       "13501   40   Private  176716  Some-college             10  Married-civ-spouse   \n",
       "11930   29   Private  224858  Some-college             10  Married-civ-spouse   \n",
       "17495   21   Private  143062       HS-grad              9       Never-married   \n",
       "\n",
       "              occupation relationship   race     sex  hours_per_week  \\\n",
       "1083        Craft-repair      Husband  White    Male              38   \n",
       "18663   Transport-moving    Unmarried  Black  Female              40   \n",
       "13501              Sales      Husband  White    Male              40   \n",
       "11930     Prof-specialty      Husband  White    Male              45   \n",
       "17495  Machine-op-inspct    Own-child  White    Male              40   \n",
       "\n",
       "      native_country  log_capital_gain  log_capital_loss  \n",
       "1083   United-States          8.309923               0.0  \n",
       "18663  United-States          0.000000               0.0  \n",
       "13501  United-States          0.000000               0.0  \n",
       "11930  United-States          0.000000               0.0  \n",
       "17495  United-States          0.000000               0.0  "
      ]
     },
     "execution_count": 21,
     "metadata": {},
     "output_type": "execute_result"
    }
   ],
   "source": [
    "tmp_train.head()"
   ]
  },
  {
   "cell_type": "code",
   "execution_count": 22,
   "id": "56bec86d",
   "metadata": {
    "execution": {
     "iopub.execute_input": "2022-06-17T17:52:58.032905Z",
     "iopub.status.busy": "2022-06-17T17:52:58.032583Z",
     "iopub.status.idle": "2022-06-17T17:52:58.040175Z",
     "shell.execute_reply": "2022-06-17T17:52:58.039523Z"
    },
    "papermill": {
     "duration": 0.027697,
     "end_time": "2022-06-17T17:52:58.041866",
     "exception": false,
     "start_time": "2022-06-17T17:52:58.014169",
     "status": "completed"
    },
    "tags": []
   },
   "outputs": [],
   "source": [
    "tmp_train = tmp_train.reset_index(drop=True)\n",
    "tmp_valid = tmp_valid.reset_index(drop=True)\n",
    "tmp_test  = tmp_test.reset_index(drop=True)"
   ]
  },
  {
   "cell_type": "code",
   "execution_count": 23,
   "id": "cf783801",
   "metadata": {
    "execution": {
     "iopub.execute_input": "2022-06-17T17:52:58.078408Z",
     "iopub.status.busy": "2022-06-17T17:52:58.078149Z",
     "iopub.status.idle": "2022-06-17T17:52:58.093913Z",
     "shell.execute_reply": "2022-06-17T17:52:58.093163Z"
    },
    "papermill": {
     "duration": 0.036346,
     "end_time": "2022-06-17T17:52:58.095794",
     "exception": false,
     "start_time": "2022-06-17T17:52:58.059448",
     "status": "completed"
    },
    "tags": []
   },
   "outputs": [
    {
     "data": {
      "text/html": [
       "<div>\n",
       "<style scoped>\n",
       "    .dataframe tbody tr th:only-of-type {\n",
       "        vertical-align: middle;\n",
       "    }\n",
       "\n",
       "    .dataframe tbody tr th {\n",
       "        vertical-align: top;\n",
       "    }\n",
       "\n",
       "    .dataframe thead th {\n",
       "        text-align: right;\n",
       "    }\n",
       "</style>\n",
       "<table border=\"1\" class=\"dataframe\">\n",
       "  <thead>\n",
       "    <tr style=\"text-align: right;\">\n",
       "      <th></th>\n",
       "      <th>age</th>\n",
       "      <th>workclass</th>\n",
       "      <th>fnlwgt</th>\n",
       "      <th>education</th>\n",
       "      <th>education_num</th>\n",
       "      <th>marital_status</th>\n",
       "      <th>occupation</th>\n",
       "      <th>relationship</th>\n",
       "      <th>race</th>\n",
       "      <th>sex</th>\n",
       "      <th>hours_per_week</th>\n",
       "      <th>native_country</th>\n",
       "      <th>log_capital_gain</th>\n",
       "      <th>log_capital_loss</th>\n",
       "    </tr>\n",
       "  </thead>\n",
       "  <tbody>\n",
       "    <tr>\n",
       "      <th>0</th>\n",
       "      <td>43</td>\n",
       "      <td>Private</td>\n",
       "      <td>484861</td>\n",
       "      <td>Some-college</td>\n",
       "      <td>10</td>\n",
       "      <td>Married-civ-spouse</td>\n",
       "      <td>Craft-repair</td>\n",
       "      <td>Husband</td>\n",
       "      <td>White</td>\n",
       "      <td>Male</td>\n",
       "      <td>38</td>\n",
       "      <td>United-States</td>\n",
       "      <td>8.309923</td>\n",
       "      <td>0.0</td>\n",
       "    </tr>\n",
       "    <tr>\n",
       "      <th>1</th>\n",
       "      <td>42</td>\n",
       "      <td>Private</td>\n",
       "      <td>134509</td>\n",
       "      <td>Some-college</td>\n",
       "      <td>10</td>\n",
       "      <td>Never-married</td>\n",
       "      <td>Transport-moving</td>\n",
       "      <td>Unmarried</td>\n",
       "      <td>Black</td>\n",
       "      <td>Female</td>\n",
       "      <td>40</td>\n",
       "      <td>United-States</td>\n",
       "      <td>0.000000</td>\n",
       "      <td>0.0</td>\n",
       "    </tr>\n",
       "    <tr>\n",
       "      <th>2</th>\n",
       "      <td>40</td>\n",
       "      <td>Private</td>\n",
       "      <td>176716</td>\n",
       "      <td>Some-college</td>\n",
       "      <td>10</td>\n",
       "      <td>Married-civ-spouse</td>\n",
       "      <td>Sales</td>\n",
       "      <td>Husband</td>\n",
       "      <td>White</td>\n",
       "      <td>Male</td>\n",
       "      <td>40</td>\n",
       "      <td>United-States</td>\n",
       "      <td>0.000000</td>\n",
       "      <td>0.0</td>\n",
       "    </tr>\n",
       "    <tr>\n",
       "      <th>3</th>\n",
       "      <td>29</td>\n",
       "      <td>Private</td>\n",
       "      <td>224858</td>\n",
       "      <td>Some-college</td>\n",
       "      <td>10</td>\n",
       "      <td>Married-civ-spouse</td>\n",
       "      <td>Prof-specialty</td>\n",
       "      <td>Husband</td>\n",
       "      <td>White</td>\n",
       "      <td>Male</td>\n",
       "      <td>45</td>\n",
       "      <td>United-States</td>\n",
       "      <td>0.000000</td>\n",
       "      <td>0.0</td>\n",
       "    </tr>\n",
       "    <tr>\n",
       "      <th>4</th>\n",
       "      <td>21</td>\n",
       "      <td>Private</td>\n",
       "      <td>143062</td>\n",
       "      <td>HS-grad</td>\n",
       "      <td>9</td>\n",
       "      <td>Never-married</td>\n",
       "      <td>Machine-op-inspct</td>\n",
       "      <td>Own-child</td>\n",
       "      <td>White</td>\n",
       "      <td>Male</td>\n",
       "      <td>40</td>\n",
       "      <td>United-States</td>\n",
       "      <td>0.000000</td>\n",
       "      <td>0.0</td>\n",
       "    </tr>\n",
       "  </tbody>\n",
       "</table>\n",
       "</div>"
      ],
      "text/plain": [
       "   age workclass  fnlwgt     education  education_num      marital_status  \\\n",
       "0   43   Private  484861  Some-college             10  Married-civ-spouse   \n",
       "1   42   Private  134509  Some-college             10       Never-married   \n",
       "2   40   Private  176716  Some-college             10  Married-civ-spouse   \n",
       "3   29   Private  224858  Some-college             10  Married-civ-spouse   \n",
       "4   21   Private  143062       HS-grad              9       Never-married   \n",
       "\n",
       "          occupation relationship   race     sex  hours_per_week  \\\n",
       "0       Craft-repair      Husband  White    Male              38   \n",
       "1   Transport-moving    Unmarried  Black  Female              40   \n",
       "2              Sales      Husband  White    Male              40   \n",
       "3     Prof-specialty      Husband  White    Male              45   \n",
       "4  Machine-op-inspct    Own-child  White    Male              40   \n",
       "\n",
       "  native_country  log_capital_gain  log_capital_loss  \n",
       "0  United-States          8.309923               0.0  \n",
       "1  United-States          0.000000               0.0  \n",
       "2  United-States          0.000000               0.0  \n",
       "3  United-States          0.000000               0.0  \n",
       "4  United-States          0.000000               0.0  "
      ]
     },
     "execution_count": 23,
     "metadata": {},
     "output_type": "execute_result"
    }
   ],
   "source": [
    "tmp_train.head()"
   ]
  },
  {
   "cell_type": "markdown",
   "id": "a86cd9d2",
   "metadata": {
    "papermill": {
     "duration": 0.017321,
     "end_time": "2022-06-17T17:52:58.130562",
     "exception": false,
     "start_time": "2022-06-17T17:52:58.113241",
     "status": "completed"
    },
    "tags": []
   },
   "source": [
    "#### 스케일링\n",
    "Standard Scaler 사용"
   ]
  },
  {
   "cell_type": "code",
   "execution_count": 24,
   "id": "9fc3a87b",
   "metadata": {
    "execution": {
     "iopub.execute_input": "2022-06-17T17:52:58.166656Z",
     "iopub.status.busy": "2022-06-17T17:52:58.166011Z",
     "iopub.status.idle": "2022-06-17T17:52:58.171305Z",
     "shell.execute_reply": "2022-06-17T17:52:58.170632Z"
    },
    "papermill": {
     "duration": 0.025176,
     "end_time": "2022-06-17T17:52:58.173093",
     "exception": false,
     "start_time": "2022-06-17T17:52:58.147917",
     "status": "completed"
    },
    "tags": []
   },
   "outputs": [
    {
     "data": {
      "text/plain": [
       "Index(['age', 'workclass', 'fnlwgt', 'education', 'education_num',\n",
       "       'marital_status', 'occupation', 'relationship', 'race', 'sex',\n",
       "       'hours_per_week', 'native_country', 'log_capital_gain',\n",
       "       'log_capital_loss'],\n",
       "      dtype='object')"
      ]
     },
     "execution_count": 24,
     "metadata": {},
     "output_type": "execute_result"
    }
   ],
   "source": [
    "tmp_train.columns"
   ]
  },
  {
   "cell_type": "code",
   "execution_count": 25,
   "id": "b09bea2f",
   "metadata": {
    "execution": {
     "iopub.execute_input": "2022-06-17T17:52:58.211023Z",
     "iopub.status.busy": "2022-06-17T17:52:58.210206Z",
     "iopub.status.idle": "2022-06-17T17:52:58.216832Z",
     "shell.execute_reply": "2022-06-17T17:52:58.216065Z"
    },
    "papermill": {
     "duration": 0.027892,
     "end_time": "2022-06-17T17:52:58.219071",
     "exception": false,
     "start_time": "2022-06-17T17:52:58.191179",
     "status": "completed"
    },
    "tags": []
   },
   "outputs": [
    {
     "name": "stdout",
     "output_type": "stream",
     "text": [
      "범주형 변수: \n",
      "['workclass', 'education', 'marital_status', 'occupation', 'relationship', 'race', 'sex', 'native_country']\n",
      "\n",
      " 수치형 변수: \n",
      "['age', 'fnlwgt', 'education_num', 'hours_per_week', 'log_capital_gain', 'log_capital_loss']\n",
      "\n"
     ]
    }
   ],
   "source": [
    "cat_columns = [c for c, t in zip(tmp_train.dtypes.index, tmp_train.dtypes) if t == 'O'] \n",
    "num_columns = [c for c in tmp_train.columns if c not in cat_columns]\n",
    "\n",
    "print('범주형 변수: \\n{}\\n\\n 수치형 변수: \\n{}\\n'.format(cat_columns, num_columns))"
   ]
  },
  {
   "cell_type": "code",
   "execution_count": 26,
   "id": "732e8e48",
   "metadata": {
    "execution": {
     "iopub.execute_input": "2022-06-17T17:52:58.256679Z",
     "iopub.status.busy": "2022-06-17T17:52:58.256198Z",
     "iopub.status.idle": "2022-06-17T17:52:58.273765Z",
     "shell.execute_reply": "2022-06-17T17:52:58.273074Z"
    },
    "papermill": {
     "duration": 0.037554,
     "end_time": "2022-06-17T17:52:58.275397",
     "exception": false,
     "start_time": "2022-06-17T17:52:58.237843",
     "status": "completed"
    },
    "tags": []
   },
   "outputs": [],
   "source": [
    "from sklearn.preprocessing import StandardScaler\n",
    "\n",
    "scaler = StandardScaler()\n",
    "tmp_train[num_columns] = scaler.fit_transform(tmp_train[num_columns])\n",
    "tmp_valid[num_columns] = scaler.transform(tmp_valid[num_columns])\n",
    "tmp_test[num_columns]  = scaler.transform(tmp_test[num_columns])"
   ]
  },
  {
   "cell_type": "code",
   "execution_count": 27,
   "id": "43e7955d",
   "metadata": {
    "execution": {
     "iopub.execute_input": "2022-06-17T17:52:58.311822Z",
     "iopub.status.busy": "2022-06-17T17:52:58.311560Z",
     "iopub.status.idle": "2022-06-17T17:52:58.341350Z",
     "shell.execute_reply": "2022-06-17T17:52:58.340655Z"
    },
    "papermill": {
     "duration": 0.049944,
     "end_time": "2022-06-17T17:52:58.342960",
     "exception": false,
     "start_time": "2022-06-17T17:52:58.293016",
     "status": "completed"
    },
    "tags": []
   },
   "outputs": [
    {
     "data": {
      "text/html": [
       "<div>\n",
       "<style scoped>\n",
       "    .dataframe tbody tr th:only-of-type {\n",
       "        vertical-align: middle;\n",
       "    }\n",
       "\n",
       "    .dataframe tbody tr th {\n",
       "        vertical-align: top;\n",
       "    }\n",
       "\n",
       "    .dataframe thead th {\n",
       "        text-align: right;\n",
       "    }\n",
       "</style>\n",
       "<table border=\"1\" class=\"dataframe\">\n",
       "  <thead>\n",
       "    <tr style=\"text-align: right;\">\n",
       "      <th></th>\n",
       "      <th>age</th>\n",
       "      <th>fnlwgt</th>\n",
       "      <th>education_num</th>\n",
       "      <th>hours_per_week</th>\n",
       "      <th>log_capital_gain</th>\n",
       "      <th>log_capital_loss</th>\n",
       "    </tr>\n",
       "  </thead>\n",
       "  <tbody>\n",
       "    <tr>\n",
       "      <th>count</th>\n",
       "      <td>1.823400e+04</td>\n",
       "      <td>1.823400e+04</td>\n",
       "      <td>1.823400e+04</td>\n",
       "      <td>1.823400e+04</td>\n",
       "      <td>1.823400e+04</td>\n",
       "      <td>1.823400e+04</td>\n",
       "    </tr>\n",
       "    <tr>\n",
       "      <th>mean</th>\n",
       "      <td>-1.047265e-16</td>\n",
       "      <td>-2.873891e-17</td>\n",
       "      <td>1.412590e-16</td>\n",
       "      <td>5.124294e-17</td>\n",
       "      <td>3.000537e-17</td>\n",
       "      <td>2.104273e-17</td>\n",
       "    </tr>\n",
       "    <tr>\n",
       "      <th>std</th>\n",
       "      <td>1.000027e+00</td>\n",
       "      <td>1.000027e+00</td>\n",
       "      <td>1.000027e+00</td>\n",
       "      <td>1.000027e+00</td>\n",
       "      <td>1.000027e+00</td>\n",
       "      <td>1.000027e+00</td>\n",
       "    </tr>\n",
       "    <tr>\n",
       "      <th>min</th>\n",
       "      <td>-1.575121e+00</td>\n",
       "      <td>-1.661651e+00</td>\n",
       "      <td>-3.549168e+00</td>\n",
       "      <td>-3.175259e+00</td>\n",
       "      <td>-3.032959e-01</td>\n",
       "      <td>-2.209828e-01</td>\n",
       "    </tr>\n",
       "    <tr>\n",
       "      <th>25%</th>\n",
       "      <td>-8.441270e-01</td>\n",
       "      <td>-6.773644e-01</td>\n",
       "      <td>-4.287495e-01</td>\n",
       "      <td>-3.725226e-02</td>\n",
       "      <td>-3.032959e-01</td>\n",
       "      <td>-2.209828e-01</td>\n",
       "    </tr>\n",
       "    <tr>\n",
       "      <th>50%</th>\n",
       "      <td>-1.131329e-01</td>\n",
       "      <td>-1.055421e-01</td>\n",
       "      <td>-3.869719e-02</td>\n",
       "      <td>-3.725226e-02</td>\n",
       "      <td>-3.032959e-01</td>\n",
       "      <td>-2.209828e-01</td>\n",
       "    </tr>\n",
       "    <tr>\n",
       "      <th>75%</th>\n",
       "      <td>6.909606e-01</td>\n",
       "      <td>4.466872e-01</td>\n",
       "      <td>1.131460e+00</td>\n",
       "      <td>3.650563e-01</td>\n",
       "      <td>-3.032959e-01</td>\n",
       "      <td>-2.209828e-01</td>\n",
       "    </tr>\n",
       "    <tr>\n",
       "      <th>max</th>\n",
       "      <td>3.761136e+00</td>\n",
       "      <td>1.188097e+01</td>\n",
       "      <td>2.301616e+00</td>\n",
       "      <td>4.709988e+00</td>\n",
       "      <td>4.326449e+00</td>\n",
       "      <td>5.071417e+00</td>\n",
       "    </tr>\n",
       "  </tbody>\n",
       "</table>\n",
       "</div>"
      ],
      "text/plain": [
       "                age        fnlwgt  education_num  hours_per_week  \\\n",
       "count  1.823400e+04  1.823400e+04   1.823400e+04    1.823400e+04   \n",
       "mean  -1.047265e-16 -2.873891e-17   1.412590e-16    5.124294e-17   \n",
       "std    1.000027e+00  1.000027e+00   1.000027e+00    1.000027e+00   \n",
       "min   -1.575121e+00 -1.661651e+00  -3.549168e+00   -3.175259e+00   \n",
       "25%   -8.441270e-01 -6.773644e-01  -4.287495e-01   -3.725226e-02   \n",
       "50%   -1.131329e-01 -1.055421e-01  -3.869719e-02   -3.725226e-02   \n",
       "75%    6.909606e-01  4.466872e-01   1.131460e+00    3.650563e-01   \n",
       "max    3.761136e+00  1.188097e+01   2.301616e+00    4.709988e+00   \n",
       "\n",
       "       log_capital_gain  log_capital_loss  \n",
       "count      1.823400e+04      1.823400e+04  \n",
       "mean       3.000537e-17      2.104273e-17  \n",
       "std        1.000027e+00      1.000027e+00  \n",
       "min       -3.032959e-01     -2.209828e-01  \n",
       "25%       -3.032959e-01     -2.209828e-01  \n",
       "50%       -3.032959e-01     -2.209828e-01  \n",
       "75%       -3.032959e-01     -2.209828e-01  \n",
       "max        4.326449e+00      5.071417e+00  "
      ]
     },
     "execution_count": 27,
     "metadata": {},
     "output_type": "execute_result"
    }
   ],
   "source": [
    "tmp_train.describe()"
   ]
  },
  {
   "cell_type": "code",
   "execution_count": 28,
   "id": "9f344bee",
   "metadata": {
    "execution": {
     "iopub.execute_input": "2022-06-17T17:52:58.382461Z",
     "iopub.status.busy": "2022-06-17T17:52:58.382160Z",
     "iopub.status.idle": "2022-06-17T17:52:58.410675Z",
     "shell.execute_reply": "2022-06-17T17:52:58.409856Z"
    },
    "papermill": {
     "duration": 0.051124,
     "end_time": "2022-06-17T17:52:58.412526",
     "exception": false,
     "start_time": "2022-06-17T17:52:58.361402",
     "status": "completed"
    },
    "tags": []
   },
   "outputs": [
    {
     "data": {
      "text/html": [
       "<div>\n",
       "<style scoped>\n",
       "    .dataframe tbody tr th:only-of-type {\n",
       "        vertical-align: middle;\n",
       "    }\n",
       "\n",
       "    .dataframe tbody tr th {\n",
       "        vertical-align: top;\n",
       "    }\n",
       "\n",
       "    .dataframe thead th {\n",
       "        text-align: right;\n",
       "    }\n",
       "</style>\n",
       "<table border=\"1\" class=\"dataframe\">\n",
       "  <thead>\n",
       "    <tr style=\"text-align: right;\">\n",
       "      <th></th>\n",
       "      <th>age</th>\n",
       "      <th>fnlwgt</th>\n",
       "      <th>education_num</th>\n",
       "      <th>hours_per_week</th>\n",
       "      <th>log_capital_gain</th>\n",
       "      <th>log_capital_loss</th>\n",
       "    </tr>\n",
       "  </thead>\n",
       "  <tbody>\n",
       "    <tr>\n",
       "      <th>count</th>\n",
       "      <td>7815.000000</td>\n",
       "      <td>7815.000000</td>\n",
       "      <td>7815.000000</td>\n",
       "      <td>7815.000000</td>\n",
       "      <td>7815.000000</td>\n",
       "      <td>7815.000000</td>\n",
       "    </tr>\n",
       "    <tr>\n",
       "      <th>mean</th>\n",
       "      <td>0.005257</td>\n",
       "      <td>-0.011081</td>\n",
       "      <td>-0.014091</td>\n",
       "      <td>-0.005325</td>\n",
       "      <td>-0.014643</td>\n",
       "      <td>0.006928</td>\n",
       "    </tr>\n",
       "    <tr>\n",
       "      <th>std</th>\n",
       "      <td>0.997915</td>\n",
       "      <td>0.984603</td>\n",
       "      <td>1.004929</td>\n",
       "      <td>0.982061</td>\n",
       "      <td>0.975637</td>\n",
       "      <td>1.014457</td>\n",
       "    </tr>\n",
       "    <tr>\n",
       "      <th>min</th>\n",
       "      <td>-1.575121</td>\n",
       "      <td>-1.614138</td>\n",
       "      <td>-3.549168</td>\n",
       "      <td>-3.175259</td>\n",
       "      <td>-0.303296</td>\n",
       "      <td>-0.220983</td>\n",
       "    </tr>\n",
       "    <tr>\n",
       "      <th>25%</th>\n",
       "      <td>-0.771028</td>\n",
       "      <td>-0.686258</td>\n",
       "      <td>-0.428749</td>\n",
       "      <td>-0.037252</td>\n",
       "      <td>-0.303296</td>\n",
       "      <td>-0.220983</td>\n",
       "    </tr>\n",
       "    <tr>\n",
       "      <th>50%</th>\n",
       "      <td>-0.113133</td>\n",
       "      <td>-0.119802</td>\n",
       "      <td>-0.038697</td>\n",
       "      <td>-0.037252</td>\n",
       "      <td>-0.303296</td>\n",
       "      <td>-0.220983</td>\n",
       "    </tr>\n",
       "    <tr>\n",
       "      <th>75%</th>\n",
       "      <td>0.690961</td>\n",
       "      <td>0.431563</td>\n",
       "      <td>0.741407</td>\n",
       "      <td>0.365056</td>\n",
       "      <td>-0.303296</td>\n",
       "      <td>-0.220983</td>\n",
       "    </tr>\n",
       "    <tr>\n",
       "      <th>max</th>\n",
       "      <td>3.761136</td>\n",
       "      <td>12.155926</td>\n",
       "      <td>2.301616</td>\n",
       "      <td>4.709988</td>\n",
       "      <td>4.326449</td>\n",
       "      <td>4.980164</td>\n",
       "    </tr>\n",
       "  </tbody>\n",
       "</table>\n",
       "</div>"
      ],
      "text/plain": [
       "               age       fnlwgt  education_num  hours_per_week  \\\n",
       "count  7815.000000  7815.000000    7815.000000     7815.000000   \n",
       "mean      0.005257    -0.011081      -0.014091       -0.005325   \n",
       "std       0.997915     0.984603       1.004929        0.982061   \n",
       "min      -1.575121    -1.614138      -3.549168       -3.175259   \n",
       "25%      -0.771028    -0.686258      -0.428749       -0.037252   \n",
       "50%      -0.113133    -0.119802      -0.038697       -0.037252   \n",
       "75%       0.690961     0.431563       0.741407        0.365056   \n",
       "max       3.761136    12.155926       2.301616        4.709988   \n",
       "\n",
       "       log_capital_gain  log_capital_loss  \n",
       "count       7815.000000       7815.000000  \n",
       "mean          -0.014643          0.006928  \n",
       "std            0.975637          1.014457  \n",
       "min           -0.303296         -0.220983  \n",
       "25%           -0.303296         -0.220983  \n",
       "50%           -0.303296         -0.220983  \n",
       "75%           -0.303296         -0.220983  \n",
       "max            4.326449          4.980164  "
      ]
     },
     "execution_count": 28,
     "metadata": {},
     "output_type": "execute_result"
    }
   ],
   "source": [
    "tmp_valid.describe()"
   ]
  },
  {
   "cell_type": "code",
   "execution_count": 29,
   "id": "63222e33",
   "metadata": {
    "execution": {
     "iopub.execute_input": "2022-06-17T17:52:58.454027Z",
     "iopub.status.busy": "2022-06-17T17:52:58.453448Z",
     "iopub.status.idle": "2022-06-17T17:52:58.483094Z",
     "shell.execute_reply": "2022-06-17T17:52:58.482198Z"
    },
    "papermill": {
     "duration": 0.053792,
     "end_time": "2022-06-17T17:52:58.485029",
     "exception": false,
     "start_time": "2022-06-17T17:52:58.431237",
     "status": "completed"
    },
    "tags": []
   },
   "outputs": [
    {
     "data": {
      "text/html": [
       "<div>\n",
       "<style scoped>\n",
       "    .dataframe tbody tr th:only-of-type {\n",
       "        vertical-align: middle;\n",
       "    }\n",
       "\n",
       "    .dataframe tbody tr th {\n",
       "        vertical-align: top;\n",
       "    }\n",
       "\n",
       "    .dataframe thead th {\n",
       "        text-align: right;\n",
       "    }\n",
       "</style>\n",
       "<table border=\"1\" class=\"dataframe\">\n",
       "  <thead>\n",
       "    <tr style=\"text-align: right;\">\n",
       "      <th></th>\n",
       "      <th>age</th>\n",
       "      <th>fnlwgt</th>\n",
       "      <th>education_num</th>\n",
       "      <th>hours_per_week</th>\n",
       "      <th>log_capital_gain</th>\n",
       "      <th>log_capital_loss</th>\n",
       "    </tr>\n",
       "  </thead>\n",
       "  <tbody>\n",
       "    <tr>\n",
       "      <th>count</th>\n",
       "      <td>6512.000000</td>\n",
       "      <td>6512.000000</td>\n",
       "      <td>6512.000000</td>\n",
       "      <td>6512.000000</td>\n",
       "      <td>6512.000000</td>\n",
       "      <td>6512.000000</td>\n",
       "    </tr>\n",
       "    <tr>\n",
       "      <th>mean</th>\n",
       "      <td>0.006114</td>\n",
       "      <td>-0.028036</td>\n",
       "      <td>-0.019231</td>\n",
       "      <td>-0.003879</td>\n",
       "      <td>-0.021865</td>\n",
       "      <td>-0.007044</td>\n",
       "    </tr>\n",
       "    <tr>\n",
       "      <th>std</th>\n",
       "      <td>0.988042</td>\n",
       "      <td>0.975533</td>\n",
       "      <td>1.011418</td>\n",
       "      <td>0.988914</td>\n",
       "      <td>0.964069</td>\n",
       "      <td>0.986211</td>\n",
       "    </tr>\n",
       "    <tr>\n",
       "      <th>min</th>\n",
       "      <td>-1.575121</td>\n",
       "      <td>-1.675592</td>\n",
       "      <td>-3.549168</td>\n",
       "      <td>-3.175259</td>\n",
       "      <td>-0.303296</td>\n",
       "      <td>-0.220983</td>\n",
       "    </tr>\n",
       "    <tr>\n",
       "      <th>25%</th>\n",
       "      <td>-0.771028</td>\n",
       "      <td>-0.696584</td>\n",
       "      <td>-0.428749</td>\n",
       "      <td>-0.037252</td>\n",
       "      <td>-0.303296</td>\n",
       "      <td>-0.220983</td>\n",
       "    </tr>\n",
       "    <tr>\n",
       "      <th>50%</th>\n",
       "      <td>-0.113133</td>\n",
       "      <td>-0.129412</td>\n",
       "      <td>-0.038697</td>\n",
       "      <td>-0.037252</td>\n",
       "      <td>-0.303296</td>\n",
       "      <td>-0.220983</td>\n",
       "    </tr>\n",
       "    <tr>\n",
       "      <th>75%</th>\n",
       "      <td>0.690961</td>\n",
       "      <td>0.424525</td>\n",
       "      <td>0.741407</td>\n",
       "      <td>0.365056</td>\n",
       "      <td>-0.303296</td>\n",
       "      <td>-0.220983</td>\n",
       "    </tr>\n",
       "    <tr>\n",
       "      <th>max</th>\n",
       "      <td>3.761136</td>\n",
       "      <td>8.782713</td>\n",
       "      <td>2.301616</td>\n",
       "      <td>4.709988</td>\n",
       "      <td>4.326449</td>\n",
       "      <td>5.071417</td>\n",
       "    </tr>\n",
       "  </tbody>\n",
       "</table>\n",
       "</div>"
      ],
      "text/plain": [
       "               age       fnlwgt  education_num  hours_per_week  \\\n",
       "count  6512.000000  6512.000000    6512.000000     6512.000000   \n",
       "mean      0.006114    -0.028036      -0.019231       -0.003879   \n",
       "std       0.988042     0.975533       1.011418        0.988914   \n",
       "min      -1.575121    -1.675592      -3.549168       -3.175259   \n",
       "25%      -0.771028    -0.696584      -0.428749       -0.037252   \n",
       "50%      -0.113133    -0.129412      -0.038697       -0.037252   \n",
       "75%       0.690961     0.424525       0.741407        0.365056   \n",
       "max       3.761136     8.782713       2.301616        4.709988   \n",
       "\n",
       "       log_capital_gain  log_capital_loss  \n",
       "count       6512.000000       6512.000000  \n",
       "mean          -0.021865         -0.007044  \n",
       "std            0.964069          0.986211  \n",
       "min           -0.303296         -0.220983  \n",
       "25%           -0.303296         -0.220983  \n",
       "50%           -0.303296         -0.220983  \n",
       "75%           -0.303296         -0.220983  \n",
       "max            4.326449          5.071417  "
      ]
     },
     "execution_count": 29,
     "metadata": {},
     "output_type": "execute_result"
    }
   ],
   "source": [
    "tmp_test.describe()"
   ]
  },
  {
   "cell_type": "markdown",
   "id": "81c897c3",
   "metadata": {
    "papermill": {
     "duration": 0.018375,
     "end_time": "2022-06-17T17:52:58.522582",
     "exception": false,
     "start_time": "2022-06-17T17:52:58.504207",
     "status": "completed"
    },
    "tags": []
   },
   "source": [
    "#### 인코딩\n",
    "범주형 변수를 수치형 변수로 인코딩"
   ]
  },
  {
   "cell_type": "code",
   "execution_count": 30,
   "id": "e08d11d6",
   "metadata": {
    "execution": {
     "iopub.execute_input": "2022-06-17T17:52:58.560538Z",
     "iopub.status.busy": "2022-06-17T17:52:58.560260Z",
     "iopub.status.idle": "2022-06-17T17:52:58.599058Z",
     "shell.execute_reply": "2022-06-17T17:52:58.598268Z"
    },
    "papermill": {
     "duration": 0.05954,
     "end_time": "2022-06-17T17:52:58.600781",
     "exception": false,
     "start_time": "2022-06-17T17:52:58.541241",
     "status": "completed"
    },
    "tags": []
   },
   "outputs": [
    {
     "data": {
      "text/plain": [
       "OneHotEncoder(sparse=False)"
      ]
     },
     "execution_count": 30,
     "metadata": {},
     "output_type": "execute_result"
    }
   ],
   "source": [
    "from sklearn.preprocessing import OneHotEncoder\n",
    "\n",
    "tmp_all = pd.concat([tmp_train, tmp_valid, tmp_test])\n",
    "\n",
    "ohe = OneHotEncoder(sparse=False)\n",
    "ohe.fit(tmp_all[cat_columns])"
   ]
  },
  {
   "cell_type": "code",
   "execution_count": 31,
   "id": "88475923",
   "metadata": {
    "execution": {
     "iopub.execute_input": "2022-06-17T17:52:58.639762Z",
     "iopub.status.busy": "2022-06-17T17:52:58.639475Z",
     "iopub.status.idle": "2022-06-17T17:52:58.654840Z",
     "shell.execute_reply": "2022-06-17T17:52:58.654092Z"
    },
    "papermill": {
     "duration": 0.036717,
     "end_time": "2022-06-17T17:52:58.656367",
     "exception": false,
     "start_time": "2022-06-17T17:52:58.619650",
     "status": "completed"
    },
    "tags": []
   },
   "outputs": [
    {
     "data": {
      "text/html": [
       "<div>\n",
       "<style scoped>\n",
       "    .dataframe tbody tr th:only-of-type {\n",
       "        vertical-align: middle;\n",
       "    }\n",
       "\n",
       "    .dataframe tbody tr th {\n",
       "        vertical-align: top;\n",
       "    }\n",
       "\n",
       "    .dataframe thead th {\n",
       "        text-align: right;\n",
       "    }\n",
       "</style>\n",
       "<table border=\"1\" class=\"dataframe\">\n",
       "  <thead>\n",
       "    <tr style=\"text-align: right;\">\n",
       "      <th></th>\n",
       "      <th>workclass</th>\n",
       "      <th>education</th>\n",
       "      <th>marital_status</th>\n",
       "      <th>occupation</th>\n",
       "      <th>relationship</th>\n",
       "      <th>race</th>\n",
       "      <th>sex</th>\n",
       "      <th>native_country</th>\n",
       "    </tr>\n",
       "  </thead>\n",
       "  <tbody>\n",
       "    <tr>\n",
       "      <th>0</th>\n",
       "      <td>Private</td>\n",
       "      <td>Some-college</td>\n",
       "      <td>Married-civ-spouse</td>\n",
       "      <td>Craft-repair</td>\n",
       "      <td>Husband</td>\n",
       "      <td>White</td>\n",
       "      <td>Male</td>\n",
       "      <td>United-States</td>\n",
       "    </tr>\n",
       "    <tr>\n",
       "      <th>1</th>\n",
       "      <td>Private</td>\n",
       "      <td>Some-college</td>\n",
       "      <td>Never-married</td>\n",
       "      <td>Transport-moving</td>\n",
       "      <td>Unmarried</td>\n",
       "      <td>Black</td>\n",
       "      <td>Female</td>\n",
       "      <td>United-States</td>\n",
       "    </tr>\n",
       "    <tr>\n",
       "      <th>2</th>\n",
       "      <td>Private</td>\n",
       "      <td>Some-college</td>\n",
       "      <td>Married-civ-spouse</td>\n",
       "      <td>Sales</td>\n",
       "      <td>Husband</td>\n",
       "      <td>White</td>\n",
       "      <td>Male</td>\n",
       "      <td>United-States</td>\n",
       "    </tr>\n",
       "    <tr>\n",
       "      <th>3</th>\n",
       "      <td>Private</td>\n",
       "      <td>Some-college</td>\n",
       "      <td>Married-civ-spouse</td>\n",
       "      <td>Prof-specialty</td>\n",
       "      <td>Husband</td>\n",
       "      <td>White</td>\n",
       "      <td>Male</td>\n",
       "      <td>United-States</td>\n",
       "    </tr>\n",
       "    <tr>\n",
       "      <th>4</th>\n",
       "      <td>Private</td>\n",
       "      <td>HS-grad</td>\n",
       "      <td>Never-married</td>\n",
       "      <td>Machine-op-inspct</td>\n",
       "      <td>Own-child</td>\n",
       "      <td>White</td>\n",
       "      <td>Male</td>\n",
       "      <td>United-States</td>\n",
       "    </tr>\n",
       "    <tr>\n",
       "      <th>...</th>\n",
       "      <td>...</td>\n",
       "      <td>...</td>\n",
       "      <td>...</td>\n",
       "      <td>...</td>\n",
       "      <td>...</td>\n",
       "      <td>...</td>\n",
       "      <td>...</td>\n",
       "      <td>...</td>\n",
       "    </tr>\n",
       "    <tr>\n",
       "      <th>6507</th>\n",
       "      <td>Private</td>\n",
       "      <td>Bachelors</td>\n",
       "      <td>Married-civ-spouse</td>\n",
       "      <td>Sales</td>\n",
       "      <td>Husband</td>\n",
       "      <td>White</td>\n",
       "      <td>Male</td>\n",
       "      <td>United-States</td>\n",
       "    </tr>\n",
       "    <tr>\n",
       "      <th>6508</th>\n",
       "      <td>Self-emp-inc</td>\n",
       "      <td>Bachelors</td>\n",
       "      <td>Married-civ-spouse</td>\n",
       "      <td>Tech-support</td>\n",
       "      <td>Husband</td>\n",
       "      <td>White</td>\n",
       "      <td>Male</td>\n",
       "      <td>United-States</td>\n",
       "    </tr>\n",
       "    <tr>\n",
       "      <th>6509</th>\n",
       "      <td>Private</td>\n",
       "      <td>5th-6th</td>\n",
       "      <td>Married-civ-spouse</td>\n",
       "      <td>Other-service</td>\n",
       "      <td>Husband</td>\n",
       "      <td>White</td>\n",
       "      <td>Male</td>\n",
       "      <td>Mexico</td>\n",
       "    </tr>\n",
       "    <tr>\n",
       "      <th>6510</th>\n",
       "      <td>Private</td>\n",
       "      <td>HS-grad</td>\n",
       "      <td>Married-civ-spouse</td>\n",
       "      <td>Craft-repair</td>\n",
       "      <td>Husband</td>\n",
       "      <td>White</td>\n",
       "      <td>Male</td>\n",
       "      <td>United-States</td>\n",
       "    </tr>\n",
       "    <tr>\n",
       "      <th>6511</th>\n",
       "      <td>Private</td>\n",
       "      <td>HS-grad</td>\n",
       "      <td>Divorced</td>\n",
       "      <td>Handlers-cleaners</td>\n",
       "      <td>Unmarried</td>\n",
       "      <td>White</td>\n",
       "      <td>Female</td>\n",
       "      <td>United-States</td>\n",
       "    </tr>\n",
       "  </tbody>\n",
       "</table>\n",
       "<p>32561 rows × 8 columns</p>\n",
       "</div>"
      ],
      "text/plain": [
       "         workclass     education      marital_status         occupation  \\\n",
       "0          Private  Some-college  Married-civ-spouse       Craft-repair   \n",
       "1          Private  Some-college       Never-married   Transport-moving   \n",
       "2          Private  Some-college  Married-civ-spouse              Sales   \n",
       "3          Private  Some-college  Married-civ-spouse     Prof-specialty   \n",
       "4          Private       HS-grad       Never-married  Machine-op-inspct   \n",
       "...            ...           ...                 ...                ...   \n",
       "6507       Private     Bachelors  Married-civ-spouse              Sales   \n",
       "6508  Self-emp-inc     Bachelors  Married-civ-spouse       Tech-support   \n",
       "6509       Private       5th-6th  Married-civ-spouse      Other-service   \n",
       "6510       Private       HS-grad  Married-civ-spouse       Craft-repair   \n",
       "6511       Private       HS-grad            Divorced  Handlers-cleaners   \n",
       "\n",
       "     relationship   race     sex native_country  \n",
       "0         Husband  White    Male  United-States  \n",
       "1       Unmarried  Black  Female  United-States  \n",
       "2         Husband  White    Male  United-States  \n",
       "3         Husband  White    Male  United-States  \n",
       "4       Own-child  White    Male  United-States  \n",
       "...           ...    ...     ...            ...  \n",
       "6507      Husband  White    Male  United-States  \n",
       "6508      Husband  White    Male  United-States  \n",
       "6509      Husband  White    Male         Mexico  \n",
       "6510      Husband  White    Male  United-States  \n",
       "6511    Unmarried  White  Female  United-States  \n",
       "\n",
       "[32561 rows x 8 columns]"
      ]
     },
     "execution_count": 31,
     "metadata": {},
     "output_type": "execute_result"
    }
   ],
   "source": [
    "tmp_all[cat_columns]"
   ]
  },
  {
   "cell_type": "code",
   "execution_count": 32,
   "id": "3d4e0348",
   "metadata": {
    "execution": {
     "iopub.execute_input": "2022-06-17T17:52:58.696087Z",
     "iopub.status.busy": "2022-06-17T17:52:58.695619Z",
     "iopub.status.idle": "2022-06-17T17:52:58.699631Z",
     "shell.execute_reply": "2022-06-17T17:52:58.698810Z"
    },
    "papermill": {
     "duration": 0.025451,
     "end_time": "2022-06-17T17:52:58.701430",
     "exception": false,
     "start_time": "2022-06-17T17:52:58.675979",
     "status": "completed"
    },
    "tags": []
   },
   "outputs": [],
   "source": [
    "ohe_columns = list()\n",
    "for lst in ohe.categories_:\n",
    "    ohe_columns += lst.tolist()"
   ]
  },
  {
   "cell_type": "code",
   "execution_count": 33,
   "id": "8d544310",
   "metadata": {
    "execution": {
     "iopub.execute_input": "2022-06-17T17:52:58.741396Z",
     "iopub.status.busy": "2022-06-17T17:52:58.740863Z",
     "iopub.status.idle": "2022-06-17T17:52:58.848277Z",
     "shell.execute_reply": "2022-06-17T17:52:58.847548Z"
    },
    "papermill": {
     "duration": 0.130296,
     "end_time": "2022-06-17T17:52:58.850294",
     "exception": false,
     "start_time": "2022-06-17T17:52:58.719998",
     "status": "completed"
    },
    "tags": []
   },
   "outputs": [],
   "source": [
    "new_train_cat = pd.DataFrame(ohe.transform(tmp_train[cat_columns]), columns=ohe_columns)\n",
    "new_valid_cat = pd.DataFrame(ohe.transform(tmp_valid[cat_columns]), columns=ohe_columns)\n",
    "new_test_cat  = pd.DataFrame(ohe.transform(tmp_test[cat_columns]), columns=ohe_columns)"
   ]
  },
  {
   "cell_type": "code",
   "execution_count": 34,
   "id": "79f420f4",
   "metadata": {
    "execution": {
     "iopub.execute_input": "2022-06-17T17:52:58.890422Z",
     "iopub.status.busy": "2022-06-17T17:52:58.890130Z",
     "iopub.status.idle": "2022-06-17T17:52:58.919291Z",
     "shell.execute_reply": "2022-06-17T17:52:58.918567Z"
    },
    "papermill": {
     "duration": 0.050998,
     "end_time": "2022-06-17T17:52:58.921080",
     "exception": false,
     "start_time": "2022-06-17T17:52:58.870082",
     "status": "completed"
    },
    "tags": []
   },
   "outputs": [
    {
     "data": {
      "text/html": [
       "<div>\n",
       "<style scoped>\n",
       "    .dataframe tbody tr th:only-of-type {\n",
       "        vertical-align: middle;\n",
       "    }\n",
       "\n",
       "    .dataframe tbody tr th {\n",
       "        vertical-align: top;\n",
       "    }\n",
       "\n",
       "    .dataframe thead th {\n",
       "        text-align: right;\n",
       "    }\n",
       "</style>\n",
       "<table border=\"1\" class=\"dataframe\">\n",
       "  <thead>\n",
       "    <tr style=\"text-align: right;\">\n",
       "      <th></th>\n",
       "      <th>Federal-gov</th>\n",
       "      <th>Local-gov</th>\n",
       "      <th>Never-worked</th>\n",
       "      <th>Private</th>\n",
       "      <th>Self-emp-inc</th>\n",
       "      <th>Self-emp-not-inc</th>\n",
       "      <th>State-gov</th>\n",
       "      <th>Without-pay</th>\n",
       "      <th>10th</th>\n",
       "      <th>11th</th>\n",
       "      <th>...</th>\n",
       "      <th>Portugal</th>\n",
       "      <th>Puerto-Rico</th>\n",
       "      <th>Scotland</th>\n",
       "      <th>South</th>\n",
       "      <th>Taiwan</th>\n",
       "      <th>Thailand</th>\n",
       "      <th>Trinadad&amp;Tobago</th>\n",
       "      <th>United-States</th>\n",
       "      <th>Vietnam</th>\n",
       "      <th>Yugoslavia</th>\n",
       "    </tr>\n",
       "  </thead>\n",
       "  <tbody>\n",
       "    <tr>\n",
       "      <th>0</th>\n",
       "      <td>0.0</td>\n",
       "      <td>0.0</td>\n",
       "      <td>0.0</td>\n",
       "      <td>1.0</td>\n",
       "      <td>0.0</td>\n",
       "      <td>0.0</td>\n",
       "      <td>0.0</td>\n",
       "      <td>0.0</td>\n",
       "      <td>0.0</td>\n",
       "      <td>0.0</td>\n",
       "      <td>...</td>\n",
       "      <td>0.0</td>\n",
       "      <td>0.0</td>\n",
       "      <td>0.0</td>\n",
       "      <td>0.0</td>\n",
       "      <td>0.0</td>\n",
       "      <td>0.0</td>\n",
       "      <td>0.0</td>\n",
       "      <td>1.0</td>\n",
       "      <td>0.0</td>\n",
       "      <td>0.0</td>\n",
       "    </tr>\n",
       "    <tr>\n",
       "      <th>1</th>\n",
       "      <td>0.0</td>\n",
       "      <td>0.0</td>\n",
       "      <td>0.0</td>\n",
       "      <td>1.0</td>\n",
       "      <td>0.0</td>\n",
       "      <td>0.0</td>\n",
       "      <td>0.0</td>\n",
       "      <td>0.0</td>\n",
       "      <td>0.0</td>\n",
       "      <td>0.0</td>\n",
       "      <td>...</td>\n",
       "      <td>0.0</td>\n",
       "      <td>0.0</td>\n",
       "      <td>0.0</td>\n",
       "      <td>0.0</td>\n",
       "      <td>0.0</td>\n",
       "      <td>0.0</td>\n",
       "      <td>0.0</td>\n",
       "      <td>1.0</td>\n",
       "      <td>0.0</td>\n",
       "      <td>0.0</td>\n",
       "    </tr>\n",
       "    <tr>\n",
       "      <th>2</th>\n",
       "      <td>0.0</td>\n",
       "      <td>0.0</td>\n",
       "      <td>0.0</td>\n",
       "      <td>1.0</td>\n",
       "      <td>0.0</td>\n",
       "      <td>0.0</td>\n",
       "      <td>0.0</td>\n",
       "      <td>0.0</td>\n",
       "      <td>0.0</td>\n",
       "      <td>0.0</td>\n",
       "      <td>...</td>\n",
       "      <td>0.0</td>\n",
       "      <td>0.0</td>\n",
       "      <td>0.0</td>\n",
       "      <td>0.0</td>\n",
       "      <td>0.0</td>\n",
       "      <td>0.0</td>\n",
       "      <td>0.0</td>\n",
       "      <td>1.0</td>\n",
       "      <td>0.0</td>\n",
       "      <td>0.0</td>\n",
       "    </tr>\n",
       "    <tr>\n",
       "      <th>3</th>\n",
       "      <td>0.0</td>\n",
       "      <td>0.0</td>\n",
       "      <td>0.0</td>\n",
       "      <td>1.0</td>\n",
       "      <td>0.0</td>\n",
       "      <td>0.0</td>\n",
       "      <td>0.0</td>\n",
       "      <td>0.0</td>\n",
       "      <td>0.0</td>\n",
       "      <td>0.0</td>\n",
       "      <td>...</td>\n",
       "      <td>0.0</td>\n",
       "      <td>0.0</td>\n",
       "      <td>0.0</td>\n",
       "      <td>0.0</td>\n",
       "      <td>0.0</td>\n",
       "      <td>0.0</td>\n",
       "      <td>0.0</td>\n",
       "      <td>1.0</td>\n",
       "      <td>0.0</td>\n",
       "      <td>0.0</td>\n",
       "    </tr>\n",
       "    <tr>\n",
       "      <th>4</th>\n",
       "      <td>0.0</td>\n",
       "      <td>0.0</td>\n",
       "      <td>0.0</td>\n",
       "      <td>1.0</td>\n",
       "      <td>0.0</td>\n",
       "      <td>0.0</td>\n",
       "      <td>0.0</td>\n",
       "      <td>0.0</td>\n",
       "      <td>0.0</td>\n",
       "      <td>0.0</td>\n",
       "      <td>...</td>\n",
       "      <td>0.0</td>\n",
       "      <td>0.0</td>\n",
       "      <td>0.0</td>\n",
       "      <td>0.0</td>\n",
       "      <td>0.0</td>\n",
       "      <td>0.0</td>\n",
       "      <td>0.0</td>\n",
       "      <td>1.0</td>\n",
       "      <td>0.0</td>\n",
       "      <td>0.0</td>\n",
       "    </tr>\n",
       "  </tbody>\n",
       "</table>\n",
       "<p>5 rows × 99 columns</p>\n",
       "</div>"
      ],
      "text/plain": [
       "   Federal-gov  Local-gov  Never-worked  Private  Self-emp-inc  \\\n",
       "0          0.0        0.0           0.0      1.0           0.0   \n",
       "1          0.0        0.0           0.0      1.0           0.0   \n",
       "2          0.0        0.0           0.0      1.0           0.0   \n",
       "3          0.0        0.0           0.0      1.0           0.0   \n",
       "4          0.0        0.0           0.0      1.0           0.0   \n",
       "\n",
       "   Self-emp-not-inc  State-gov  Without-pay  10th  11th  ...  Portugal  \\\n",
       "0               0.0        0.0          0.0   0.0   0.0  ...       0.0   \n",
       "1               0.0        0.0          0.0   0.0   0.0  ...       0.0   \n",
       "2               0.0        0.0          0.0   0.0   0.0  ...       0.0   \n",
       "3               0.0        0.0          0.0   0.0   0.0  ...       0.0   \n",
       "4               0.0        0.0          0.0   0.0   0.0  ...       0.0   \n",
       "\n",
       "   Puerto-Rico  Scotland  South  Taiwan  Thailand  Trinadad&Tobago  \\\n",
       "0          0.0       0.0    0.0     0.0       0.0              0.0   \n",
       "1          0.0       0.0    0.0     0.0       0.0              0.0   \n",
       "2          0.0       0.0    0.0     0.0       0.0              0.0   \n",
       "3          0.0       0.0    0.0     0.0       0.0              0.0   \n",
       "4          0.0       0.0    0.0     0.0       0.0              0.0   \n",
       "\n",
       "   United-States  Vietnam  Yugoslavia  \n",
       "0            1.0      0.0         0.0  \n",
       "1            1.0      0.0         0.0  \n",
       "2            1.0      0.0         0.0  \n",
       "3            1.0      0.0         0.0  \n",
       "4            1.0      0.0         0.0  \n",
       "\n",
       "[5 rows x 99 columns]"
      ]
     },
     "execution_count": 34,
     "metadata": {},
     "output_type": "execute_result"
    }
   ],
   "source": [
    "new_train_cat.head()"
   ]
  },
  {
   "cell_type": "code",
   "execution_count": 35,
   "id": "c128557b",
   "metadata": {
    "execution": {
     "iopub.execute_input": "2022-06-17T17:52:58.961457Z",
     "iopub.status.busy": "2022-06-17T17:52:58.961047Z",
     "iopub.status.idle": "2022-06-17T17:52:58.967869Z",
     "shell.execute_reply": "2022-06-17T17:52:58.967170Z"
    },
    "papermill": {
     "duration": 0.029088,
     "end_time": "2022-06-17T17:52:58.969529",
     "exception": false,
     "start_time": "2022-06-17T17:52:58.940441",
     "status": "completed"
    },
    "tags": []
   },
   "outputs": [
    {
     "data": {
      "text/plain": [
       "['workclass',\n",
       " 'education',\n",
       " 'marital_status',\n",
       " 'occupation',\n",
       " 'relationship',\n",
       " 'race',\n",
       " 'sex',\n",
       " 'native_country']"
      ]
     },
     "execution_count": 35,
     "metadata": {},
     "output_type": "execute_result"
    }
   ],
   "source": [
    "cat_columns"
   ]
  },
  {
   "cell_type": "code",
   "execution_count": 36,
   "id": "d7c9d64a",
   "metadata": {
    "execution": {
     "iopub.execute_input": "2022-06-17T17:52:59.010010Z",
     "iopub.status.busy": "2022-06-17T17:52:59.009727Z",
     "iopub.status.idle": "2022-06-17T17:52:59.074790Z",
     "shell.execute_reply": "2022-06-17T17:52:59.073927Z"
    },
    "papermill": {
     "duration": 0.088208,
     "end_time": "2022-06-17T17:52:59.076825",
     "exception": false,
     "start_time": "2022-06-17T17:52:58.988617",
     "status": "completed"
    },
    "tags": []
   },
   "outputs": [],
   "source": [
    "tmp_train = pd.concat([tmp_train, new_train_cat], axis=1)\n",
    "tmp_valid = pd.concat([tmp_valid, new_valid_cat], axis=1)\n",
    "tmp_test = pd.concat([tmp_test, new_test_cat], axis=1)\n",
    "\n",
    "tmp_train = tmp_train.drop(columns=cat_columns)\n",
    "tmp_valid = tmp_valid.drop(columns=cat_columns)\n",
    "tmp_test = tmp_test.drop(columns=cat_columns)"
   ]
  },
  {
   "cell_type": "code",
   "execution_count": 37,
   "id": "1b0aac21",
   "metadata": {
    "execution": {
     "iopub.execute_input": "2022-06-17T17:52:59.118436Z",
     "iopub.status.busy": "2022-06-17T17:52:59.118081Z",
     "iopub.status.idle": "2022-06-17T17:52:59.144269Z",
     "shell.execute_reply": "2022-06-17T17:52:59.143401Z"
    },
    "papermill": {
     "duration": 0.048847,
     "end_time": "2022-06-17T17:52:59.146124",
     "exception": false,
     "start_time": "2022-06-17T17:52:59.097277",
     "status": "completed"
    },
    "tags": []
   },
   "outputs": [
    {
     "data": {
      "text/html": [
       "<div>\n",
       "<style scoped>\n",
       "    .dataframe tbody tr th:only-of-type {\n",
       "        vertical-align: middle;\n",
       "    }\n",
       "\n",
       "    .dataframe tbody tr th {\n",
       "        vertical-align: top;\n",
       "    }\n",
       "\n",
       "    .dataframe thead th {\n",
       "        text-align: right;\n",
       "    }\n",
       "</style>\n",
       "<table border=\"1\" class=\"dataframe\">\n",
       "  <thead>\n",
       "    <tr style=\"text-align: right;\">\n",
       "      <th></th>\n",
       "      <th>age</th>\n",
       "      <th>fnlwgt</th>\n",
       "      <th>education_num</th>\n",
       "      <th>hours_per_week</th>\n",
       "      <th>log_capital_gain</th>\n",
       "      <th>log_capital_loss</th>\n",
       "      <th>Federal-gov</th>\n",
       "      <th>Local-gov</th>\n",
       "      <th>Never-worked</th>\n",
       "      <th>Private</th>\n",
       "      <th>...</th>\n",
       "      <th>Portugal</th>\n",
       "      <th>Puerto-Rico</th>\n",
       "      <th>Scotland</th>\n",
       "      <th>South</th>\n",
       "      <th>Taiwan</th>\n",
       "      <th>Thailand</th>\n",
       "      <th>Trinadad&amp;Tobago</th>\n",
       "      <th>United-States</th>\n",
       "      <th>Vietnam</th>\n",
       "      <th>Yugoslavia</th>\n",
       "    </tr>\n",
       "  </thead>\n",
       "  <tbody>\n",
       "    <tr>\n",
       "      <th>0</th>\n",
       "      <td>0.325464</td>\n",
       "      <td>2.763660</td>\n",
       "      <td>-0.038697</td>\n",
       "      <td>-0.198176</td>\n",
       "      <td>3.038414</td>\n",
       "      <td>-0.220983</td>\n",
       "      <td>0.0</td>\n",
       "      <td>0.0</td>\n",
       "      <td>0.0</td>\n",
       "      <td>1.0</td>\n",
       "      <td>...</td>\n",
       "      <td>0.0</td>\n",
       "      <td>0.0</td>\n",
       "      <td>0.0</td>\n",
       "      <td>0.0</td>\n",
       "      <td>0.0</td>\n",
       "      <td>0.0</td>\n",
       "      <td>0.0</td>\n",
       "      <td>1.0</td>\n",
       "      <td>0.0</td>\n",
       "      <td>0.0</td>\n",
       "    </tr>\n",
       "    <tr>\n",
       "      <th>1</th>\n",
       "      <td>0.252364</td>\n",
       "      <td>-0.527452</td>\n",
       "      <td>-0.038697</td>\n",
       "      <td>-0.037252</td>\n",
       "      <td>-0.303296</td>\n",
       "      <td>-0.220983</td>\n",
       "      <td>0.0</td>\n",
       "      <td>0.0</td>\n",
       "      <td>0.0</td>\n",
       "      <td>1.0</td>\n",
       "      <td>...</td>\n",
       "      <td>0.0</td>\n",
       "      <td>0.0</td>\n",
       "      <td>0.0</td>\n",
       "      <td>0.0</td>\n",
       "      <td>0.0</td>\n",
       "      <td>0.0</td>\n",
       "      <td>0.0</td>\n",
       "      <td>1.0</td>\n",
       "      <td>0.0</td>\n",
       "      <td>0.0</td>\n",
       "    </tr>\n",
       "    <tr>\n",
       "      <th>2</th>\n",
       "      <td>0.106165</td>\n",
       "      <td>-0.130971</td>\n",
       "      <td>-0.038697</td>\n",
       "      <td>-0.037252</td>\n",
       "      <td>-0.303296</td>\n",
       "      <td>-0.220983</td>\n",
       "      <td>0.0</td>\n",
       "      <td>0.0</td>\n",
       "      <td>0.0</td>\n",
       "      <td>1.0</td>\n",
       "      <td>...</td>\n",
       "      <td>0.0</td>\n",
       "      <td>0.0</td>\n",
       "      <td>0.0</td>\n",
       "      <td>0.0</td>\n",
       "      <td>0.0</td>\n",
       "      <td>0.0</td>\n",
       "      <td>0.0</td>\n",
       "      <td>1.0</td>\n",
       "      <td>0.0</td>\n",
       "      <td>0.0</td>\n",
       "    </tr>\n",
       "    <tr>\n",
       "      <th>3</th>\n",
       "      <td>-0.697928</td>\n",
       "      <td>0.321262</td>\n",
       "      <td>-0.038697</td>\n",
       "      <td>0.365056</td>\n",
       "      <td>-0.303296</td>\n",
       "      <td>-0.220983</td>\n",
       "      <td>0.0</td>\n",
       "      <td>0.0</td>\n",
       "      <td>0.0</td>\n",
       "      <td>1.0</td>\n",
       "      <td>...</td>\n",
       "      <td>0.0</td>\n",
       "      <td>0.0</td>\n",
       "      <td>0.0</td>\n",
       "      <td>0.0</td>\n",
       "      <td>0.0</td>\n",
       "      <td>0.0</td>\n",
       "      <td>0.0</td>\n",
       "      <td>1.0</td>\n",
       "      <td>0.0</td>\n",
       "      <td>0.0</td>\n",
       "    </tr>\n",
       "    <tr>\n",
       "      <th>4</th>\n",
       "      <td>-1.282723</td>\n",
       "      <td>-0.447108</td>\n",
       "      <td>-0.428749</td>\n",
       "      <td>-0.037252</td>\n",
       "      <td>-0.303296</td>\n",
       "      <td>-0.220983</td>\n",
       "      <td>0.0</td>\n",
       "      <td>0.0</td>\n",
       "      <td>0.0</td>\n",
       "      <td>1.0</td>\n",
       "      <td>...</td>\n",
       "      <td>0.0</td>\n",
       "      <td>0.0</td>\n",
       "      <td>0.0</td>\n",
       "      <td>0.0</td>\n",
       "      <td>0.0</td>\n",
       "      <td>0.0</td>\n",
       "      <td>0.0</td>\n",
       "      <td>1.0</td>\n",
       "      <td>0.0</td>\n",
       "      <td>0.0</td>\n",
       "    </tr>\n",
       "  </tbody>\n",
       "</table>\n",
       "<p>5 rows × 105 columns</p>\n",
       "</div>"
      ],
      "text/plain": [
       "        age    fnlwgt  education_num  hours_per_week  log_capital_gain  \\\n",
       "0  0.325464  2.763660      -0.038697       -0.198176          3.038414   \n",
       "1  0.252364 -0.527452      -0.038697       -0.037252         -0.303296   \n",
       "2  0.106165 -0.130971      -0.038697       -0.037252         -0.303296   \n",
       "3 -0.697928  0.321262      -0.038697        0.365056         -0.303296   \n",
       "4 -1.282723 -0.447108      -0.428749       -0.037252         -0.303296   \n",
       "\n",
       "   log_capital_loss  Federal-gov  Local-gov  Never-worked  Private  ...  \\\n",
       "0         -0.220983          0.0        0.0           0.0      1.0  ...   \n",
       "1         -0.220983          0.0        0.0           0.0      1.0  ...   \n",
       "2         -0.220983          0.0        0.0           0.0      1.0  ...   \n",
       "3         -0.220983          0.0        0.0           0.0      1.0  ...   \n",
       "4         -0.220983          0.0        0.0           0.0      1.0  ...   \n",
       "\n",
       "   Portugal  Puerto-Rico  Scotland  South  Taiwan  Thailand  Trinadad&Tobago  \\\n",
       "0       0.0          0.0       0.0    0.0     0.0       0.0              0.0   \n",
       "1       0.0          0.0       0.0    0.0     0.0       0.0              0.0   \n",
       "2       0.0          0.0       0.0    0.0     0.0       0.0              0.0   \n",
       "3       0.0          0.0       0.0    0.0     0.0       0.0              0.0   \n",
       "4       0.0          0.0       0.0    0.0     0.0       0.0              0.0   \n",
       "\n",
       "   United-States  Vietnam  Yugoslavia  \n",
       "0            1.0      0.0         0.0  \n",
       "1            1.0      0.0         0.0  \n",
       "2            1.0      0.0         0.0  \n",
       "3            1.0      0.0         0.0  \n",
       "4            1.0      0.0         0.0  \n",
       "\n",
       "[5 rows x 105 columns]"
      ]
     },
     "execution_count": 37,
     "metadata": {},
     "output_type": "execute_result"
    }
   ],
   "source": [
    "tmp_train.head()"
   ]
  },
  {
   "cell_type": "code",
   "execution_count": 38,
   "id": "70bdaa06",
   "metadata": {
    "execution": {
     "iopub.execute_input": "2022-06-17T17:52:59.186105Z",
     "iopub.status.busy": "2022-06-17T17:52:59.185857Z",
     "iopub.status.idle": "2022-06-17T17:52:59.189271Z",
     "shell.execute_reply": "2022-06-17T17:52:59.188544Z"
    },
    "papermill": {
     "duration": 0.02522,
     "end_time": "2022-06-17T17:52:59.190930",
     "exception": false,
     "start_time": "2022-06-17T17:52:59.165710",
     "status": "completed"
    },
    "tags": []
   },
   "outputs": [],
   "source": [
    "tmp_y_train = y_train\n",
    "tmp_y_valid = y_valid"
   ]
  },
  {
   "cell_type": "code",
   "execution_count": 39,
   "id": "048c3247",
   "metadata": {
    "execution": {
     "iopub.execute_input": "2022-06-17T17:52:59.230947Z",
     "iopub.status.busy": "2022-06-17T17:52:59.230698Z",
     "iopub.status.idle": "2022-06-17T17:53:09.574054Z",
     "shell.execute_reply": "2022-06-17T17:53:09.573087Z"
    },
    "papermill": {
     "duration": 10.36619,
     "end_time": "2022-06-17T17:53:09.576467",
     "exception": false,
     "start_time": "2022-06-17T17:52:59.210277",
     "status": "completed"
    },
    "scrolled": true,
    "tags": []
   },
   "outputs": [
    {
     "name": "stdout",
     "output_type": "stream",
     "text": [
      "Requirement already satisfied: xgboost in /opt/conda/lib/python3.7/site-packages (1.6.1)\r\n",
      "Requirement already satisfied: lightgbm in /opt/conda/lib/python3.7/site-packages (3.3.2)\r\n",
      "Requirement already satisfied: numpy in /opt/conda/lib/python3.7/site-packages (from xgboost) (1.21.6)\r\n",
      "Requirement already satisfied: scipy in /opt/conda/lib/python3.7/site-packages (from xgboost) (1.7.3)\r\n",
      "Requirement already satisfied: scikit-learn!=0.22.0 in /opt/conda/lib/python3.7/site-packages (from lightgbm) (1.0.2)\r\n",
      "Requirement already satisfied: wheel in /opt/conda/lib/python3.7/site-packages (from lightgbm) (0.37.1)\r\n",
      "Requirement already satisfied: threadpoolctl>=2.0.0 in /opt/conda/lib/python3.7/site-packages (from scikit-learn!=0.22.0->lightgbm) (3.1.0)\r\n",
      "Requirement already satisfied: joblib>=0.11 in /opt/conda/lib/python3.7/site-packages (from scikit-learn!=0.22.0->lightgbm) (1.1.0)\r\n",
      "\u001b[33mWARNING: Running pip as the 'root' user can result in broken permissions and conflicting behaviour with the system package manager. It is recommended to use a virtual environment instead: https://pip.pypa.io/warnings/venv\u001b[0m\u001b[33m\r\n",
      "\u001b[0m"
     ]
    }
   ],
   "source": [
    "!pip install xgboost lightgbm"
   ]
  },
  {
   "cell_type": "code",
   "execution_count": 40,
   "id": "fdeb19b1",
   "metadata": {
    "execution": {
     "iopub.execute_input": "2022-06-17T17:53:09.618705Z",
     "iopub.status.busy": "2022-06-17T17:53:09.618372Z",
     "iopub.status.idle": "2022-06-17T17:53:12.259872Z",
     "shell.execute_reply": "2022-06-17T17:53:12.258942Z"
    },
    "papermill": {
     "duration": 2.665838,
     "end_time": "2022-06-17T17:53:12.262762",
     "exception": false,
     "start_time": "2022-06-17T17:53:09.596924",
     "status": "completed"
    },
    "tags": []
   },
   "outputs": [
    {
     "data": {
      "text/html": [
       "<style type='text/css'>\n",
       ".datatable table.frame { margin-bottom: 0; }\n",
       ".datatable table.frame thead { border-bottom: none; }\n",
       ".datatable table.frame tr.coltypes td {  color: #FFFFFF;  line-height: 6px;  padding: 0 0.5em;}\n",
       ".datatable .bool    { background: #DDDD99; }\n",
       ".datatable .object  { background: #565656; }\n",
       ".datatable .int     { background: #5D9E5D; }\n",
       ".datatable .float   { background: #4040CC; }\n",
       ".datatable .str     { background: #CC4040; }\n",
       ".datatable .time    { background: #40CC40; }\n",
       ".datatable .row_index {  background: var(--jp-border-color3);  border-right: 1px solid var(--jp-border-color0);  color: var(--jp-ui-font-color3);  font-size: 9px;}\n",
       ".datatable .frame tbody td { text-align: left; }\n",
       ".datatable .frame tr.coltypes .row_index {  background: var(--jp-border-color0);}\n",
       ".datatable th:nth-child(2) { padding-left: 12px; }\n",
       ".datatable .hellipsis {  color: var(--jp-cell-editor-border-color);}\n",
       ".datatable .vellipsis {  background: var(--jp-layout-color0);  color: var(--jp-cell-editor-border-color);}\n",
       ".datatable .na {  color: var(--jp-cell-editor-border-color);  font-size: 80%;}\n",
       ".datatable .sp {  opacity: 0.25;}\n",
       ".datatable .footer { font-size: 9px; }\n",
       ".datatable .frame_dimensions {  background: var(--jp-border-color3);  border-top: 1px solid var(--jp-border-color0);  color: var(--jp-ui-font-color3);  display: inline-block;  opacity: 0.6;  padding: 1px 10px 1px 5px;}\n",
       "</style>\n"
      ],
      "text/plain": [
       "<IPython.core.display.HTML object>"
      ]
     },
     "metadata": {},
     "output_type": "display_data"
    }
   ],
   "source": [
    "from sklearn.linear_model import LogisticRegression\n",
    "from sklearn.svm import SVC\n",
    "from sklearn.ensemble import RandomForestClassifier\n",
    "from xgboost import XGBClassifier\n",
    "from lightgbm import LGBMClassifier\n",
    "\n",
    "from sklearn.metrics import f1_score"
   ]
  },
  {
   "cell_type": "markdown",
   "id": "4c8c59f1",
   "metadata": {
    "papermill": {
     "duration": 0.0327,
     "end_time": "2022-06-17T17:53:12.329090",
     "exception": false,
     "start_time": "2022-06-17T17:53:12.296390",
     "status": "completed"
    },
    "tags": []
   },
   "source": [
    "#### 로지스틱 회귀 모델"
   ]
  },
  {
   "cell_type": "code",
   "execution_count": 41,
   "id": "0d5ce12b",
   "metadata": {
    "execution": {
     "iopub.execute_input": "2022-06-17T17:53:12.397106Z",
     "iopub.status.busy": "2022-06-17T17:53:12.396733Z",
     "iopub.status.idle": "2022-06-17T17:53:12.804814Z",
     "shell.execute_reply": "2022-06-17T17:53:12.802177Z"
    },
    "papermill": {
     "duration": 0.44541,
     "end_time": "2022-06-17T17:53:12.807466",
     "exception": false,
     "start_time": "2022-06-17T17:53:12.362056",
     "status": "completed"
    },
    "tags": []
   },
   "outputs": [
    {
     "name": "stdout",
     "output_type": "stream",
     "text": [
      "Logistic Regression F1 Score: 0.8474728087012157\n"
     ]
    }
   ],
   "source": [
    "lr = LogisticRegression()\n",
    "\n",
    "lr.fit(tmp_train, tmp_y_train)\n",
    "\n",
    "y_pred = lr.predict(tmp_valid)\n",
    "\n",
    "print(f\"Logistic Regression F1 Score: {f1_score(tmp_y_valid, y_pred, average='micro')}\")"
   ]
  },
  {
   "cell_type": "markdown",
   "id": "20fe7cf1",
   "metadata": {
    "papermill": {
     "duration": 0.036831,
     "end_time": "2022-06-17T17:53:12.883035",
     "exception": false,
     "start_time": "2022-06-17T17:53:12.846204",
     "status": "completed"
    },
    "tags": []
   },
   "source": [
    "#### 서포트 벡터 머신"
   ]
  },
  {
   "cell_type": "code",
   "execution_count": 42,
   "id": "a14cce51",
   "metadata": {
    "execution": {
     "iopub.execute_input": "2022-06-17T17:53:12.947515Z",
     "iopub.status.busy": "2022-06-17T17:53:12.947162Z",
     "iopub.status.idle": "2022-06-17T17:53:33.557024Z",
     "shell.execute_reply": "2022-06-17T17:53:33.555222Z"
    },
    "papermill": {
     "duration": 20.639163,
     "end_time": "2022-06-17T17:53:33.558794",
     "exception": false,
     "start_time": "2022-06-17T17:53:12.919631",
     "status": "completed"
    },
    "tags": []
   },
   "outputs": [
    {
     "name": "stdout",
     "output_type": "stream",
     "text": [
      "Support Vector Machine F1 Score: 0.8551503518873961\n"
     ]
    }
   ],
   "source": [
    "svc = SVC()\n",
    "\n",
    "svc.fit(tmp_train, tmp_y_train)\n",
    "\n",
    "y_pred = svc.predict(tmp_valid)\n",
    "\n",
    "print(f\"Support Vector Machine F1 Score: {f1_score(tmp_y_valid, y_pred, average='micro')}\")"
   ]
  },
  {
   "cell_type": "markdown",
   "id": "c9767941",
   "metadata": {
    "papermill": {
     "duration": 0.020442,
     "end_time": "2022-06-17T17:53:33.599527",
     "exception": false,
     "start_time": "2022-06-17T17:53:33.579085",
     "status": "completed"
    },
    "tags": []
   },
   "source": [
    "#### 랜덤 포레스트"
   ]
  },
  {
   "cell_type": "code",
   "execution_count": 43,
   "id": "288a1d9a",
   "metadata": {
    "execution": {
     "iopub.execute_input": "2022-06-17T17:53:33.640932Z",
     "iopub.status.busy": "2022-06-17T17:53:33.640633Z",
     "iopub.status.idle": "2022-06-17T17:53:35.601564Z",
     "shell.execute_reply": "2022-06-17T17:53:35.600761Z"
    },
    "papermill": {
     "duration": 1.98467,
     "end_time": "2022-06-17T17:53:35.603985",
     "exception": false,
     "start_time": "2022-06-17T17:53:33.619315",
     "status": "completed"
    },
    "tags": []
   },
   "outputs": [
    {
     "name": "stdout",
     "output_type": "stream",
     "text": [
      "RandomForest F1 Score: 0.8537428023032629\n"
     ]
    }
   ],
   "source": [
    "rf = RandomForestClassifier()\n",
    "\n",
    "rf.fit(tmp_train, tmp_y_train)\n",
    "\n",
    "y_pred = rf.predict(tmp_valid)\n",
    "\n",
    "print(f\"RandomForest F1 Score: {f1_score(tmp_y_valid, y_pred, average='micro')}\")"
   ]
  },
  {
   "cell_type": "markdown",
   "id": "e7f834e7",
   "metadata": {
    "papermill": {
     "duration": 0.019621,
     "end_time": "2022-06-17T17:53:35.646022",
     "exception": false,
     "start_time": "2022-06-17T17:53:35.626401",
     "status": "completed"
    },
    "tags": []
   },
   "source": [
    "#### XGBoost"
   ]
  },
  {
   "cell_type": "code",
   "execution_count": 44,
   "id": "f592438f",
   "metadata": {
    "execution": {
     "iopub.execute_input": "2022-06-17T17:53:35.687560Z",
     "iopub.status.busy": "2022-06-17T17:53:35.686934Z",
     "iopub.status.idle": "2022-06-17T17:53:38.065066Z",
     "shell.execute_reply": "2022-06-17T17:53:38.064050Z"
    },
    "papermill": {
     "duration": 2.402162,
     "end_time": "2022-06-17T17:53:38.067902",
     "exception": false,
     "start_time": "2022-06-17T17:53:35.665740",
     "status": "completed"
    },
    "tags": []
   },
   "outputs": [
    {
     "name": "stdout",
     "output_type": "stream",
     "text": [
      "XGBoost F1 Score: 0.8692258477287268\n"
     ]
    }
   ],
   "source": [
    "xgb = XGBClassifier(tree_method='gpu_hist')\n",
    "\n",
    "xgb.fit(tmp_train, tmp_y_train)\n",
    "\n",
    "y_pred = xgb.predict(tmp_valid)\n",
    "\n",
    "print(f\"XGBoost F1 Score: {f1_score(tmp_y_valid, y_pred, average='micro')}\")"
   ]
  },
  {
   "cell_type": "markdown",
   "id": "1955a317",
   "metadata": {
    "papermill": {
     "duration": 0.020707,
     "end_time": "2022-06-17T17:53:38.110542",
     "exception": false,
     "start_time": "2022-06-17T17:53:38.089835",
     "status": "completed"
    },
    "tags": []
   },
   "source": [
    "#### LightGBM"
   ]
  },
  {
   "cell_type": "code",
   "execution_count": 45,
   "id": "40bfe112",
   "metadata": {
    "execution": {
     "iopub.execute_input": "2022-06-17T17:53:38.153290Z",
     "iopub.status.busy": "2022-06-17T17:53:38.152954Z",
     "iopub.status.idle": "2022-06-17T17:53:38.498072Z",
     "shell.execute_reply": "2022-06-17T17:53:38.496980Z"
    },
    "papermill": {
     "duration": 0.369595,
     "end_time": "2022-06-17T17:53:38.501185",
     "exception": false,
     "start_time": "2022-06-17T17:53:38.131590",
     "status": "completed"
    },
    "tags": []
   },
   "outputs": [
    {
     "name": "stdout",
     "output_type": "stream",
     "text": [
      "LightGBM F1 Score: 0.8701215611004478\n"
     ]
    }
   ],
   "source": [
    "lgb = LGBMClassifier()\n",
    "\n",
    "lgb.fit(tmp_train, tmp_y_train)\n",
    "\n",
    "y_pred = lgb.predict(tmp_valid)\n",
    "\n",
    "print(f\"LightGBM F1 Score: {f1_score(tmp_y_valid, y_pred, average='micro')}\")"
   ]
  },
  {
   "cell_type": "markdown",
   "id": "f194d20b",
   "metadata": {
    "papermill": {
     "duration": 0.019967,
     "end_time": "2022-06-17T17:53:38.543067",
     "exception": false,
     "start_time": "2022-06-17T17:53:38.523100",
     "status": "completed"
    },
    "tags": []
   },
   "source": [
    "### k-Fold Cross Validation"
   ]
  },
  {
   "cell_type": "code",
   "execution_count": 46,
   "id": "b0bf4e51",
   "metadata": {
    "execution": {
     "iopub.execute_input": "2022-06-17T17:53:38.587165Z",
     "iopub.status.busy": "2022-06-17T17:53:38.586369Z",
     "iopub.status.idle": "2022-06-17T17:53:38.607225Z",
     "shell.execute_reply": "2022-06-17T17:53:38.606493Z"
    },
    "papermill": {
     "duration": 0.045908,
     "end_time": "2022-06-17T17:53:38.609093",
     "exception": false,
     "start_time": "2022-06-17T17:53:38.563185",
     "status": "completed"
    },
    "tags": []
   },
   "outputs": [],
   "source": [
    "# 여태껏 했던 전처리 프로세스를 하나의 함수로 만들기\n",
    "def preprocess(x_train, x_valid, x_test):\n",
    "    tmp_x_train = x_train.copy()\n",
    "    tmp_x_valid = x_valid.copy()\n",
    "    tmp_x_test  = x_test.copy()\n",
    "    \n",
    "    tmp_x_train = tmp_x_train.reset_index(drop=True)\n",
    "    tmp_x_valid = tmp_x_valid.reset_index(drop=True)\n",
    "    tmp_x_test  = tmp_x_test.reset_index(drop=True)\n",
    "    \n",
    "    for c in has_na_columns:\n",
    "        tmp_x_train.loc[tmp_x_train[c] == '?', c] = tmp_x_train[c].mode()[0]\n",
    "        tmp_x_valid.loc[tmp_x_valid[c] == '?', c] = tmp_x_valid[c].mode()[0]\n",
    "        tmp_x_test.loc[tmp_x_test[c]   == '?', c] = tmp_x_test[c].mode()[0]\n",
    "    \n",
    "    tmp_x_train['log_capital_loss'] = tmp_x_train['capital_loss'].map(lambda x : np.log(x) if x != 0 else 0)\n",
    "    tmp_x_valid['log_capital_loss'] = tmp_x_valid['capital_loss'].map(lambda x : np.log(x) if x != 0 else 0)\n",
    "    tmp_x_test['log_capital_loss'] = tmp_x_test['capital_loss'].map(lambda x : np.log(x) if x != 0 else 0)\n",
    "    \n",
    "    tmp_x_train['log_capital_gain'] = tmp_x_train['capital_gain'].map(lambda x : np.log(x) if x != 0 else 0)\n",
    "    tmp_x_valid['log_capital_gain'] = tmp_x_valid['capital_gain'].map(lambda x : np.log(x) if x != 0 else 0)\n",
    "    tmp_x_test['log_capital_gain'] = tmp_x_test['capital_gain'].map(lambda x : np.log(x) if x != 0 else 0)\n",
    "    \n",
    "    tmp_x_train = tmp_x_train.drop(columns=['capital_loss', 'capital_gain'])\n",
    "    tmp_x_valid = tmp_x_valid.drop(columns=['capital_loss', 'capital_gain'])\n",
    "    tmp_x_test  = tmp_x_test.drop(columns=['capital_loss', 'capital_gain'])\n",
    "    \n",
    "    scaler = StandardScaler()\n",
    "    tmp_x_train[num_columns] = scaler.fit_transform(tmp_x_train[num_columns])\n",
    "    tmp_x_valid[num_columns] = scaler.transform(tmp_x_valid[num_columns])\n",
    "    tmp_x_test[num_columns]  = scaler.transform(tmp_x_test[num_columns])\n",
    "    \n",
    "    tmp_all = pd.concat([tmp_x_train, tmp_x_valid, tmp_x_test])\n",
    "\n",
    "    ohe = OneHotEncoder(sparse=False)\n",
    "    ohe.fit(tmp_all[cat_columns])\n",
    "    \n",
    "    ohe_columns = list()\n",
    "    for lst in ohe.categories_:\n",
    "        ohe_columns += lst.tolist()\n",
    "    \n",
    "    tmp_train_cat = pd.DataFrame(ohe.transform(tmp_x_train[cat_columns]), columns=ohe_columns)\n",
    "    tmp_valid_cat = pd.DataFrame(ohe.transform(tmp_x_valid[cat_columns]), columns=ohe_columns)\n",
    "    tmp_test_cat  = pd.DataFrame(ohe.transform(tmp_x_test[cat_columns]), columns=ohe_columns)\n",
    "    \n",
    "    tmp_x_train = pd.concat([tmp_x_train, tmp_train_cat], axis=1)\n",
    "    tmp_x_valid = pd.concat([tmp_x_valid, tmp_valid_cat], axis=1)\n",
    "    tmp_x_test = pd.concat([tmp_x_test, tmp_test_cat], axis=1)\n",
    "\n",
    "    tmp_x_train = tmp_x_train.drop(columns=cat_columns)\n",
    "    tmp_x_valid = tmp_x_valid.drop(columns=cat_columns)\n",
    "    tmp_x_test = tmp_x_test.drop(columns=cat_columns)\n",
    "    \n",
    "    return tmp_x_train.values, tmp_x_valid.values, tmp_x_test.values"
   ]
  },
  {
   "cell_type": "code",
   "execution_count": 47,
   "id": "498ce57e",
   "metadata": {
    "execution": {
     "iopub.execute_input": "2022-06-17T17:53:38.652002Z",
     "iopub.status.busy": "2022-06-17T17:53:38.651669Z",
     "iopub.status.idle": "2022-06-17T17:53:38.656374Z",
     "shell.execute_reply": "2022-06-17T17:53:38.655576Z"
    },
    "papermill": {
     "duration": 0.028459,
     "end_time": "2022-06-17T17:53:38.658024",
     "exception": false,
     "start_time": "2022-06-17T17:53:38.629565",
     "status": "completed"
    },
    "tags": []
   },
   "outputs": [],
   "source": [
    "def xgb_f1(y, t, threshold=0.5):\n",
    "    t = t.get_label()\n",
    "    y_bin = (y > threshold).astype(int) \n",
    "    return 'f1',f1_score(t, y_bin, average='micro')"
   ]
  },
  {
   "cell_type": "code",
   "execution_count": 48,
   "id": "56d350d5",
   "metadata": {
    "execution": {
     "iopub.execute_input": "2022-06-17T17:53:38.700741Z",
     "iopub.status.busy": "2022-06-17T17:53:38.700115Z",
     "iopub.status.idle": "2022-06-17T17:53:38.704424Z",
     "shell.execute_reply": "2022-06-17T17:53:38.703573Z"
    },
    "papermill": {
     "duration": 0.026923,
     "end_time": "2022-06-17T17:53:38.706082",
     "exception": false,
     "start_time": "2022-06-17T17:53:38.679159",
     "status": "completed"
    },
    "tags": []
   },
   "outputs": [],
   "source": [
    "from sklearn.model_selection import StratifiedKFold\n",
    "n_splits = 5\n",
    "skf = StratifiedKFold(n_splits=n_splits, shuffle=True, random_state=2020)"
   ]
  },
  {
   "cell_type": "code",
   "execution_count": 49,
   "id": "7425a6b0",
   "metadata": {
    "execution": {
     "iopub.execute_input": "2022-06-17T17:53:38.748654Z",
     "iopub.status.busy": "2022-06-17T17:53:38.747969Z",
     "iopub.status.idle": "2022-06-17T17:53:44.783199Z",
     "shell.execute_reply": "2022-06-17T17:53:44.781454Z"
    },
    "papermill": {
     "duration": 6.060203,
     "end_time": "2022-06-17T17:53:44.786822",
     "exception": false,
     "start_time": "2022-06-17T17:53:38.726619",
     "status": "completed"
    },
    "tags": []
   },
   "outputs": [
    {
     "name": "stdout",
     "output_type": "stream",
     "text": [
      "[0]\tvalidation_0-logloss:0.54157\tvalidation_0-f1:0.85470\n",
      "[99]\tvalidation_0-logloss:0.28204\tvalidation_0-f1:0.87140\n",
      "0 Fold, train f1_score : 0.85564, validation f1_score : 0.8547\n",
      "\n",
      "[0]\tvalidation_0-logloss:0.54178\tvalidation_0-f1:0.85259\n",
      "[99]\tvalidation_0-logloss:0.27710\tvalidation_0-f1:0.87198\n",
      "1 Fold, train f1_score : 0.85504, validation f1_score : 0.8526\n",
      "\n",
      "[0]\tvalidation_0-logloss:0.54356\tvalidation_0-f1:0.84971\n",
      "[99]\tvalidation_0-logloss:0.29222\tvalidation_0-f1:0.86372\n",
      "2 Fold, train f1_score : 0.85494, validation f1_score : 0.8497\n",
      "\n",
      "[0]\tvalidation_0-logloss:0.54309\tvalidation_0-f1:0.84971\n",
      "[99]\tvalidation_0-logloss:0.28342\tvalidation_0-f1:0.86756\n",
      "3 Fold, train f1_score : 0.85464, validation f1_score : 0.8497\n",
      "\n",
      "[0]\tvalidation_0-logloss:0.54262\tvalidation_0-f1:0.85122\n",
      "[99]\tvalidation_0-logloss:0.28327\tvalidation_0-f1:0.86830\n",
      "4 Fold, train f1_score : 0.85464, validation f1_score : 0.8512\n",
      "\n",
      "Cross Validation Score : 0.8516\n"
     ]
    }
   ],
   "source": [
    "val_scores = list()\n",
    "oof_pred = np.zeros((test.shape[0],))\n",
    "\n",
    "for i, (trn_idx, val_idx) in enumerate(skf.split(train, label)):\n",
    "    x_train, y_train = train.iloc[trn_idx, :], label[trn_idx]\n",
    "    x_valid, y_valid = train.iloc[val_idx, :], label[val_idx]\n",
    "    \n",
    "    # 전처리\n",
    "    x_train, x_valid, x_test = preprocess(x_train, x_valid, test)\n",
    "    \n",
    "    # 모델 정의\n",
    "    clf = XGBClassifier(tree_method='gpu_hist')\n",
    "    \n",
    "    # 모델 학습\n",
    "    clf.fit(x_train, y_train,\n",
    "            eval_set = [[x_valid, y_valid]], \n",
    "            eval_metric = xgb_f1,        \n",
    "            early_stopping_rounds = 100,\n",
    "            verbose = 100,  )\n",
    "\n",
    "    # 훈련, 검증 데이터 Loss 확인\n",
    "    trn_f1_score = f1_score(y_train, clf.predict(x_train), average='micro')\n",
    "    val_f1_score = f1_score(y_valid, clf.predict(x_valid), average='micro')\n",
    "    print('{} Fold, train f1_score : {:.4f}4, validation f1_score : {:.4f}\\n'.format(i, trn_f1_score, val_f1_score))\n",
    "    \n",
    "    val_scores.append(val_f1_score)\n",
    "    \n",
    "\n",
    "# 교차 검증 F1 Score 평균 계산\n",
    "print('Cross Validation Score : {:.4f}'.format(np.mean(val_scores)))"
   ]
  },
  {
   "cell_type": "markdown",
   "id": "f6b7f479",
   "metadata": {
    "papermill": {
     "duration": 0.043837,
     "end_time": "2022-06-17T17:53:44.874633",
     "exception": false,
     "start_time": "2022-06-17T17:53:44.830796",
     "status": "completed"
    },
    "tags": []
   },
   "source": [
    "### OOF(Out-Of-Fold) 앙상블\n",
    "OOF 앙상블: k-Fold를 활용해서 모델 검증 및 각 폴드의 결과를 앙상블"
   ]
  },
  {
   "cell_type": "code",
   "execution_count": 50,
   "id": "89fe72ee",
   "metadata": {
    "execution": {
     "iopub.execute_input": "2022-06-17T17:53:44.938807Z",
     "iopub.status.busy": "2022-06-17T17:53:44.938459Z",
     "iopub.status.idle": "2022-06-17T17:53:50.411531Z",
     "shell.execute_reply": "2022-06-17T17:53:50.410540Z"
    },
    "papermill": {
     "duration": 5.499772,
     "end_time": "2022-06-17T17:53:50.413918",
     "exception": false,
     "start_time": "2022-06-17T17:53:44.914146",
     "status": "completed"
    },
    "tags": []
   },
   "outputs": [
    {
     "name": "stdout",
     "output_type": "stream",
     "text": [
      "[0]\tvalidation_0-logloss:0.54157\tvalidation_0-f1:0.85470\n",
      "[99]\tvalidation_0-logloss:0.28204\tvalidation_0-f1:0.87140\n",
      "0 Fold, train f1_score : 0.85564, validation f1_score : 0.8547\n",
      "\n",
      "[0]\tvalidation_0-logloss:0.54178\tvalidation_0-f1:0.85259\n",
      "[99]\tvalidation_0-logloss:0.27710\tvalidation_0-f1:0.87198\n",
      "1 Fold, train f1_score : 0.85504, validation f1_score : 0.8526\n",
      "\n",
      "[0]\tvalidation_0-logloss:0.54356\tvalidation_0-f1:0.84971\n",
      "[99]\tvalidation_0-logloss:0.29222\tvalidation_0-f1:0.86372\n",
      "2 Fold, train f1_score : 0.85494, validation f1_score : 0.8497\n",
      "\n",
      "[0]\tvalidation_0-logloss:0.54309\tvalidation_0-f1:0.84971\n",
      "[99]\tvalidation_0-logloss:0.28342\tvalidation_0-f1:0.86756\n",
      "3 Fold, train f1_score : 0.85464, validation f1_score : 0.8497\n",
      "\n",
      "[0]\tvalidation_0-logloss:0.54262\tvalidation_0-f1:0.85122\n",
      "[99]\tvalidation_0-logloss:0.28327\tvalidation_0-f1:0.86830\n",
      "4 Fold, train f1_score : 0.85464, validation f1_score : 0.8512\n",
      "\n",
      "Cross Validation Score : 0.8516\n"
     ]
    }
   ],
   "source": [
    "val_scores = list()\n",
    "oof_pred = np.zeros((test.shape[0], ))\n",
    "\n",
    "for i, (trn_idx, val_idx) in enumerate(skf.split(train, label)):\n",
    "    x_train, y_train = train.iloc[trn_idx, :], label[trn_idx]\n",
    "    x_valid, y_valid = train.iloc[val_idx, :], label[val_idx]\n",
    "    \n",
    "    # 전처리\n",
    "    x_train, x_valid, x_test = preprocess(x_train, x_valid, test)\n",
    "    \n",
    "    # 모델 정의\n",
    "    clf = XGBClassifier(tree_method='gpu_hist')\n",
    "    \n",
    "    # 모델 학습\n",
    "    clf.fit(x_train, y_train,\n",
    "            eval_set = [[x_valid, y_valid]], \n",
    "            eval_metric = xgb_f1,        \n",
    "            early_stopping_rounds = 100,\n",
    "            verbose = 100,  )\n",
    "\n",
    "    # 훈련, 검증 데이터 F1 Score 확인\n",
    "    trn_f1_score = f1_score(y_train, clf.predict(x_train), average='micro')\n",
    "    val_f1_score = f1_score(y_valid, clf.predict(x_valid), average='micro')\n",
    "    print('{} Fold, train f1_score : {:.4f}4, validation f1_score : {:.4f}\\n'.format(i, trn_f1_score, val_f1_score))\n",
    "    \n",
    "    val_scores.append(val_f1_score)\n",
    "    \n",
    "    oof_pred += clf.predict_proba(x_test)[:, 1] / n_splits\n",
    "    \n",
    "\n",
    "# 교차 검증 F1 Score 평균 계산\n",
    "print('Cross Validation Score : {:.4f}'.format(np.mean(val_scores)))"
   ]
  },
  {
   "cell_type": "markdown",
   "id": "77f9b097",
   "metadata": {
    "papermill": {
     "duration": 0.023581,
     "end_time": "2022-06-17T17:53:50.463237",
     "exception": false,
     "start_time": "2022-06-17T17:53:50.439656",
     "status": "completed"
    },
    "tags": []
   },
   "source": [
    "### Stacking 앙상블\n",
    "Stacking 앙상블: 수십개의 1 stage 모델의 결과를 모아 2 stage 모델로 학습 후 결과를 내는 방식"
   ]
  },
  {
   "cell_type": "markdown",
   "id": "68548786",
   "metadata": {
    "papermill": {
     "duration": 0.021639,
     "end_time": "2022-06-17T17:53:50.506629",
     "exception": false,
     "start_time": "2022-06-17T17:53:50.484990",
     "status": "completed"
    },
    "tags": []
   },
   "source": [
    "#### 1 stage 결과 모으기"
   ]
  },
  {
   "cell_type": "code",
   "execution_count": 51,
   "id": "e634ff10",
   "metadata": {
    "execution": {
     "iopub.execute_input": "2022-06-17T17:53:50.551251Z",
     "iopub.status.busy": "2022-06-17T17:53:50.550908Z",
     "iopub.status.idle": "2022-06-17T17:54:10.672822Z",
     "shell.execute_reply": "2022-06-17T17:54:10.672127Z"
    },
    "papermill": {
     "duration": 20.1467,
     "end_time": "2022-06-17T17:54:10.674916",
     "exception": false,
     "start_time": "2022-06-17T17:53:50.528216",
     "status": "completed"
    },
    "tags": []
   },
   "outputs": [
    {
     "name": "stdout",
     "output_type": "stream",
     "text": [
      "Fold 0 Start\n",
      "[LightGBM] [Warning] Unknown parameter: tree_method\n",
      "Fold 1 Start\n",
      "[LightGBM] [Warning] Unknown parameter: tree_method\n",
      "Fold 2 Start\n",
      "[LightGBM] [Warning] Unknown parameter: tree_method\n",
      "Fold 3 Start\n",
      "[LightGBM] [Warning] Unknown parameter: tree_method\n",
      "Fold 4 Start\n",
      "[LightGBM] [Warning] Unknown parameter: tree_method\n"
     ]
    }
   ],
   "source": [
    "val_scores = list()\n",
    "\n",
    "new_x_train_list = [np.zeros((train.shape[0], 1)) for _ in range(4)]\n",
    "new_x_test_list  = [np.zeros((test.shape[0], 1)) for _ in range(4)]\n",
    "\n",
    "for i, (trn_idx, val_idx) in enumerate(skf.split(train, label)):\n",
    "    print(f\"Fold {i} Start\")\n",
    "    x_train, y_train = train.iloc[trn_idx, :], label[trn_idx]\n",
    "    x_valid, y_valid = train.iloc[val_idx, :], label[val_idx]\n",
    "    \n",
    "    # 전처리\n",
    "    x_train, x_valid, x_test = preprocess(x_train, x_valid, test)\n",
    "    \n",
    "    # 모델 정의\n",
    "    clfs = [LogisticRegression(), \n",
    "            RandomForestClassifier(), \n",
    "            XGBClassifier(tree_method='gpu_hist'), \n",
    "            LGBMClassifier(tree_method='gpu_hist')]\n",
    "    \n",
    "    for model_idx, clf in enumerate(clfs):\n",
    "        clf.fit(x_train, y_train)\n",
    "        \n",
    "        new_x_train_list[model_idx][val_idx, :] = clf.predict_proba(x_valid)[:, 1].reshape(-1, 1)\n",
    "        new_x_test_list[model_idx][:] += clf.predict_proba(x_test)[:, 1].reshape(-1, 1) / n_splits"
   ]
  },
  {
   "cell_type": "code",
   "execution_count": 52,
   "id": "7f9bec66",
   "metadata": {
    "execution": {
     "iopub.execute_input": "2022-06-17T17:54:10.725204Z",
     "iopub.status.busy": "2022-06-17T17:54:10.724873Z",
     "iopub.status.idle": "2022-06-17T17:54:10.732379Z",
     "shell.execute_reply": "2022-06-17T17:54:10.731530Z"
    },
    "papermill": {
     "duration": 0.033256,
     "end_time": "2022-06-17T17:54:10.734085",
     "exception": false,
     "start_time": "2022-06-17T17:54:10.700829",
     "status": "completed"
    },
    "tags": []
   },
   "outputs": [
    {
     "data": {
      "text/plain": [
       "[array([[0.40376234],\n",
       "        [0.00085328],\n",
       "        [0.00188294],\n",
       "        ...,\n",
       "        [0.16103864],\n",
       "        [0.002427  ],\n",
       "        [0.00376174]]),\n",
       " array([[0.37],\n",
       "        [0.  ],\n",
       "        [0.  ],\n",
       "        ...,\n",
       "        [0.12],\n",
       "        [0.03],\n",
       "        [0.  ]]),\n",
       " array([[4.40721989e-01],\n",
       "        [8.68849602e-05],\n",
       "        [4.80050840e-05],\n",
       "        ...,\n",
       "        [2.62357853e-02],\n",
       "        [4.29606996e-03],\n",
       "        [8.06395401e-05]]),\n",
       " array([[4.28329884e-01],\n",
       "        [3.53055916e-04],\n",
       "        [2.81396997e-04],\n",
       "        ...,\n",
       "        [8.37971308e-02],\n",
       "        [5.04372657e-03],\n",
       "        [4.54031840e-04]])]"
      ]
     },
     "execution_count": 52,
     "metadata": {},
     "output_type": "execute_result"
    }
   ],
   "source": [
    "new_x_train_list"
   ]
  },
  {
   "cell_type": "code",
   "execution_count": 53,
   "id": "1981fcc9",
   "metadata": {
    "execution": {
     "iopub.execute_input": "2022-06-17T17:54:10.780393Z",
     "iopub.status.busy": "2022-06-17T17:54:10.779852Z",
     "iopub.status.idle": "2022-06-17T17:54:10.788027Z",
     "shell.execute_reply": "2022-06-17T17:54:10.787377Z"
    },
    "papermill": {
     "duration": 0.033026,
     "end_time": "2022-06-17T17:54:10.789645",
     "exception": false,
     "start_time": "2022-06-17T17:54:10.756619",
     "status": "completed"
    },
    "tags": []
   },
   "outputs": [
    {
     "data": {
      "text/plain": [
       "[array([[0.00823128],\n",
       "        [0.4977344 ],\n",
       "        [0.00315202],\n",
       "        ...,\n",
       "        [0.02009889],\n",
       "        [0.2149251 ],\n",
       "        [0.00781397]]),\n",
       " array([[0.   ],\n",
       "        [0.546],\n",
       "        [0.   ],\n",
       "        ...,\n",
       "        [0.004],\n",
       "        [0.382],\n",
       "        [0.   ]]),\n",
       " array([[2.17497995e-03],\n",
       "        [5.35765246e-01],\n",
       "        [5.00202673e-05],\n",
       "        ...,\n",
       "        [1.23520382e-02],\n",
       "        [1.93900321e-01],\n",
       "        [1.30107182e-02]]),\n",
       " array([[3.46590474e-03],\n",
       "        [5.14813222e-01],\n",
       "        [3.62692810e-04],\n",
       "        ...,\n",
       "        [2.12533318e-02],\n",
       "        [2.01380897e-01],\n",
       "        [8.89995607e-03]])]"
      ]
     },
     "execution_count": 53,
     "metadata": {},
     "output_type": "execute_result"
    }
   ],
   "source": [
    "new_x_test_list"
   ]
  },
  {
   "cell_type": "code",
   "execution_count": 54,
   "id": "c573cf6c",
   "metadata": {
    "execution": {
     "iopub.execute_input": "2022-06-17T17:54:10.836883Z",
     "iopub.status.busy": "2022-06-17T17:54:10.836622Z",
     "iopub.status.idle": "2022-06-17T17:54:10.844475Z",
     "shell.execute_reply": "2022-06-17T17:54:10.843545Z"
    },
    "papermill": {
     "duration": 0.033271,
     "end_time": "2022-06-17T17:54:10.846298",
     "exception": false,
     "start_time": "2022-06-17T17:54:10.813027",
     "status": "completed"
    },
    "tags": []
   },
   "outputs": [
    {
     "data": {
      "text/plain": [
       "((26049, 4), (26049,), (6512, 4))"
      ]
     },
     "execution_count": 54,
     "metadata": {},
     "output_type": "execute_result"
    }
   ],
   "source": [
    "new_train = pd.DataFrame(np.concatenate(new_x_train_list, axis=1), columns=None)\n",
    "new_label = label\n",
    "new_test = pd.DataFrame(np.concatenate(new_x_test_list, axis=1), columns=None)\n",
    "\n",
    "new_train.shape, new_label.shape, new_test.shape"
   ]
  },
  {
   "cell_type": "markdown",
   "id": "0f14f190",
   "metadata": {
    "papermill": {
     "duration": 0.022777,
     "end_time": "2022-06-17T17:54:10.891890",
     "exception": false,
     "start_time": "2022-06-17T17:54:10.869113",
     "status": "completed"
    },
    "tags": []
   },
   "source": [
    "#### 2 Stage Meta Model 학습\n",
    "new_train, new_test에 들어있는 변수는 모두 수치형 변수 -> Standard Scaling만 진행\n",
    "새로 생성한 데이터 new_train, new_test로 2 Stage Meta Model을 학습하고 결과 생성"
   ]
  },
  {
   "cell_type": "code",
   "execution_count": 55,
   "id": "45c6e225",
   "metadata": {
    "execution": {
     "iopub.execute_input": "2022-06-17T17:54:10.938971Z",
     "iopub.status.busy": "2022-06-17T17:54:10.938453Z",
     "iopub.status.idle": "2022-06-17T17:54:13.866976Z",
     "shell.execute_reply": "2022-06-17T17:54:13.865982Z"
    },
    "papermill": {
     "duration": 2.954898,
     "end_time": "2022-06-17T17:54:13.869747",
     "exception": false,
     "start_time": "2022-06-17T17:54:10.914849",
     "status": "completed"
    },
    "tags": []
   },
   "outputs": [
    {
     "name": "stdout",
     "output_type": "stream",
     "text": [
      "[0]\tvalidation_0-logloss:0.52766\tvalidation_0-f1:0.86852\n",
      "[99]\tvalidation_0-logloss:0.28189\tvalidation_0-f1:0.87044\n",
      "0 Fold, train f1_score : 0.87454, validation f1_score : 0.8685\n",
      "\n",
      "[0]\tvalidation_0-logloss:0.52970\tvalidation_0-f1:0.86660\n",
      "[99]\tvalidation_0-logloss:0.27883\tvalidation_0-f1:0.87063\n",
      "1 Fold, train f1_score : 0.87544, validation f1_score : 0.8666\n",
      "\n",
      "[0]\tvalidation_0-logloss:0.52929\tvalidation_0-f1:0.86737\n",
      "[99]\tvalidation_0-logloss:0.28242\tvalidation_0-f1:0.86910\n",
      "2 Fold, train f1_score : 0.87544, validation f1_score : 0.8674\n",
      "\n",
      "[0]\tvalidation_0-logloss:0.53011\tvalidation_0-f1:0.86699\n",
      "[99]\tvalidation_0-logloss:0.28393\tvalidation_0-f1:0.86929\n",
      "3 Fold, train f1_score : 0.87764, validation f1_score : 0.8658\n",
      "\n",
      "[0]\tvalidation_0-logloss:0.52913\tvalidation_0-f1:0.87176\n",
      "[99]\tvalidation_0-logloss:0.28235\tvalidation_0-f1:0.87214\n",
      "4 Fold, train f1_score : 0.88334, validation f1_score : 0.8704\n",
      "\n",
      "Cross Validation Score : 0.8677\n"
     ]
    }
   ],
   "source": [
    "val_scores = list()\n",
    "oof_pred = np.zeros((test.shape[0], ))\n",
    "\n",
    "for i, (trn_idx, val_idx) in enumerate(skf.split(new_train, new_label)):\n",
    "    x_train, y_train = new_train.iloc[trn_idx, :], new_label[trn_idx]\n",
    "    x_valid, y_valid = new_train.iloc[val_idx, :], new_label[val_idx]\n",
    "    \n",
    "    # 전처리\n",
    "    scaler = StandardScaler()\n",
    "    x_train = scaler.fit_transform(x_train)\n",
    "    x_valid = scaler.transform(x_valid)\n",
    "    x_test  = scaler.transform(new_test)\n",
    "    \n",
    "    # 모델 정의\n",
    "    clf = XGBClassifier(tree_method='gpu_hist')\n",
    "    \n",
    "    # 모델 학습\n",
    "    clf.fit(x_train, y_train,\n",
    "            eval_set = [[x_valid, y_valid]], \n",
    "            eval_metric = xgb_f1,        \n",
    "            early_stopping_rounds = 100,\n",
    "            verbose = 100,  )\n",
    "\n",
    "    # 훈련, 검증 데이터 F1 Score 확인\n",
    "    trn_f1_score = f1_score(y_train, clf.predict(x_train), average='micro')\n",
    "    val_f1_score = f1_score(y_valid, clf.predict(x_valid), average='micro')\n",
    "    print('{} Fold, train f1_score : {:.4f}4, validation f1_score : {:.4f}\\n'.format(i, trn_f1_score, val_f1_score))\n",
    "    \n",
    "    val_scores.append(val_f1_score)\n",
    "    \n",
    "    oof_pred += clf.predict_proba(x_test)[:, 1] / n_splits\n",
    "    \n",
    "\n",
    "# 교차 검증 F1 Score 평균 계산\n",
    "print('Cross Validation Score : {:.4f}'.format(np.mean(val_scores)))"
   ]
  },
  {
   "cell_type": "markdown",
   "id": "13450905",
   "metadata": {
    "papermill": {
     "duration": 0.023929,
     "end_time": "2022-06-17T17:54:13.920004",
     "exception": false,
     "start_time": "2022-06-17T17:54:13.896075",
     "status": "completed"
    },
    "tags": []
   },
   "source": [
    "### 결과"
   ]
  },
  {
   "cell_type": "code",
   "execution_count": 56,
   "id": "ac1e599b",
   "metadata": {
    "execution": {
     "iopub.execute_input": "2022-06-17T17:54:13.969261Z",
     "iopub.status.busy": "2022-06-17T17:54:13.968960Z",
     "iopub.status.idle": "2022-06-17T17:54:13.979638Z",
     "shell.execute_reply": "2022-06-17T17:54:13.978919Z"
    },
    "papermill": {
     "duration": 0.037022,
     "end_time": "2022-06-17T17:54:13.981352",
     "exception": false,
     "start_time": "2022-06-17T17:54:13.944330",
     "status": "completed"
    },
    "tags": []
   },
   "outputs": [],
   "source": [
    "submit = pd.read_csv(\"../input/kakr-4th-competition/sample_submission.csv\")"
   ]
  },
  {
   "cell_type": "code",
   "execution_count": 57,
   "id": "863d23da",
   "metadata": {
    "execution": {
     "iopub.execute_input": "2022-06-17T17:54:14.030078Z",
     "iopub.status.busy": "2022-06-17T17:54:14.029803Z",
     "iopub.status.idle": "2022-06-17T17:54:14.034363Z",
     "shell.execute_reply": "2022-06-17T17:54:14.033585Z"
    },
    "papermill": {
     "duration": 0.030652,
     "end_time": "2022-06-17T17:54:14.035997",
     "exception": false,
     "start_time": "2022-06-17T17:54:14.005345",
     "status": "completed"
    },
    "tags": []
   },
   "outputs": [],
   "source": [
    "submit.loc[:, 'prediction'] = (oof_pred > 0.5).astype(int)"
   ]
  },
  {
   "cell_type": "code",
   "execution_count": 58,
   "id": "577d93df",
   "metadata": {
    "execution": {
     "iopub.execute_input": "2022-06-17T17:54:14.084758Z",
     "iopub.status.busy": "2022-06-17T17:54:14.084332Z",
     "iopub.status.idle": "2022-06-17T17:54:14.095100Z",
     "shell.execute_reply": "2022-06-17T17:54:14.094321Z"
    },
    "papermill": {
     "duration": 0.037368,
     "end_time": "2022-06-17T17:54:14.096922",
     "exception": false,
     "start_time": "2022-06-17T17:54:14.059554",
     "status": "completed"
    },
    "tags": []
   },
   "outputs": [
    {
     "data": {
      "text/html": [
       "<div>\n",
       "<style scoped>\n",
       "    .dataframe tbody tr th:only-of-type {\n",
       "        vertical-align: middle;\n",
       "    }\n",
       "\n",
       "    .dataframe tbody tr th {\n",
       "        vertical-align: top;\n",
       "    }\n",
       "\n",
       "    .dataframe thead th {\n",
       "        text-align: right;\n",
       "    }\n",
       "</style>\n",
       "<table border=\"1\" class=\"dataframe\">\n",
       "  <thead>\n",
       "    <tr style=\"text-align: right;\">\n",
       "      <th></th>\n",
       "      <th>id</th>\n",
       "      <th>prediction</th>\n",
       "    </tr>\n",
       "  </thead>\n",
       "  <tbody>\n",
       "    <tr>\n",
       "      <th>0</th>\n",
       "      <td>0</td>\n",
       "      <td>0</td>\n",
       "    </tr>\n",
       "    <tr>\n",
       "      <th>1</th>\n",
       "      <td>1</td>\n",
       "      <td>1</td>\n",
       "    </tr>\n",
       "    <tr>\n",
       "      <th>2</th>\n",
       "      <td>2</td>\n",
       "      <td>0</td>\n",
       "    </tr>\n",
       "    <tr>\n",
       "      <th>3</th>\n",
       "      <td>3</td>\n",
       "      <td>1</td>\n",
       "    </tr>\n",
       "    <tr>\n",
       "      <th>4</th>\n",
       "      <td>4</td>\n",
       "      <td>0</td>\n",
       "    </tr>\n",
       "    <tr>\n",
       "      <th>...</th>\n",
       "      <td>...</td>\n",
       "      <td>...</td>\n",
       "    </tr>\n",
       "    <tr>\n",
       "      <th>6507</th>\n",
       "      <td>6507</td>\n",
       "      <td>1</td>\n",
       "    </tr>\n",
       "    <tr>\n",
       "      <th>6508</th>\n",
       "      <td>6508</td>\n",
       "      <td>1</td>\n",
       "    </tr>\n",
       "    <tr>\n",
       "      <th>6509</th>\n",
       "      <td>6509</td>\n",
       "      <td>0</td>\n",
       "    </tr>\n",
       "    <tr>\n",
       "      <th>6510</th>\n",
       "      <td>6510</td>\n",
       "      <td>0</td>\n",
       "    </tr>\n",
       "    <tr>\n",
       "      <th>6511</th>\n",
       "      <td>6511</td>\n",
       "      <td>0</td>\n",
       "    </tr>\n",
       "  </tbody>\n",
       "</table>\n",
       "<p>6512 rows × 2 columns</p>\n",
       "</div>"
      ],
      "text/plain": [
       "        id  prediction\n",
       "0        0           0\n",
       "1        1           1\n",
       "2        2           0\n",
       "3        3           1\n",
       "4        4           0\n",
       "...    ...         ...\n",
       "6507  6507           1\n",
       "6508  6508           1\n",
       "6509  6509           0\n",
       "6510  6510           0\n",
       "6511  6511           0\n",
       "\n",
       "[6512 rows x 2 columns]"
      ]
     },
     "execution_count": 58,
     "metadata": {},
     "output_type": "execute_result"
    }
   ],
   "source": [
    "submit"
   ]
  },
  {
   "cell_type": "code",
   "execution_count": 59,
   "id": "b3e0b4cd",
   "metadata": {
    "execution": {
     "iopub.execute_input": "2022-06-17T17:54:14.146068Z",
     "iopub.status.busy": "2022-06-17T17:54:14.145484Z",
     "iopub.status.idle": "2022-06-17T17:54:14.159658Z",
     "shell.execute_reply": "2022-06-17T17:54:14.158993Z"
    },
    "papermill": {
     "duration": 0.040772,
     "end_time": "2022-06-17T17:54:14.161308",
     "exception": false,
     "start_time": "2022-06-17T17:54:14.120536",
     "status": "completed"
    },
    "tags": []
   },
   "outputs": [],
   "source": [
    "submit.to_csv('submission.csv', index=False)"
   ]
  }
 ],
 "metadata": {
  "kernelspec": {
   "display_name": "Python 3",
   "language": "python",
   "name": "python3"
  },
  "language_info": {
   "codemirror_mode": {
    "name": "ipython",
    "version": 3
   },
   "file_extension": ".py",
   "mimetype": "text/x-python",
   "name": "python",
   "nbconvert_exporter": "python",
   "pygments_lexer": "ipython3",
   "version": "3.7.12"
  },
  "papermill": {
   "default_parameters": {},
   "duration": 88.76313,
   "end_time": "2022-06-17T17:54:15.505776",
   "environment_variables": {},
   "exception": null,
   "input_path": "__notebook__.ipynb",
   "output_path": "__notebook__.ipynb",
   "parameters": {},
   "start_time": "2022-06-17T17:52:46.742646",
   "version": "2.3.4"
  }
 },
 "nbformat": 4,
 "nbformat_minor": 5
}
